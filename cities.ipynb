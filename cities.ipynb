{
 "cells": [
  {
   "cell_type": "code",
   "execution_count": 1,
   "metadata": {
    "vscode": {
     "languageId": "shellscript"
    }
   },
   "outputs": [
    {
     "name": "stdout",
     "output_type": "stream",
     "text": [
      "Bergen,Norway Paris,France Turin,Italy Bordeaux,France\n"
     ]
    }
   ],
   "source": [
    "#assigning the values of the array to the variable cities_array\n",
    "cities_array=(Bergen,Norway Paris,France Turin,Italy Bordeaux,France)\n",
    "#check the array has been assigned properly\n",
    "echo \"${cities_array[@]}\""
   ]
  },
  {
   "cell_type": "code",
   "execution_count": 4,
   "metadata": {
    "vscode": {
     "languageId": "shellscript"
    }
   },
   "outputs": [
    {
     "name": "stdout",
     "output_type": "stream",
     "text": [
      "x\n"
     ]
    }
   ],
   "source": [
    "#create a loop that iterates over cities_array and print it\n",
    "for x in $cities_array; do echo \"x\"; done\n"
   ]
  },
  {
   "cell_type": "code",
   "execution_count": 9,
   "metadata": {
    "vscode": {
     "languageId": "shellscript"
    }
   },
   "outputs": [],
   "source": [
    "#to create a file with >\n",
    "echo \"Bergen,Norway\" > cities.csv\n",
    "echo \"Paris,France\" >> cities.csv\n",
    "echo \"Turin,Italy\" >> cities.csv\n",
    "echo \"Bordeaux,France\" >> cities.csv\n",
    "echo \"Rome,Italy\" >> cities2.csv"
   ]
  },
  {
   "cell_type": "code",
   "execution_count": 10,
   "metadata": {
    "vscode": {
     "languageId": "shellscript"
    }
   },
   "outputs": [
    {
     "name": "stdout",
     "output_type": "stream",
     "text": [
      "Rome,Italy\n"
     ]
    }
   ],
   "source": [
    "cat cities2.csv"
   ]
  },
  {
   "cell_type": "code",
   "execution_count": 12,
   "metadata": {
    "vscode": {
     "languageId": "shellscript"
    }
   },
   "outputs": [
    {
     "name": "stdout",
     "output_type": "stream",
     "text": [
      "Bergen,Norway\n",
      "Paris,France\n",
      "Turin,Italy\n",
      "Bordeaux,France\n",
      "Bergen,Norway\n",
      "Paris,France\n",
      "Turin,Italy\n",
      "Bordeaux,France\n"
     ]
    }
   ],
   "source": [
    "for i in ${cities_array[@]}; do echo \"$i\" >> cities3.csv; done\n",
    "cat cities3.csv"
   ]
  },
  {
   "cell_type": "code",
   "execution_count": 15,
   "metadata": {
    "vscode": {
     "languageId": "shellscript"
    }
   },
   "outputs": [
    {
     "name": "stdout",
     "output_type": "stream",
     "text": [
      "The student comes from Bergen,Norway\n",
      "The student comes from Paris,France\n",
      "The student comes from Turin,Italy\n",
      "The student comes from Bordeaux,France\n",
      "The student comes from Bergen,Norway\n",
      "The student comes from Paris,France\n",
      "The student comes from Turin,Italy\n",
      "The student comes from Bordeaux,France\n"
     ]
    }
   ],
   "source": [
    "#while is for the loop \n",
    "while read line\n",
    "do \n",
    "    echo \"The student comes from $line\"\n",
    "done < cities3.csv"
   ]
  },
  {
   "cell_type": "code",
   "execution_count": 16,
   "metadata": {
    "vscode": {
     "languageId": "shellscript"
    }
   },
   "outputs": [
    {
     "name": "stdout",
     "output_type": "stream",
     "text": [
      "  % Total    % Received % Xferd  Average Speed   Time    Time     Time  Current\n",
      "                                 Dload  Upload   Total   Spent    Left  Speed\n",
      "100   953  100   953    0     0   1534      0 --:--:-- --:--:-- --:--:--  1532\n"
     ]
    }
   ],
   "source": [
    "curl \"https://nominatim.openstreetmap.org/search?q=Bordeaux,France&format=json\" | jq '.[] | {lat, lon, addresstype}' > bordeaux.json"
   ]
  },
  {
   "cell_type": "code",
   "execution_count": 1,
   "metadata": {
    "vscode": {
     "languageId": "shellscript"
    }
   },
   "outputs": [
    {
     "name": "stdout",
     "output_type": "stream",
     "text": [
      "The student comes from Bergen,Norway\n",
      "The student comes from Paris,France\n",
      "The student comes from Turin,Italy\n",
      "The student comes from Bordeaux,France\n",
      "The student comes from Bergen,Norway\n",
      "The student comes from Paris,France\n",
      "The student comes from Turin,Italy\n",
      "The student comes from Bordeaux,France\n",
      "  % Total    % Received % Xferd  Average Speed   Time    Time     Time  Current\n",
      "                                 Dload  Upload   Total   Spent    Left  Speed\n",
      "100   953  100   953    0     0   1634      0 --:--:-- --:--:-- --:--:--  1631\n",
      "\u001b[0;32m\"\\\"44.841225\\\",\\\"-0.5800364\\\",\\\"city\\\"\"\u001b[0m\n",
      "\u001b[0;32m\"\\\"44.79384015\\\",\\\"-0.6063085906819762\\\",\\\"municipality\\\"\"\u001b[0m\n"
     ]
    }
   ],
   "source": [
    "while read line\n",
    "do \n",
    "    echo \"The student comes from $line\"\n",
    "done < cities3.csv\n",
    "curl \"https://nominatim.openstreetmap.org/search?q=Bordeaux,France&format=json\" | jq '.[] | [.lat, .lon, .addresstype] | @csv'"
   ]
  },
  {
   "cell_type": "code",
   "execution_count": 5,
   "metadata": {
    "vscode": {
     "languageId": "shellscript"
    }
   },
   "outputs": [],
   "source": [
    "while read line\n",
    "do \n",
    "    curl -s \"https://nominatim.openstreetmap.org/search?q=$line&format=json\" | jq '.[] | [.lat, .lon, .addresstype] | @csv' \n",
    "done < cities3.csv >> cities4.csv\n"
   ]
  },
  {
   "cell_type": "code",
   "execution_count": 7,
   "metadata": {
    "vscode": {
     "languageId": "shellscript"
    }
   },
   "outputs": [
    {
     "name": "stdout",
     "output_type": "stream",
     "text": [
      "\"\\\"60.3943055\\\",\\\"5.3259192\\\",\\\"municipality\\\"\"\n",
      "\"\\\"48.8588897\\\",\\\"2.3200410217200766\\\",\\\"suburb\\\"\"\n",
      "\"\\\"48.8534951\\\",\\\"2.3483915\\\",\\\"city\\\"\"\n",
      "\"\\\"48.8588897\\\",\\\"2.3200410217200766\\\",\\\"city_district\\\"\"\n",
      "\"\\\"45.0677551\\\",\\\"7.6824892\\\",\\\"city\\\"\"\n",
      "\"\\\"45.15803915\\\",\\\"7.512363054694468\\\",\\\"county\\\"\"\n",
      "\"\\\"44.841225\\\",\\\"-0.5800364\\\",\\\"city\\\"\"\n",
      "\"\\\"44.79384015\\\",\\\"-0.6063085906819762\\\",\\\"municipality\\\"\"\n",
      "\"\\\"60.3943055\\\",\\\"5.3259192\\\",\\\"municipality\\\"\"\n",
      "\"\\\"48.8588897\\\",\\\"2.3200410217200766\\\",\\\"suburb\\\"\"\n",
      "\"\\\"48.8534951\\\",\\\"2.3483915\\\",\\\"city\\\"\"\n",
      "\"\\\"48.8588897\\\",\\\"2.3200410217200766\\\",\\\"city_district\\\"\"\n",
      "\"\\\"45.0677551\\\",\\\"7.6824892\\\",\\\"city\\\"\"\n",
      "\"\\\"45.15803915\\\",\\\"7.512363054694468\\\",\\\"county\\\"\"\n",
      "\"\\\"44.841225\\\",\\\"-0.5800364\\\",\\\"city\\\"\"\n",
      "\"\\\"44.79384015\\\",\\\"-0.6063085906819762\\\",\\\"municipality\\\"\"\n"
     ]
    }
   ],
   "source": [
    "cat cities4.csv"
   ]
  },
  {
   "cell_type": "code",
   "execution_count": 9,
   "metadata": {
    "vscode": {
     "languageId": "shellscript"
    }
   },
   "outputs": [
    {
     "name": "stdout",
     "output_type": "stream",
     "text": [
      "\u001b[0;32m\"\\\"60.3943055\\\",\\\"5.3259192\\\",\\\"municipality\\\"\"\u001b[0m\n",
      "\u001b[0;32m\"\\\"48.8588897\\\",\\\"2.3200410217200766\\\",\\\"suburb\\\"\"\u001b[0m\n",
      "\u001b[0;32m\"\\\"48.8534951\\\",\\\"2.3483915\\\",\\\"city\\\"\"\u001b[0m\n",
      "\u001b[0;32m\"\\\"48.8588897\\\",\\\"2.3200410217200766\\\",\\\"city_district\\\"\"\u001b[0m\n",
      "\u001b[0;32m\"\\\"45.0677551\\\",\\\"7.6824892\\\",\\\"city\\\"\"\u001b[0m\n",
      "\u001b[0;32m\"\\\"45.15803915\\\",\\\"7.512363054694468\\\",\\\"county\\\"\"\u001b[0m\n",
      "\u001b[0;32m\"\\\"44.841225\\\",\\\"-0.5800364\\\",\\\"city\\\"\"\u001b[0m\n",
      "\u001b[0;32m\"\\\"44.79384015\\\",\\\"-0.6063085906819762\\\",\\\"municipality\\\"\"\u001b[0m\n",
      "\u001b[0;32m\"\\\"60.3943055\\\",\\\"5.3259192\\\",\\\"municipality\\\"\"\u001b[0m\n",
      "\u001b[0;32m\"\\\"48.8588897\\\",\\\"2.3200410217200766\\\",\\\"suburb\\\"\"\u001b[0m\n",
      "\u001b[0;32m\"\\\"48.8534951\\\",\\\"2.3483915\\\",\\\"city\\\"\"\u001b[0m\n",
      "\u001b[0;32m\"\\\"48.8588897\\\",\\\"2.3200410217200766\\\",\\\"city_district\\\"\"\u001b[0m\n",
      "\u001b[0;32m\"\\\"45.0677551\\\",\\\"7.6824892\\\",\\\"city\\\"\"\u001b[0m\n",
      "\u001b[0;32m\"\\\"45.15803915\\\",\\\"7.512363054694468\\\",\\\"county\\\"\"\u001b[0m\n",
      "\u001b[0;32m\"\\\"44.841225\\\",\\\"-0.5800364\\\",\\\"city\\\"\"\u001b[0m\n",
      "\u001b[0;32m\"\\\"44.79384015\\\",\\\"-0.6063085906819762\\\",\\\"municipality\\\"\"\u001b[0m\n"
     ]
    }
   ],
   "source": [
    "while read line\n",
    "do\n",
    "    curl -s \"https://nominatim.openstreetmap.org/search?q=${line//  /+}&format=json\" | jq '.[] | [.lat, .lon, .addresstype] | @csv' \n",
    "done < cities3.csv"
   ]
  },
  {
   "cell_type": "code",
   "execution_count": null,
   "metadata": {
    "vscode": {
     "languageId": "shellscript"
    }
   },
   "outputs": [],
   "source": []
  },
  {
   "cell_type": "code",
   "execution_count": 1,
   "metadata": {
    "vscode": {
     "languageId": "shellscript"
    }
   },
   "outputs": [
    {
     "name": "stdout",
     "output_type": "stream",
     "text": [
      "lat,lon,type,name\n"
     ]
    }
   ],
   "source": [
    "echo \"lat,lon,type,name\"\n",
    "while read line\n",
    "do\n",
    "    result=$(curl -s \"https://nominatim.openstreetmap.org/search?q=${line// /+)&format=json\" | jq '.[] | [.lat, .lon, .addresstype] | @csv' \n",
    "    result2=$(echo \"$result//\\\"/}\") \n",
    "    echo \"{$result2//||/}\"\n",
    "done < cities3.csv"
   ]
  }
 ],
 "metadata": {
  "kernelspec": {
   "display_name": "Bash",
   "language": "bash",
   "name": "bash"
  },
  "language_info": {
   "codemirror_mode": "shell",
   "file_extension": ".sh",
   "mimetype": "text/x-sh",
   "name": "bash"
  }
 },
 "nbformat": 4,
 "nbformat_minor": 2
}
