{
 "cells": [
  {
   "cell_type": "markdown",
   "metadata": {},
   "source": [
    "#List of hospitals from Venezuela"
   ]
  },
  {
   "cell_type": "code",
   "execution_count": 20,
   "metadata": {
    "vscode": {
     "languageId": "shellscript"
    }
   },
   "outputs": [
    {
     "name": "stdout",
     "output_type": "stream",
     "text": [
      "Hospital,Cities,Country\n"
     ]
    }
   ],
   "source": [
    "echo \"Hospital,Cities,Country\" > hospital.csv\n",
    "for i in ${hospital_array[@]}; do echo \"$i\" >> hospital.csv; done\n",
    "cat hospital.csv"
   ]
  },
  {
   "cell_type": "code",
   "execution_count": 17,
   "metadata": {
    "vscode": {
     "languageId": "shellscript"
    }
   },
   "outputs": [
    {
     "name": "stdout",
     "output_type": "stream",
     "text": [
      "lat, lon, type, name\n"
     ]
    },
    {
     "name": "stdout",
     "output_type": "stream",
     "text": [
      "bash: hopsital.csv: No such file or directory\n"
     ]
    },
    {
     "ename": "",
     "evalue": "1",
     "output_type": "error",
     "traceback": []
    }
   ],
   "source": [
    "\n",
    "# Encabezados del archivo CSV\n",
    "echo \"lat, lon, type, name\"\n",
    "\n",
    "# Obtener datos del enlace y guardar en el archivo CSV\n",
    "while read line\n",
    "do\n",
    "    data=$(curl -s \"https://nominatim.openstreetmap.org/search?q=hospital,venezuela${line// /+}&format=json\" | jq '.[] | [.lat, .lon, .addresstype, .name] |@csv')\n",
    "    echo \"${data}\" >> hospital.csv\n",
    "done < hopsital.csv\n",
    "\n",
    "#echo \"Datos importados y guardados en hospital.csv\"\n",
    "\n"
   ]
  },
  {
   "cell_type": "code",
   "execution_count": 14,
   "metadata": {
    "vscode": {
     "languageId": "shellscript"
    }
   },
   "outputs": [
    {
     "name": "stdout",
     "output_type": "stream",
     "text": [
      "  % Total    % Received % Xferd  Average Speed   Time    Time     Time  Current\n",
      "                                 Dload  Upload   Total   Spent    Left  Speed\n",
      "\r"
     ]
    },
    {
     "name": "stdout",
     "output_type": "stream",
     "text": [
      "100  3145  100  3145    0     0  13793      0 --:--:-- --:--:-- --:--:-- 13733\n",
      "\u001b[1;39m[\n",
      "  \u001b[1;39m{\n",
      "    \u001b[0m\u001b[34;1m\"place_id\"\u001b[0m\u001b[1;39m: \u001b[0m\u001b[0;39m46991487\u001b[0m\u001b[1;39m,\n",
      "    \u001b[0m\u001b[34;1m\"licence\"\u001b[0m\u001b[1;39m: \u001b[0m\u001b[0;32m\"Data © OpenStreetMap contributors, ODbL 1.0. http://osm.org/copyright\"\u001b[0m\u001b[1;39m,\n",
      "    \u001b[0m\u001b[34;1m\"osm_type\"\u001b[0m\u001b[1;39m: \u001b[0m\u001b[0;32m\"way\"\u001b[0m\u001b[1;39m,\n",
      "    \u001b[0m\u001b[34;1m\"osm_id\"\u001b[0m\u001b[1;39m: \u001b[0m\u001b[0;39m343372427\u001b[0m\u001b[1;39m,\n",
      "    \u001b[0m\u001b[34;1m\"lat\"\u001b[0m\u001b[1;39m: \u001b[0m\u001b[0;32m\"-32.4220811\"\u001b[0m\u001b[1;39m,\n",
      "    \u001b[0m\u001b[34;1m\"lon\"\u001b[0m\u001b[1;39m: \u001b[0m\u001b[0;32m\"-63.7273531\"\u001b[0m\u001b[1;39m,\n",
      "    \u001b[0m\u001b[34;1m\"class\"\u001b[0m\u001b[1;39m: \u001b[0m\u001b[0;32m\"highway\"\u001b[0m\u001b[1;39m,\n",
      "    \u001b[0m\u001b[34;1m\"type\"\u001b[0m\u001b[1;39m: \u001b[0m\u001b[0;32m\"residential\"\u001b[0m\u001b[1;39m,\n",
      "    \u001b[0m\u001b[34;1m\"place_rank\"\u001b[0m\u001b[1;39m: \u001b[0m\u001b[0;39m26\u001b[0m\u001b[1;39m,\n",
      "    \u001b[0m\u001b[34;1m\"importance\"\u001b[0m\u001b[1;39m: \u001b[0m\u001b[0;39m0.10000999999999993\u001b[0m\u001b[1;39m,\n",
      "    \u001b[0m\u001b[34;1m\"addresstype\"\u001b[0m\u001b[1;39m: \u001b[0m\u001b[0;32m\"road\"\u001b[0m\u001b[1;39m,\n",
      "    \u001b[0m\u001b[34;1m\"name\"\u001b[0m\u001b[1;39m: \u001b[0m\u001b[0;32m\"Venezuela\"\u001b[0m\u001b[1;39m,\n",
      "    \u001b[0m\u001b[34;1m\"display_name\"\u001b[0m\u001b[1;39m: \u001b[0m\u001b[0;32m\"Venezuela, Hospital, Hernando, Municipio de Hernando, Pedanía Punta del Agua, Departamento Tercero Arriba, Córdoba, X5980, Argentina\"\u001b[0m\u001b[1;39m,\n",
      "    \u001b[0m\u001b[34;1m\"boundingbox\"\u001b[0m\u001b[1;39m: \u001b[0m\u001b[1;39m[\n",
      "      \u001b[0;32m\"-32.4224309\"\u001b[0m\u001b[1;39m,\n",
      "      \u001b[0;32m\"-32.4217219\"\u001b[0m\u001b[1;39m,\n",
      "      \u001b[0;32m\"-63.7278271\"\u001b[0m\u001b[1;39m,\n",
      "      \u001b[0;32m\"-63.7268915\"\u001b[0m\u001b[1;39m\n",
      "    \u001b[1;39m]\u001b[0m\u001b[1;39m\n",
      "  \u001b[1;39m}\u001b[0m\u001b[1;39m,\n",
      "  \u001b[1;39m{\n",
      "    \u001b[0m\u001b[34;1m\"place_id\"\u001b[0m\u001b[1;39m: \u001b[0m\u001b[0;39m298944452\u001b[0m\u001b[1;39m,\n",
      "    \u001b[0m\u001b[34;1m\"licence\"\u001b[0m\u001b[1;39m: \u001b[0m\u001b[0;32m\"Data © OpenStreetMap contributors, ODbL 1.0. http://osm.org/copyright\"\u001b[0m\u001b[1;39m,\n",
      "    \u001b[0m\u001b[34;1m\"osm_type\"\u001b[0m\u001b[1;39m: \u001b[0m\u001b[0;32m\"node\"\u001b[0m\u001b[1;39m,\n",
      "    \u001b[0m\u001b[34;1m\"osm_id\"\u001b[0m\u001b[1;39m: \u001b[0m\u001b[0;39m4734172221\u001b[0m\u001b[1;39m,\n",
      "    \u001b[0m\u001b[34;1m\"lat\"\u001b[0m\u001b[1;39m: \u001b[0m\u001b[0;32m\"9.2435644\"\u001b[0m\u001b[1;39m,\n",
      "    \u001b[0m\u001b[34;1m\"lon\"\u001b[0m\u001b[1;39m: \u001b[0m\u001b[0;32m\"-70.2713653\"\u001b[0m\u001b[1;39m,\n",
      "    \u001b[0m\u001b[34;1m\"class\"\u001b[0m\u001b[1;39m: \u001b[0m\u001b[0;32m\"amenity\"\u001b[0m\u001b[1;39m,\n",
      "    \u001b[0m\u001b[34;1m\"type\"\u001b[0m\u001b[1;39m: \u001b[0m\u001b[0;32m\"pharmacy\"\u001b[0m\u001b[1;39m,\n",
      "    \u001b[0m\u001b[34;1m\"place_rank\"\u001b[0m\u001b[1;39m: \u001b[0m\u001b[0;39m30\u001b[0m\u001b[1;39m,\n",
      "    \u001b[0m\u001b[34;1m\"importance\"\u001b[0m\u001b[1;39m: \u001b[0m\u001b[0;39m9.99999999995449e-06\u001b[0m\u001b[1;39m,\n",
      "    \u001b[0m\u001b[34;1m\"addresstype\"\u001b[0m\u001b[1;39m: \u001b[0m\u001b[0;32m\"amenity\"\u001b[0m\u001b[1;39m,\n",
      "    \u001b[0m\u001b[34;1m\"name\"\u001b[0m\u001b[1;39m: \u001b[0m\u001b[0;32m\"Farmacia Hospital\"\u001b[0m\u001b[1;39m,\n",
      "    \u001b[0m\u001b[34;1m\"display_name\"\u001b[0m\u001b[1;39m: \u001b[0m\u001b[0;32m\"Farmacia Hospital, T-7, Casco Central, Parroquia Boconó, Municipio Boconó, Trujillo, 3103, Venezuela\"\u001b[0m\u001b[1;39m,\n",
      "    \u001b[0m\u001b[34;1m\"boundingbox\"\u001b[0m\u001b[1;39m: \u001b[0m\u001b[1;39m[\n",
      "      \u001b[0;32m\"9.2435144\"\u001b[0m\u001b[1;39m,\n",
      "      \u001b[0;32m\"9.2436144\"\u001b[0m\u001b[1;39m,\n",
      "      \u001b[0;32m\"-70.2714153\"\u001b[0m\u001b[1;39m,\n",
      "      \u001b[0;32m\"-70.2713153\"\u001b[0m\u001b[1;39m\n",
      "    \u001b[1;39m]\u001b[0m\u001b[1;39m\n",
      "  \u001b[1;39m}\u001b[0m\u001b[1;39m,\n",
      "  \u001b[1;39m{\n",
      "    \u001b[0m\u001b[34;1m\"place_id\"\u001b[0m\u001b[1;39m: \u001b[0m\u001b[0;39m297360815\u001b[0m\u001b[1;39m,\n",
      "    \u001b[0m\u001b[34;1m\"licence\"\u001b[0m\u001b[1;39m: \u001b[0m\u001b[0;32m\"Data © OpenStreetMap contributors, ODbL 1.0. http://osm.org/copyright\"\u001b[0m\u001b[1;39m,\n",
      "    \u001b[0m\u001b[34;1m\"osm_type\"\u001b[0m\u001b[1;39m: \u001b[0m\u001b[0;32m\"node\"\u001b[0m\u001b[1;39m,\n",
      "    \u001b[0m\u001b[34;1m\"osm_id\"\u001b[0m\u001b[1;39m: \u001b[0m\u001b[0;39m2427149444\u001b[0m\u001b[1;39m,\n",
      "    \u001b[0m\u001b[34;1m\"lat\"\u001b[0m\u001b[1;39m: \u001b[0m\u001b[0;32m\"10.4840563\"\u001b[0m\u001b[1;39m,\n",
      "    \u001b[0m\u001b[34;1m\"lon\"\u001b[0m\u001b[1;39m: \u001b[0m\u001b[0;32m\"-66.9707518\"\u001b[0m\u001b[1;39m,\n",
      "    \u001b[0m\u001b[34;1m\"class\"\u001b[0m\u001b[1;39m: \u001b[0m\u001b[0;32m\"highway\"\u001b[0m\u001b[1;39m,\n",
      "    \u001b[0m\u001b[34;1m\"type\"\u001b[0m\u001b[1;39m: \u001b[0m\u001b[0;32m\"bus_stop\"\u001b[0m\u001b[1;39m,\n",
      "    \u001b[0m\u001b[34;1m\"place_rank\"\u001b[0m\u001b[1;39m: \u001b[0m\u001b[0;39m30\u001b[0m\u001b[1;39m,\n",
      "    \u001b[0m\u001b[34;1m\"importance\"\u001b[0m\u001b[1;39m: \u001b[0m\u001b[0;39m9.99999999995449e-06\u001b[0m\u001b[1;39m,\n",
      "    \u001b[0m\u001b[34;1m\"addresstype\"\u001b[0m\u001b[1;39m: \u001b[0m\u001b[0;32m\"highway\"\u001b[0m\u001b[1;39m,\n",
      "    \u001b[0m\u001b[34;1m\"name\"\u001b[0m\u001b[1;39m: \u001b[0m\u001b[0;32m\"Hospital\"\u001b[0m\u001b[1;39m,\n",
      "    \u001b[0m\u001b[34;1m\"display_name\"\u001b[0m\u001b[1;39m: \u001b[0m\u001b[0;32m\"Hospital, Avenida Principal de El Algodonal, Urbanización El Algodonal, Carapita, Caracas, Parroquia Antímano, Municipio Libertador, Distrito Capital, 1020, Venezuela\"\u001b[0m\u001b[1;39m,\n",
      "    \u001b[0m\u001b[34;1m\"boundingbox\"\u001b[0m\u001b[1;39m: \u001b[0m\u001b[1;39m[\n",
      "      \u001b[0;32m\"10.4840063\"\u001b[0m\u001b[1;39m,\n",
      "      \u001b[0;32m\"10.4841063\"\u001b[0m\u001b[1;39m,\n",
      "      \u001b[0;32m\"-66.9708018\"\u001b[0m\u001b[1;39m,\n",
      "      \u001b[0;32m\"-66.9707018\"\u001b[0m\u001b[1;39m\n",
      "    \u001b[1;39m]\u001b[0m\u001b[1;39m\n",
      "  \u001b[1;39m}\u001b[0m\u001b[1;39m,\n",
      "  \u001b[1;39m{\n",
      "    \u001b[0m\u001b[34;1m\"place_id\"\u001b[0m\u001b[1;39m: \u001b[0m\u001b[0;39m290361038\u001b[0m\u001b[1;39m,\n",
      "    \u001b[0m\u001b[34;1m\"licence\"\u001b[0m\u001b[1;39m: \u001b[0m\u001b[0;32m\"Data © OpenStreetMap contributors, ODbL 1.0. http://osm.org/copyright\"\u001b[0m\u001b[1;39m,\n",
      "    \u001b[0m\u001b[34;1m\"osm_type\"\u001b[0m\u001b[1;39m: \u001b[0m\u001b[0;32m\"node\"\u001b[0m\u001b[1;39m,\n",
      "    \u001b[0m\u001b[34;1m\"osm_id\"\u001b[0m\u001b[1;39m: \u001b[0m\u001b[0;39m9687113485\u001b[0m\u001b[1;39m,\n",
      "    \u001b[0m\u001b[34;1m\"lat\"\u001b[0m\u001b[1;39m: \u001b[0m\u001b[0;32m\"9.7409864\"\u001b[0m\u001b[1;39m,\n",
      "    \u001b[0m\u001b[34;1m\"lon\"\u001b[0m\u001b[1;39m: \u001b[0m\u001b[0;32m\"-63.1989422\"\u001b[0m\u001b[1;39m,\n",
      "    \u001b[0m\u001b[34;1m\"class\"\u001b[0m\u001b[1;39m: \u001b[0m\u001b[0;32m\"highway\"\u001b[0m\u001b[1;39m,\n",
      "    \u001b[0m\u001b[34;1m\"type\"\u001b[0m\u001b[1;39m: \u001b[0m\u001b[0;32m\"bus_stop\"\u001b[0m\u001b[1;39m,\n",
      "    \u001b[0m\u001b[34;1m\"place_rank\"\u001b[0m\u001b[1;39m: \u001b[0m\u001b[0;39m30\u001b[0m\u001b[1;39m,\n",
      "    \u001b[0m\u001b[34;1m\"importance\"\u001b[0m\u001b[1;39m: \u001b[0m\u001b[0;39m9.99999999995449e-06\u001b[0m\u001b[1;39m,\n",
      "    \u001b[0m\u001b[34;1m\"addresstype\"\u001b[0m\u001b[1;39m: \u001b[0m\u001b[0;32m\"highway\"\u001b[0m\u001b[1;39m,\n",
      "    \u001b[0m\u001b[34;1m\"name\"\u001b[0m\u001b[1;39m: \u001b[0m\u001b[0;32m\"Hospital\"\u001b[0m\u001b[1;39m,\n",
      "    \u001b[0m\u001b[34;1m\"display_name\"\u001b[0m\u001b[1;39m: \u001b[0m\u001b[0;32m\"Hospital, Avenida Bicentenario, Alberto Ravell, Maturín, Parroquia San Simón, Municipio Maturín, Monagas, 6201, Venezuela\"\u001b[0m\u001b[1;39m,\n",
      "    \u001b[0m\u001b[34;1m\"boundingbox\"\u001b[0m\u001b[1;39m: \u001b[0m\u001b[1;39m[\n",
      "      \u001b[0;32m\"9.7409364\"\u001b[0m\u001b[1;39m,\n",
      "      \u001b[0;32m\"9.7410364\"\u001b[0m\u001b[1;39m,\n",
      "      \u001b[0;32m\"-63.1989922\"\u001b[0m\u001b[1;39m,\n",
      "      \u001b[0;32m\"-63.1988922\"\u001b[0m\u001b[1;39m\n",
      "    \u001b[1;39m]\u001b[0m\u001b[1;39m\n",
      "  \u001b[1;39m}\u001b[0m\u001b[1;39m,\n",
      "  \u001b[1;39m{\n",
      "    \u001b[0m\u001b[34;1m\"place_id\"\u001b[0m\u001b[1;39m: \u001b[0m\u001b[0;39m298046613\u001b[0m\u001b[1;39m,\n",
      "    \u001b[0m\u001b[34;1m\"licence\"\u001b[0m\u001b[1;39m: \u001b[0m\u001b[0;32m\"Data © OpenStreetMap contributors, ODbL 1.0. http://osm.org/copyright\"\u001b[0m\u001b[1;39m,\n",
      "    \u001b[0m\u001b[34;1m\"osm_type\"\u001b[0m\u001b[1;39m: \u001b[0m\u001b[0;32m\"node\"\u001b[0m\u001b[1;39m,\n",
      "    \u001b[0m\u001b[34;1m\"osm_id\"\u001b[0m\u001b[1;39m: \u001b[0m\u001b[0;39m9795180399\u001b[0m\u001b[1;39m,\n",
      "    \u001b[0m\u001b[34;1m\"lat\"\u001b[0m\u001b[1;39m: \u001b[0m\u001b[0;32m\"10.2193618\"\u001b[0m\u001b[1;39m,\n",
      "    \u001b[0m\u001b[34;1m\"lon\"\u001b[0m\u001b[1;39m: \u001b[0m\u001b[0;32m\"-64.6369145\"\u001b[0m\u001b[1;39m,\n",
      "    \u001b[0m\u001b[34;1m\"class\"\u001b[0m\u001b[1;39m: \u001b[0m\u001b[0;32m\"highway\"\u001b[0m\u001b[1;39m,\n",
      "    \u001b[0m\u001b[34;1m\"type\"\u001b[0m\u001b[1;39m: \u001b[0m\u001b[0;32m\"bus_stop\"\u001b[0m\u001b[1;39m,\n",
      "    \u001b[0m\u001b[34;1m\"place_rank\"\u001b[0m\u001b[1;39m: \u001b[0m\u001b[0;39m30\u001b[0m\u001b[1;39m,\n",
      "    \u001b[0m\u001b[34;1m\"importance\"\u001b[0m\u001b[1;39m: \u001b[0m\u001b[0;39m9.99999999995449e-06\u001b[0m\u001b[1;39m,\n",
      "    \u001b[0m\u001b[34;1m\"addresstype\"\u001b[0m\u001b[1;39m: \u001b[0m\u001b[0;32m\"highway\"\u001b[0m\u001b[1;39m,\n",
      "    \u001b[0m\u001b[34;1m\"name\"\u001b[0m\u001b[1;39m: \u001b[0m\u001b[0;32m\"Hospital\"\u001b[0m\u001b[1;39m,\n",
      "    \u001b[0m\u001b[34;1m\"display_name\"\u001b[0m\u001b[1;39m: \u001b[0m\u001b[0;32m\"Hospital, Calle Juncal, Centro, Puerto La Cruz, Parroquia La Cruz, Municipio Sotillo, Anzoátegui, 6023, Venezuela\"\u001b[0m\u001b[1;39m,\n",
      "    \u001b[0m\u001b[34;1m\"boundingbox\"\u001b[0m\u001b[1;39m: \u001b[0m\u001b[1;39m[\n",
      "      \u001b[0;32m\"10.2193118\"\u001b[0m\u001b[1;39m,\n",
      "      \u001b[0;32m\"10.2194118\"\u001b[0m\u001b[1;39m,\n",
      "      \u001b[0;32m\"-64.6369645\"\u001b[0m\u001b[1;39m,\n",
      "      \u001b[0;32m\"-64.6368645\"\u001b[0m\u001b[1;39m\n",
      "    \u001b[1;39m]\u001b[0m\u001b[1;39m\n",
      "  \u001b[1;39m}\u001b[0m\u001b[1;39m,\n",
      "  \u001b[1;39m{\n",
      "    \u001b[0m\u001b[34;1m\"place_id\"\u001b[0m\u001b[1;39m: \u001b[0m\u001b[0;39m299139562\u001b[0m\u001b[1;39m,\n",
      "    \u001b[0m\u001b[34;1m\"licence\"\u001b[0m\u001b[1;39m: \u001b[0m\u001b[0;32m\"Data © OpenStreetMap contributors, ODbL 1.0. http://osm.org/copyright\"\u001b[0m\u001b[1;39m,\n",
      "    \u001b[0m\u001b[34;1m\"osm_type\"\u001b[0m\u001b[1;39m: \u001b[0m\u001b[0;32m\"node\"\u001b[0m\u001b[1;39m,\n",
      "    \u001b[0m\u001b[34;1m\"osm_id\"\u001b[0m\u001b[1;39m: \u001b[0m\u001b[0;39m871570897\u001b[0m\u001b[1;39m,\n",
      "    \u001b[0m\u001b[34;1m\"lat\"\u001b[0m\u001b[1;39m: \u001b[0m\u001b[0;32m\"10.4041837\"\u001b[0m\u001b[1;39m,\n",
      "    \u001b[0m\u001b[34;1m\"lon\"\u001b[0m\u001b[1;39m: \u001b[0m\u001b[0;32m\"-67.2855308\"\u001b[0m\u001b[1;39m,\n",
      "    \u001b[0m\u001b[34;1m\"class\"\u001b[0m\u001b[1;39m: \u001b[0m\u001b[0;32m\"amenity\"\u001b[0m\u001b[1;39m,\n",
      "    \u001b[0m\u001b[34;1m\"type\"\u001b[0m\u001b[1;39m: \u001b[0m\u001b[0;32m\"hospital\"\u001b[0m\u001b[1;39m,\n",
      "    \u001b[0m\u001b[34;1m\"place_rank\"\u001b[0m\u001b[1;39m: \u001b[0m\u001b[0;39m30\u001b[0m\u001b[1;39m,\n",
      "    \u001b[0m\u001b[34;1m\"importance\"\u001b[0m\u001b[1;39m: \u001b[0m\u001b[0;39m9.99999999995449e-06\u001b[0m\u001b[1;39m,\n",
      "    \u001b[0m\u001b[34;1m\"addresstype\"\u001b[0m\u001b[1;39m: \u001b[0m\u001b[0;32m\"amenity\"\u001b[0m\u001b[1;39m,\n",
      "    \u001b[0m\u001b[34;1m\"name\"\u001b[0m\u001b[1;39m: \u001b[0m\u001b[0;32m\"Hospital\"\u001b[0m\u001b[1;39m,\n",
      "    \u001b[0m\u001b[34;1m\"display_name\"\u001b[0m\u001b[1;39m: \u001b[0m\u001b[0;32m\"Hospital, Vía a Capachalito, Medicatura, Colonia Tovar, Parroquia Tovar, Municipio Tovar, 1030, Venezuela\"\u001b[0m\u001b[1;39m,\n",
      "    \u001b[0m\u001b[34;1m\"boundingbox\"\u001b[0m\u001b[1;39m: \u001b[0m\u001b[1;39m[\n",
      "      \u001b[0;32m\"10.4041337\"\u001b[0m\u001b[1;39m,\n",
      "      \u001b[0;32m\"10.4042337\"\u001b[0m\u001b[1;39m,\n",
      "      \u001b[0;32m\"-67.2855808\"\u001b[0m\u001b[1;39m,\n",
      "      \u001b[0;32m\"-67.2854808\"\u001b[0m\u001b[1;39m\n",
      "    \u001b[1;39m]\u001b[0m\u001b[1;39m\n",
      "  \u001b[1;39m}\u001b[0m\u001b[1;39m\n",
      "\u001b[1;39m]\u001b[0m\n"
     ]
    }
   ],
   "source": [
    "curl \"https://nominatim.openstreetmap.org/search?q=hospital,venezuela&format=json\" | jq\n",
    "\n",
    "#https://nominatim.openstreetmap.org/search?q=${line// /+}&format=json"
   ]
  },
  {
   "cell_type": "code",
   "execution_count": 1,
   "metadata": {
    "vscode": {
     "languageId": "shellscript"
    }
   },
   "outputs": [
    {
     "name": "stdout",
     "output_type": "stream",
     "text": [
      "bash: hospital.csv: No such file or directory\n"
     ]
    },
    {
     "ename": "",
     "evalue": "1",
     "output_type": "error",
     "traceback": []
    }
   ],
   "source": [
    "#Curl \n",
    "while read line\n",
    "do\n",
    "    curl \"https://data.humdata.org/dataset/venezuelan-hospital-national-survey$line&format=json\" | jq '.[] | [.ciudad, .Tipo_de_hospital, .nombre_de_tu_hospital, .camas ] |@csv'\n",
    "    \n",
    "done < hospital.csv "
   ]
  }
 ],
 "metadata": {
  "kernelspec": {
   "display_name": "Bash",
   "language": "bash",
   "name": "bash"
  },
  "language_info": {
   "codemirror_mode": "shell",
   "file_extension": ".sh",
   "mimetype": "text/x-sh",
   "name": "bash"
  }
 },
 "nbformat": 4,
 "nbformat_minor": 2
}
