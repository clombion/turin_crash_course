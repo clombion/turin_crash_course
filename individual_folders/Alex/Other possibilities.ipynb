# To create a key, you first need to create a profile. 
# Once you have created a profile, you can proceed to generate your key in "My API keys".

curl "https://api.openweathermap.org/data/2.5/weather?q=Manila&appid=d0a3aaefcaefe2907ff4ca586e3d280a"


curl -X GET https://api.worldpop.org/v1/services | jq


# Realiza la solicitud GET a la API y guarda la respuesta en un archivo llamado response.json
curl -s "https://services1.arcgis.com/38fAqAZVRCrVtPUU/arcgis/rest/services/HomelessProject_Map_Services/FeatureServer/4?f=json" -o response.json

# Utiliza jq para analizar la respuesta y extraer la información relevante, por ejemplo, puedes imprimir los nombres de los sitios de personas sin hogar
jq '.fields[].alias' response.json


#!/bin/bash

# Definir la URL de la API
API_URL="https://services1.arcgis.com/38fAqAZVRCrVtPUU/arcgis/rest/services/HomelessProject_Map_Services/FeatureServer/4/query"

# Definir los parámetros de la consulta
PARAMS="where=1%3D1&outFields=Name,Address&f=json"

# Realizar la solicitud GET a la API y guardar la respuesta en un archivo temporal
curl -s "$API_URL?$PARAMS" -o response.json

# Procesar la respuesta JSON para extraer la información de localización
locations=$(jq -r '.features[] | .attributes | "\(.Name) - \(.Address)"' response.json)

# Imprimir las localizaciones obtenidas
echo "Localizaciones de personas sin hogar:"
echo "$locations"

# Eliminar el archivo temporal de la respuesta
rm response.json