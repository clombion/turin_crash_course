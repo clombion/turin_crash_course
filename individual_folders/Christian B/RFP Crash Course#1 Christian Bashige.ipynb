{
  "metadata": {
    "kernelspec": {
      "name": "python",
      "display_name": "Python (Pyodide)",
      "language": "python"
    },
    "language_info": {
      "name": ""
    }
  },
  "nbformat_minor": 4,
  "nbformat": 4,
  "cells": [
    {
      "cell_type": "code",
      "source": "URBAN HEAT ISLAND (UHI):\nRequest for Proposals (RFP): Mitigating Urban Heat Islands for Vulnerable Populations in Developing Countries\n\n\nA Case Study of Nairobi - Kenya.\nby\nChristian Serge BASHIGE\n1138451 - BSHCRS84A23Z312E\n\n\nMaster ICT for Development and Social Good\nUNIVERSITY OF TURIN\n\nCrash Course #1: Data in-practice, final\nassignment \nApril 28th 2\n\n\nProfessor:  \n\nCedric Lombion\t\n\nABSTRACT\n\nIn this assignment the Urban Heat Island effect is investigated and the effect of urbanization on UHI is\nanalyzed as a case study in Nairobi City. The primary aim of this study was to provide a\ncomprehensive quantification of the effect of Urbanization to the UHI effect to the urban\nplanning management. The study consisted of three parts; Analysis of Urbanization using the\nDMSP/OLS nighttime light images, investigation of UHI effect using Landsat 8 OLI/TIRS\nimages and correlation analysis between the UHI, NDVI (representing vegetated surfaces) and\nUrbanization(landuse/Landcover) to establish a relationship between the UHI effect and\nurbanization. A mono-window algorithm was used to retrieve the land surface temperature (LST)\ndistribution from the Landsat 8 images, using specifically band 10 and band 11 images. The\nspatial pattern of LST in the study area retrieved to characterize their local effects on the urban\nheat islands. In addition, the correlation between LST and the NDVI (Normalized difference\nvegetation index), Urbanization was analyzed to explore the impacts of the vegetation and\nurbanization on the urban heat island effect. The results indicate that, though not pronounced,\nthere is a distribution of heat islands in Nairobi. The negative correlation between LST and\nNDVI suggests that vegetation weakens the heat island effect, while the positive correlation\nbetween LST and Urbanization indicates that the urbanization elevates the heat island effect. The\nstudy concluded that, with the rate of urbanization, the distributed heat island, with time will\nconglomerate into a large heat island in the region. Although satellite data (e.g., Landsat 8 level\none products) can be applied effectively to examine the distribution of urban heat islands, the\nresearch still needs to be refined with in situ measurements of LST in future studies.\n\nAfter collecting the image from we have uploaded them to our GitHub repository using the method below:\n![Alt text](images/example.png)\nAnd\n\t\n![Alt text](https://example.com/path/to/image.png)\n\n\n\n\n\n\n\n\n\n\n\n\n\n\n\n\n",
      "metadata": {
        "trusted": true
      },
      "outputs": [],
      "execution_count": null
    },
    {
      "cell_type": "code",
      "source": "",
      "metadata": {
        "trusted": true
      },
      "outputs": [],
      "execution_count": null
    }
  ]
}