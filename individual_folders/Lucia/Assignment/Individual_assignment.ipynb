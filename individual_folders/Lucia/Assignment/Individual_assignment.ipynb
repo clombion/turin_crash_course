{
 "cells": [
  {
   "cell_type": "markdown",
   "metadata": {},
   "source": [
    "# RFP Project"
   ]
  },
  {
   "cell_type": "code",
   "execution_count": 2,
   "metadata": {
    "vscode": {
     "languageId": "shellscript"
    }
   },
   "outputs": [
    {
     "name": "stdout",
     "output_type": "stream",
     "text": [
      "São_Paulo,Brazil Buenos_Aires,Argentina Santiago,Chile Lima,Peru Mumbai,India Kerala,India New_Delhi,India Lagos,Nigeria Nairobi,Kenya Lusaka,Zambia\n"
     ]
    }
   ],
   "source": [
    "# assigning the values of the array to the variable cities_array\n",
    "cities_array=(São_Paulo,Brazil Buenos_Aires,Argentina Santiago,Chile Lima,Peru Mumbai,India Kerala,India New_Delhi,India Lagos,Nigeria Nairobi,Kenya Lusaka,Zambia)\n",
    "# check the array has been assigned properly\n",
    "echo \"${cities_array[@]}\""
   ]
  },
  {
   "cell_type": "code",
   "execution_count": 3,
   "metadata": {
    "vscode": {
     "languageId": "shellscript"
    }
   },
   "outputs": [
    {
     "name": "stdout",
     "output_type": "stream",
     "text": [
      "São_Paulo,Brazil\n",
      "Buenos_Aires,Argentina\n",
      "Santiago,Chile\n",
      "Lima,Peru\n",
      "Mumbai,India\n",
      "Kerala,India\n",
      "New_Delhi,India\n",
      "Lagos,Nigeria\n",
      "Nairobi,Kenya\n",
      "Lusaka,Zambia\n"
     ]
    }
   ],
   "source": [
    "# create a loop that iterates over cities_array and print it\n",
    "for x in ${cities_array[@]}\n",
    "do \n",
    "    echo \"$x\"\n",
    "done"
   ]
  },
  {
   "cell_type": "code",
   "execution_count": 4,
   "metadata": {
    "vscode": {
     "languageId": "shellscript"
    }
   },
   "outputs": [],
   "source": [
    "#Insert all the information in the file with a loop\n",
    "for i in ${cities_array[@]}\n",
    "do \n",
    "    echo \"$i\" >> RFP_Assignment.csv \n",
    "done "
   ]
  },
  {
   "cell_type": "code",
   "execution_count": 5,
   "metadata": {
    "vscode": {
     "languageId": "shellscript"
    }
   },
   "outputs": [
    {
     "name": "stdout",
     "output_type": "stream",
     "text": [
      "São_Paulo,Brazil\n",
      "Buenos_Aires,Argentina\n",
      "Santiago,Chile\n",
      "Lima,Peru\n",
      "Mumbai,India\n",
      "Kerala,India\n",
      "New_Delhi,India\n",
      "Lagos,Nigeria\n",
      "Nairobi,Kenya\n",
      "Lusaka,Zambia\n",
      "São_Paulo,Brazil\n",
      "Buenos_Aires,Argentina\n",
      "Santiago,Chile\n",
      "Lima,Peru\n",
      "Mumbai,India\n",
      "Kerala,India\n",
      "New_Delhi,India\n",
      "Lagos,Nigeria\n",
      "Nairobi,Kenya\n",
      "Lusaka,Zambia\n"
     ]
    }
   ],
   "source": [
    "# Check the file has been successfully created\n",
    "cat RFP_Assignment.csv "
   ]
  },
  {
   "cell_type": "code",
   "execution_count": 6,
   "metadata": {
    "vscode": {
     "languageId": "shellscript"
    }
   },
   "outputs": [
    {
     "name": "stdout",
     "output_type": "stream",
     "text": [
      "[{\"place_id\":382418827,\"licence\":\"Data © OpenStreetMap contributors, ODbL 1.0. http://osm.org/copyright\",\"osm_type\":\"relation\",\"osm_id\":298285,\"lat\":\"-23.5506507\",\"lon\":\"-46.6333824\",\"class\":\"boundary\",\"type\":\"administrative\",\"place_rank\":16,\"importance\":0.6861749119420276,\"addresstype\":\"municipality\",\"name\":\"São Paulo\",\"display_name\":\"São Paulo, Região Imediata de São Paulo, Região Metropolitana de São Paulo, Região Geográfica Intermediária de São Paulo, São Paulo, Região Sudeste, Brasil\",\"boundingbox\":[\"-24.0079003\",\"-23.3577551\",\"-46.8262692\",\"-46.3650898\"]},{\"place_id\":10297415,\"licence\":\"Data © OpenStreetMap contributors, ODbL 1.0. http://osm.org/copyright\",\"osm_type\":\"relation\",\"osm_id\":298204,\"lat\":\"-22.0702705\",\"lon\":\"-48.4333875\",\"class\":\"boundary\",\"type\":\"administrative\",\"place_rank\":8,\"importance\":0.6738413187081659,\"addresstype\":\"state\",\"name\":\"São Paulo\",\"display_name\":\"São Paulo, Região Sudeste, Brasil\",\"boundingbox\":[\"-25.4895759\",\"-19.7823272\",\"-53.1090000\",\"-44.1613652\"]},{\"place_id\":11604215,\"licence\":\"Data © OpenStreetMap contributors, ODbL 1.0. http://osm.org/copyright\",\"osm_type\":\"node\",\"osm_id\":5390979124,\"lat\":\"-1.2043218\",\"lon\":\"-47.1583944\",\"class\":\"place\",\"type\":\"suburb\",\"place_rank\":19,\"importance\":0.6861749119420276,\"addresstype\":\"suburb\",\"name\":\"São Paulo\",\"display_name\":\"São Paulo, Capanema, Região Geográfica Imediata de Capanema, Região Geográfica Intermediária de Castanhal, Pará, Região Norte, 68700-540, Brasil\",\"boundingbox\":[\"-1.2243218\",\"-1.1843218\",\"-47.1783944\",\"-47.1383944\"]}]\n"
     ]
    }
   ],
   "source": [
    "curl \"https://nominatim.openstreetmap.org/search?q=Sao+Paulo,Brazil&format=json\" "
   ]
  },
  {
   "cell_type": "code",
   "execution_count": 7,
   "metadata": {
    "vscode": {
     "languageId": "shellscript"
    }
   },
   "outputs": [
    {
     "name": "stdout",
     "output_type": "stream",
     "text": [
      "\u001b[1;39m[\n",
      "  \u001b[1;39m{\n",
      "    \u001b[0m\u001b[34;1m\"place_id\"\u001b[0m\u001b[1;39m: \u001b[0m\u001b[0;39m382418827\u001b[0m\u001b[1;39m,\n",
      "    \u001b[0m\u001b[34;1m\"licence\"\u001b[0m\u001b[1;39m: \u001b[0m\u001b[0;32m\"Data © OpenStreetMap contributors, ODbL 1.0. http://osm.org/copyright\"\u001b[0m\u001b[1;39m,\n",
      "    \u001b[0m\u001b[34;1m\"osm_type\"\u001b[0m\u001b[1;39m: \u001b[0m\u001b[0;32m\"relation\"\u001b[0m\u001b[1;39m,\n",
      "    \u001b[0m\u001b[34;1m\"osm_id\"\u001b[0m\u001b[1;39m: \u001b[0m\u001b[0;39m298285\u001b[0m\u001b[1;39m,\n",
      "    \u001b[0m\u001b[34;1m\"lat\"\u001b[0m\u001b[1;39m: \u001b[0m\u001b[0;32m\"-23.5506507\"\u001b[0m\u001b[1;39m,\n",
      "    \u001b[0m\u001b[34;1m\"lon\"\u001b[0m\u001b[1;39m: \u001b[0m\u001b[0;32m\"-46.6333824\"\u001b[0m\u001b[1;39m,\n",
      "    \u001b[0m\u001b[34;1m\"class\"\u001b[0m\u001b[1;39m: \u001b[0m\u001b[0;32m\"boundary\"\u001b[0m\u001b[1;39m,\n",
      "    \u001b[0m\u001b[34;1m\"type\"\u001b[0m\u001b[1;39m: \u001b[0m\u001b[0;32m\"administrative\"\u001b[0m\u001b[1;39m,\n",
      "    \u001b[0m\u001b[34;1m\"place_rank\"\u001b[0m\u001b[1;39m: \u001b[0m\u001b[0;39m16\u001b[0m\u001b[1;39m,\n",
      "    \u001b[0m\u001b[34;1m\"importance\"\u001b[0m\u001b[1;39m: \u001b[0m\u001b[0;39m0.6861749119420276\u001b[0m\u001b[1;39m,\n",
      "    \u001b[0m\u001b[34;1m\"addresstype\"\u001b[0m\u001b[1;39m: \u001b[0m\u001b[0;32m\"municipality\"\u001b[0m\u001b[1;39m,\n",
      "    \u001b[0m\u001b[34;1m\"name\"\u001b[0m\u001b[1;39m: \u001b[0m\u001b[0;32m\"São Paulo\"\u001b[0m\u001b[1;39m,\n",
      "    \u001b[0m\u001b[34;1m\"display_name\"\u001b[0m\u001b[1;39m: \u001b[0m\u001b[0;32m\"São Paulo, Região Imediata de São Paulo, Região Metropolitana de São Paulo, Região Geográfica Intermediária de São Paulo, São Paulo, Região Sudeste, Brasil\"\u001b[0m\u001b[1;39m,\n",
      "    \u001b[0m\u001b[34;1m\"boundingbox\"\u001b[0m\u001b[1;39m: \u001b[0m\u001b[1;39m[\n",
      "      \u001b[0;32m\"-24.0079003\"\u001b[0m\u001b[1;39m,\n",
      "      \u001b[0;32m\"-23.3577551\"\u001b[0m\u001b[1;39m,\n",
      "      \u001b[0;32m\"-46.8262692\"\u001b[0m\u001b[1;39m,\n",
      "      \u001b[0;32m\"-46.3650898\"\u001b[0m\u001b[1;39m\n",
      "    \u001b[1;39m]\u001b[0m\u001b[1;39m\n",
      "  \u001b[1;39m}\u001b[0m\u001b[1;39m,\n",
      "  \u001b[1;39m{\n",
      "    \u001b[0m\u001b[34;1m\"place_id\"\u001b[0m\u001b[1;39m: \u001b[0m\u001b[0;39m10297415\u001b[0m\u001b[1;39m,\n",
      "    \u001b[0m\u001b[34;1m\"licence\"\u001b[0m\u001b[1;39m: \u001b[0m\u001b[0;32m\"Data © OpenStreetMap contributors, ODbL 1.0. http://osm.org/copyright\"\u001b[0m\u001b[1;39m,\n",
      "    \u001b[0m\u001b[34;1m\"osm_type\"\u001b[0m\u001b[1;39m: \u001b[0m\u001b[0;32m\"relation\"\u001b[0m\u001b[1;39m,\n",
      "    \u001b[0m\u001b[34;1m\"osm_id\"\u001b[0m\u001b[1;39m: \u001b[0m\u001b[0;39m298204\u001b[0m\u001b[1;39m,\n",
      "    \u001b[0m\u001b[34;1m\"lat\"\u001b[0m\u001b[1;39m: \u001b[0m\u001b[0;32m\"-22.0702705\"\u001b[0m\u001b[1;39m,\n",
      "    \u001b[0m\u001b[34;1m\"lon\"\u001b[0m\u001b[1;39m: \u001b[0m\u001b[0;32m\"-48.4333875\"\u001b[0m\u001b[1;39m,\n",
      "    \u001b[0m\u001b[34;1m\"class\"\u001b[0m\u001b[1;39m: \u001b[0m\u001b[0;32m\"boundary\"\u001b[0m\u001b[1;39m,\n",
      "    \u001b[0m\u001b[34;1m\"type\"\u001b[0m\u001b[1;39m: \u001b[0m\u001b[0;32m\"administrative\"\u001b[0m\u001b[1;39m,\n",
      "    \u001b[0m\u001b[34;1m\"place_rank\"\u001b[0m\u001b[1;39m: \u001b[0m\u001b[0;39m8\u001b[0m\u001b[1;39m,\n",
      "    \u001b[0m\u001b[34;1m\"importance\"\u001b[0m\u001b[1;39m: \u001b[0m\u001b[0;39m0.6738413187081659\u001b[0m\u001b[1;39m,\n",
      "    \u001b[0m\u001b[34;1m\"addresstype\"\u001b[0m\u001b[1;39m: \u001b[0m\u001b[0;32m\"state\"\u001b[0m\u001b[1;39m,\n",
      "    \u001b[0m\u001b[34;1m\"name\"\u001b[0m\u001b[1;39m: \u001b[0m\u001b[0;32m\"São Paulo\"\u001b[0m\u001b[1;39m,\n",
      "    \u001b[0m\u001b[34;1m\"display_name\"\u001b[0m\u001b[1;39m: \u001b[0m\u001b[0;32m\"São Paulo, Região Sudeste, Brasil\"\u001b[0m\u001b[1;39m,\n",
      "    \u001b[0m\u001b[34;1m\"boundingbox\"\u001b[0m\u001b[1;39m: \u001b[0m\u001b[1;39m[\n",
      "      \u001b[0;32m\"-25.4895759\"\u001b[0m\u001b[1;39m,\n",
      "      \u001b[0;32m\"-19.7823272\"\u001b[0m\u001b[1;39m,\n",
      "      \u001b[0;32m\"-53.1090000\"\u001b[0m\u001b[1;39m,\n",
      "      \u001b[0;32m\"-44.1613652\"\u001b[0m\u001b[1;39m\n",
      "    \u001b[1;39m]\u001b[0m\u001b[1;39m\n",
      "  \u001b[1;39m}\u001b[0m\u001b[1;39m,\n",
      "  \u001b[1;39m{\n",
      "    \u001b[0m\u001b[34;1m\"place_id\"\u001b[0m\u001b[1;39m: \u001b[0m\u001b[0;39m11604215\u001b[0m\u001b[1;39m,\n",
      "    \u001b[0m\u001b[34;1m\"licence\"\u001b[0m\u001b[1;39m: \u001b[0m\u001b[0;32m\"Data © OpenStreetMap contributors, ODbL 1.0. http://osm.org/copyright\"\u001b[0m\u001b[1;39m,\n",
      "    \u001b[0m\u001b[34;1m\"osm_type\"\u001b[0m\u001b[1;39m: \u001b[0m\u001b[0;32m\"node\"\u001b[0m\u001b[1;39m,\n",
      "    \u001b[0m\u001b[34;1m\"osm_id\"\u001b[0m\u001b[1;39m: \u001b[0m\u001b[0;39m5390979124\u001b[0m\u001b[1;39m,\n",
      "    \u001b[0m\u001b[34;1m\"lat\"\u001b[0m\u001b[1;39m: \u001b[0m\u001b[0;32m\"-1.2043218\"\u001b[0m\u001b[1;39m,\n",
      "    \u001b[0m\u001b[34;1m\"lon\"\u001b[0m\u001b[1;39m: \u001b[0m\u001b[0;32m\"-47.1583944\"\u001b[0m\u001b[1;39m,\n",
      "    \u001b[0m\u001b[34;1m\"class\"\u001b[0m\u001b[1;39m: \u001b[0m\u001b[0;32m\"place\"\u001b[0m\u001b[1;39m,\n",
      "    \u001b[0m\u001b[34;1m\"type\"\u001b[0m\u001b[1;39m: \u001b[0m\u001b[0;32m\"suburb\"\u001b[0m\u001b[1;39m,\n",
      "    \u001b[0m\u001b[34;1m\"place_rank\"\u001b[0m\u001b[1;39m: \u001b[0m\u001b[0;39m19\u001b[0m\u001b[1;39m,\n",
      "    \u001b[0m\u001b[34;1m\"importance\"\u001b[0m\u001b[1;39m: \u001b[0m\u001b[0;39m0.6861749119420276\u001b[0m\u001b[1;39m,\n",
      "    \u001b[0m\u001b[34;1m\"addresstype\"\u001b[0m\u001b[1;39m: \u001b[0m\u001b[0;32m\"suburb\"\u001b[0m\u001b[1;39m,\n",
      "    \u001b[0m\u001b[34;1m\"name\"\u001b[0m\u001b[1;39m: \u001b[0m\u001b[0;32m\"São Paulo\"\u001b[0m\u001b[1;39m,\n",
      "    \u001b[0m\u001b[34;1m\"display_name\"\u001b[0m\u001b[1;39m: \u001b[0m\u001b[0;32m\"São Paulo, Capanema, Região Geográfica Imediata de Capanema, Região Geográfica Intermediária de Castanhal, Pará, Região Norte, 68700-540, Brasil\"\u001b[0m\u001b[1;39m,\n",
      "    \u001b[0m\u001b[34;1m\"boundingbox\"\u001b[0m\u001b[1;39m: \u001b[0m\u001b[1;39m[\n",
      "      \u001b[0;32m\"-1.2243218\"\u001b[0m\u001b[1;39m,\n",
      "      \u001b[0;32m\"-1.1843218\"\u001b[0m\u001b[1;39m,\n",
      "      \u001b[0;32m\"-47.1783944\"\u001b[0m\u001b[1;39m,\n",
      "      \u001b[0;32m\"-47.1383944\"\u001b[0m\u001b[1;39m\n",
      "    \u001b[1;39m]\u001b[0m\u001b[1;39m\n",
      "  \u001b[1;39m}\u001b[0m\u001b[1;39m\n",
      "\u001b[1;39m]\u001b[0m\n"
     ]
    }
   ],
   "source": [
    "curl -s \"https://nominatim.openstreetmap.org/search?q=Sao+Paulo,Brazil&format=json\" | jq"
   ]
  },
  {
   "cell_type": "code",
   "execution_count": 8,
   "metadata": {
    "vscode": {
     "languageId": "shellscript"
    }
   },
   "outputs": [
    {
     "name": "stdout",
     "output_type": "stream",
     "text": [
      "\u001b[0;32m\"\\\"São Paulo\\\",\\\"municipality\\\",\\\"-23.5506507\\\",\\\"-46.6333824\\\"\"\u001b[0m\n"
     ]
    }
   ],
   "source": [
    "# Retrieve only the first information and specifically only those that I need\n",
    "curl -s \"https://nominatim.openstreetmap.org/search?q=Sao+Paulo,Brazil&format=json\" | \\\n",
    "jq '.[0] | [.name, .addresstype, .lat, .lon] | @csv'"
   ]
  },
  {
   "cell_type": "code",
   "execution_count": 9,
   "metadata": {
    "vscode": {
     "languageId": "shellscript"
    }
   },
   "outputs": [],
   "source": [
    "# Cities array\n",
    "cities_array=(\"Sao Paulo,Brazil\" \"Buenos Aires,Argentina\" \"Santiago,Chile\" \"Lima,Peru\" \"Mumbai,India\" \"Kerala,India\" \"New Delhi,India\" \"Lagos,Nigeria\" \"Nairobi,Kenya\" \"Lusaka,Zambia\")\n",
    "\n",
    "# File CSV\n",
    "csv_file=\"RFP_Assignment.csv\"\n",
    "\n",
    "# Create the csv headers\n",
    "echo \"name, addresstype,lat,lon\" > RFP_Assignment1.csv\n",
    "\n",
    "# Loop through cities array\n",
    "for city in \"${cities_array[@]}\"\n",
    "do\n",
    "    # Query the API for each city\n",
    "    result=$(curl -s \"https://nominatim.openstreetmap.org/search?q=${city// /+}&format=json\" | jq '.[0] | [.name, .addresstype, .lat, .lon] | @csv')\n",
    "\n",
    "    # Remove double quotes and backslashes from the result\n",
    "    result_clean=$(echo \"${result//\\\"/}\" | tr -d '\\\\')\n",
    "\n",
    "    # Print the result\n",
    "    echo \"$result_clean\"\n",
    "done >> RFP_Assignment1.csv"
   ]
  },
  {
   "cell_type": "code",
   "execution_count": 10,
   "metadata": {
    "vscode": {
     "languageId": "shellscript"
    }
   },
   "outputs": [
    {
     "name": "stdout",
     "output_type": "stream",
     "text": [
      "name, addresstype,lat,lon\n",
      "São Paulo,municipality,-23.5506507,-46.6333824\n",
      "Buenos Aires,city,-34.6037181,-58.38153\n",
      "Santiago,city,-33.4377756,-70.6504502\n",
      "Lima Metropolitana,city,-12.0621065,-77.0365256\n",
      "Mumbai,city_district,19.08157715,72.88662753964906\n",
      "Kerala,state,10.3528744,76.5120396\n",
      "New Delhi District,city,28.6138954,77.2090057\n",
      "Lagos,city,6.4550575,3.3941795\n",
      "Nairobi,city,-1.3026148499999999,36.82884201813725\n",
      "Lusaka Province,state,-15.357609,29.1653092\n"
     ]
    }
   ],
   "source": [
    "# Check if the csv file is correct\n",
    "cat RFP_Assignment1.csv"
   ]
  },
  {
   "cell_type": "code",
   "execution_count": 11,
   "metadata": {
    "vscode": {
     "languageId": "shellscript"
    }
   },
   "outputs": [
    {
     "name": "stdout",
     "output_type": "stream",
     "text": [
      "Output file generated: RFP_Assignment2.csv\n"
     ]
    }
   ],
   "source": [
    "# Adding the state names and the max temperature retrieved from my data\n",
    "\n",
    "# Define the array of state names\n",
    "declare -A states=(\n",
    "    [\"São Paulo\"]=\"Brazil\"\n",
    "    [\"Buenos Aires\"]=\"Argentina\"\n",
    "    [\"Santiago\"]=\"Chile\"\n",
    "    [\"Lima Metropolitana\"]=\"Peru\"\n",
    "    [\"Mumbai City District\"]=\"India\"\n",
    "    [\"Kerala\"]=\"India\"\n",
    "    [\"New Delhi District\"]=\"India\"\n",
    "    [\"Lagos\"]=\"Nigeria\"\n",
    "    [\"Nairobi\"]=\"Kenya\"\n",
    "    [\"Lusaka Province\"]=\"Zambia\"\n",
    ")\n",
    "# Define the array of max temperatures\n",
    "declare -A max_temperatures=(\n",
    "    [\"São Paulo\"]=\"35.5°C\"\n",
    "    [\"Buenos Aires\"]=\"36.4°C\"\n",
    "    [\"Santiago\"]=\"34°C\"\n",
    "    [\"Lima Metropolitana\"]=\"31°C\"\n",
    "    [\"Mumbai City District\"]=\"39°C\"\n",
    "    [\"Kerala\"]=\"34.1°C\"\n",
    "     [\"New Delhi District\"]=\"44°C\"\n",
    "    [\"Lagos\"]=\"36°C\"\n",
    "    [\"Nairobi\"]=\"28°C\"\n",
    "    [\"Lusaka Province\"]=\"38.4°C\"\n",
    ")\n",
    "\n",
    "# Read the input CSV file\n",
    "input_file=\"RFP_Assignment1.csv\"\n",
    "\n",
    "# Create the output CSV file\n",
    "output_file=\"RFP_Assignment2.csv\"\n",
    "echo \"name,addresstype,lat,lon,state,max_temperature\" > \"$output_file\"\n",
    "\n",
    "# Process each line of the input CSV file\n",
    "first_line=true\n",
    "while IFS=, read -r name addresstype lat lon; do\n",
    "    if $first_line; then\n",
    "        first_line=false\n",
    "        continue  # Skip processing the first line\n",
    "    fi\n",
    "# Get the state and max temperature based on the city name\n",
    "    state=\"${states[$name]}\"\n",
    "    max_temp=\"${max_temperatures[$name]}\"\n",
    "\n",
    "    # Write the line to the output CSV file\n",
    "    echo \"$name,$addresstype,$lat,$lon,$state,$max_temp\" >> \"$output_file\"\n",
    "done < \"$input_file\"\n",
    "\n",
    "echo \"Output file generated: $output_file\""
   ]
  },
  {
   "cell_type": "code",
   "execution_count": 12,
   "metadata": {
    "vscode": {
     "languageId": "shellscript"
    }
   },
   "outputs": [
    {
     "name": "stdout",
     "output_type": "stream",
     "text": [
      "name,addresstype,lat,lon,state,max_temperature\n",
      "São Paulo,municipality,-23.5506507,-46.6333824,Brazil,35.5°C\n",
      "Buenos Aires,city,-34.6037181,-58.38153,Argentina,36.4°C\n",
      "Santiago,city,-33.4377756,-70.6504502,Chile,34°C\n",
      "Lima Metropolitana,city,-12.0621065,-77.0365256,Peru,31°C\n",
      "Mumbai,city_district,19.08157715,72.88662753964906,,\n",
      "Kerala,state,10.3528744,76.5120396,India,34.1°C\n",
      "New Delhi District,city,28.6138954,77.2090057,India,44°C\n",
      "Lagos,city,6.4550575,3.3941795,Nigeria,36°C\n",
      "Nairobi,city,-1.3026148499999999,36.82884201813725,Kenya,28°C\n",
      "Lusaka Province,state,-15.357609,29.1653092,Zambia,38.4°C\n"
     ]
    }
   ],
   "source": [
    "# Check the file has been created correctly\n",
    "\n",
    "cat RFP_Assignment2.csv"
   ]
  },
  {
   "cell_type": "code",
   "execution_count": 13,
   "metadata": {
    "vscode": {
     "languageId": "shellscript"
    }
   },
   "outputs": [],
   "source": [
    "# Create the header for RFP_Assignment3.csv to add information retrieved from UNHCR database\n",
    "echo \"name,addresstype,lat,lon,state,max_temperature,Year,Refugees under UNHCR's mandate,Asylum-seekers,Other people in need of international protection\" > RFP_Assignment3.csv\n",
    "\n",
    "# Read RFP_Assignment2.csv line by line\n",
    "while IFS=, read -r name addresstype lat lon state max_temp; do\n",
    "    # Skip the header line\n",
    "    if [[ \"$name\" != \"name\" ]]; then\n",
    "        # Find the corresponding line in populations_UNHCR.csv\n",
    "        line=$(grep \"$state\" populations_UNHCR.csv)\n",
    "        # Extract data from populations_UNHCR.csv\n",
    "        if [[ -n \"$line\" ]]; then\n",
    "            IFS=, read -r year _ _ _ _ refugees asylum other <<< \"$line\"\n",
    "            # Append the combined data to RFP_Assignment3.csv\n",
    "            echo \"$name,$addresstype,$lat,$lon,$state,$max_temp,$year,$refugees,$asylum,$other\" >> RFP_Assignment3.csv\n",
    "        else\n",
    "            # If no corresponding entry found, print a message\n",
    "            echo \"No data found for $state in populations_UNHCR.csv\"\n",
    "        fi\n",
    "    fi\n",
    "done < RFP_Assignment2.csv"
   ]
  },
  {
   "cell_type": "code",
   "execution_count": 14,
   "metadata": {
    "vscode": {
     "languageId": "shellscript"
    }
   },
   "outputs": [
    {
     "name": "stdout",
     "output_type": "stream",
     "text": [
      "name,addresstype,lat,lon,state,max_temperature,Year,Refugees under UNHCR's mandate,Asylum-seekers,Other people in need of international protection\n",
      "São Paulo,municipality,-23.5506507,-46.6333824,Brazil,35.5°C,2022,67522,206764,264040\n",
      "Buenos Aires,city,-34.6037181,-58.38153,Argentina,36.4°C,2022,4094,11100,165174\n",
      "Santiago,city,-33.4377756,-70.6504502,Chile,34°C,2022,2133,11896,436845\n",
      "Lima Metropolitana,city,-12.0621065,-77.0365256,Peru,31°C,2022,6543,537461,969817\n",
      "Mumbai,city_district,19.08157715,72.88662753964906,,,Year,\"Refugees under UNHCR's mandate\",Asylum-seekers,\"Other people in need of international protection\"\n",
      "Kerala,state,10.3528744,76.5120396,India,34.1°C,2022,242835,15794,-\n",
      "New Delhi District,city,28.6138954,77.2090057,India,44°C,2022,242835,15794,-\n",
      "Lagos,city,6.4550575,3.3941795,Nigeria,36°C,2022,91275,1623,-\n",
      "Nairobi,city,-1.3026148499999999,36.82884201813725,Kenya,28°C,2022,504473,69011,-\n",
      "Lusaka Province,state,-15.357609,29.1653092,Zambia,38.4°C,2022,61159,2774,-\n"
     ]
    }
   ],
   "source": [
    "# Read the new file\n",
    "cat RFP_Assignment3.csv"
   ]
  }
 ],
 "metadata": {
  "kernelspec": {
   "display_name": "Bash",
   "language": "bash",
   "name": "bash"
  },
  "language_info": {
   "codemirror_mode": "shell",
   "file_extension": ".sh",
   "mimetype": "text/x-sh",
   "name": "bash"
  }
 },
 "nbformat": 4,
 "nbformat_minor": 2
}
