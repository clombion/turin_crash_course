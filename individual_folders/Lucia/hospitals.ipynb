{
 "cells": [
  {
   "cell_type": "markdown",
   "metadata": {},
   "source": [
    "# Hospital Venezuela"
   ]
  },
  {
   "cell_type": "code",
   "execution_count": 49,
   "metadata": {
    "vscode": {
     "languageId": "shellscript"
    }
   },
   "outputs": [
    {
     "name": "stdout",
     "output_type": "stream",
     "text": [
      "  % Total    % Received % Xferd  Average Speed   Time    Time     Time  Current\n",
      "                                 Dload  Upload   Total   Spent    Left  Speed\n",
      "\r"
     ]
    },
    {
     "name": "stdout",
     "output_type": "stream",
     "text": [
      "100  3153  100  3153    0     0  19109      0 --:--:-- --:--:-- --:--:-- 19109\n",
      "\u001b[1;39m[\n",
      "  \u001b[1;39m{\n",
      "    \u001b[0m\u001b[34;1m\"place_id\"\u001b[0m\u001b[1;39m: \u001b[0m\u001b[0;39m14153329\u001b[0m\u001b[1;39m,\n",
      "    \u001b[0m\u001b[34;1m\"licence\"\u001b[0m\u001b[1;39m: \u001b[0m\u001b[0;32m\"Data © OpenStreetMap contributors, ODbL 1.0. http://osm.org/copyright\"\u001b[0m\u001b[1;39m,\n",
      "    \u001b[0m\u001b[34;1m\"osm_type\"\u001b[0m\u001b[1;39m: \u001b[0m\u001b[0;32m\"way\"\u001b[0m\u001b[1;39m,\n",
      "    \u001b[0m\u001b[34;1m\"osm_id\"\u001b[0m\u001b[1;39m: \u001b[0m\u001b[0;39m343372427\u001b[0m\u001b[1;39m,\n",
      "    \u001b[0m\u001b[34;1m\"lat\"\u001b[0m\u001b[1;39m: \u001b[0m\u001b[0;32m\"-32.4220811\"\u001b[0m\u001b[1;39m,\n",
      "    \u001b[0m\u001b[34;1m\"lon\"\u001b[0m\u001b[1;39m: \u001b[0m\u001b[0;32m\"-63.7273531\"\u001b[0m\u001b[1;39m,\n",
      "    \u001b[0m\u001b[34;1m\"class\"\u001b[0m\u001b[1;39m: \u001b[0m\u001b[0;32m\"highway\"\u001b[0m\u001b[1;39m,\n",
      "    \u001b[0m\u001b[34;1m\"type\"\u001b[0m\u001b[1;39m: \u001b[0m\u001b[0;32m\"residential\"\u001b[0m\u001b[1;39m,\n",
      "    \u001b[0m\u001b[34;1m\"place_rank\"\u001b[0m\u001b[1;39m: \u001b[0m\u001b[0;39m26\u001b[0m\u001b[1;39m,\n",
      "    \u001b[0m\u001b[34;1m\"importance\"\u001b[0m\u001b[1;39m: \u001b[0m\u001b[0;39m0.10000999999999993\u001b[0m\u001b[1;39m,\n",
      "    \u001b[0m\u001b[34;1m\"addresstype\"\u001b[0m\u001b[1;39m: \u001b[0m\u001b[0;32m\"road\"\u001b[0m\u001b[1;39m,\n",
      "    \u001b[0m\u001b[34;1m\"name\"\u001b[0m\u001b[1;39m: \u001b[0m\u001b[0;32m\"Venezuela\"\u001b[0m\u001b[1;39m,\n",
      "    \u001b[0m\u001b[34;1m\"display_name\"\u001b[0m\u001b[1;39m: \u001b[0m\u001b[0;32m\"Venezuela, Hospital, Hernando, Municipio de Hernando, Pedanía Punta del Agua, Departamento Tercero Arriba, Córdoba, X5980, Argentina\"\u001b[0m\u001b[1;39m,\n",
      "    \u001b[0m\u001b[34;1m\"boundingbox\"\u001b[0m\u001b[1;39m: \u001b[0m\u001b[1;39m[\n",
      "      \u001b[0;32m\"-32.4224309\"\u001b[0m\u001b[1;39m,\n",
      "      \u001b[0;32m\"-32.4217219\"\u001b[0m\u001b[1;39m,\n",
      "      \u001b[0;32m\"-63.7278271\"\u001b[0m\u001b[1;39m,\n",
      "      \u001b[0;32m\"-63.7268915\"\u001b[0m\u001b[1;39m\n",
      "    \u001b[1;39m]\u001b[0m\u001b[1;39m\n",
      "  \u001b[1;39m}\u001b[0m\u001b[1;39m,\n",
      "  \u001b[1;39m{\n",
      "    \u001b[0m\u001b[34;1m\"place_id\"\u001b[0m\u001b[1;39m: \u001b[0m\u001b[0;39m266399830\u001b[0m\u001b[1;39m,\n",
      "    \u001b[0m\u001b[34;1m\"licence\"\u001b[0m\u001b[1;39m: \u001b[0m\u001b[0;32m\"Data © OpenStreetMap contributors, ODbL 1.0. http://osm.org/copyright\"\u001b[0m\u001b[1;39m,\n",
      "    \u001b[0m\u001b[34;1m\"osm_type\"\u001b[0m\u001b[1;39m: \u001b[0m\u001b[0;32m\"node\"\u001b[0m\u001b[1;39m,\n",
      "    \u001b[0m\u001b[34;1m\"osm_id\"\u001b[0m\u001b[1;39m: \u001b[0m\u001b[0;39m871570897\u001b[0m\u001b[1;39m,\n",
      "    \u001b[0m\u001b[34;1m\"lat\"\u001b[0m\u001b[1;39m: \u001b[0m\u001b[0;32m\"10.4041837\"\u001b[0m\u001b[1;39m,\n",
      "    \u001b[0m\u001b[34;1m\"lon\"\u001b[0m\u001b[1;39m: \u001b[0m\u001b[0;32m\"-67.2855308\"\u001b[0m\u001b[1;39m,\n",
      "    \u001b[0m\u001b[34;1m\"class\"\u001b[0m\u001b[1;39m: \u001b[0m\u001b[0;32m\"amenity\"\u001b[0m\u001b[1;39m,\n",
      "    \u001b[0m\u001b[34;1m\"type\"\u001b[0m\u001b[1;39m: \u001b[0m\u001b[0;32m\"hospital\"\u001b[0m\u001b[1;39m,\n",
      "    \u001b[0m\u001b[34;1m\"place_rank\"\u001b[0m\u001b[1;39m: \u001b[0m\u001b[0;39m30\u001b[0m\u001b[1;39m,\n",
      "    \u001b[0m\u001b[34;1m\"importance\"\u001b[0m\u001b[1;39m: \u001b[0m\u001b[0;39m9.99999999995449e-06\u001b[0m\u001b[1;39m,\n",
      "    \u001b[0m\u001b[34;1m\"addresstype\"\u001b[0m\u001b[1;39m: \u001b[0m\u001b[0;32m\"amenity\"\u001b[0m\u001b[1;39m,\n",
      "    \u001b[0m\u001b[34;1m\"name\"\u001b[0m\u001b[1;39m: \u001b[0m\u001b[0;32m\"Hospital\"\u001b[0m\u001b[1;39m,\n",
      "    \u001b[0m\u001b[34;1m\"display_name\"\u001b[0m\u001b[1;39m: \u001b[0m\u001b[0;32m\"Hospital, Vía a Capachalito, Medicatura, Colonia Tovar, Parroquia Tovar, Municipio Tovar, Aragua, 1030, Venezuela\"\u001b[0m\u001b[1;39m,\n",
      "    \u001b[0m\u001b[34;1m\"boundingbox\"\u001b[0m\u001b[1;39m: \u001b[0m\u001b[1;39m[\n",
      "      \u001b[0;32m\"10.4041337\"\u001b[0m\u001b[1;39m,\n",
      "      \u001b[0;32m\"10.4042337\"\u001b[0m\u001b[1;39m,\n",
      "      \u001b[0;32m\"-67.2855808\"\u001b[0m\u001b[1;39m,\n",
      "      \u001b[0;32m\"-67.2854808\"\u001b[0m\u001b[1;39m\n",
      "    \u001b[1;39m]\u001b[0m\u001b[1;39m\n",
      "  \u001b[1;39m}\u001b[0m\u001b[1;39m,\n",
      "  \u001b[1;39m{\n",
      "    \u001b[0m\u001b[34;1m\"place_id\"\u001b[0m\u001b[1;39m: \u001b[0m\u001b[0;39m266263902\u001b[0m\u001b[1;39m,\n",
      "    \u001b[0m\u001b[34;1m\"licence\"\u001b[0m\u001b[1;39m: \u001b[0m\u001b[0;32m\"Data © OpenStreetMap contributors, ODbL 1.0. http://osm.org/copyright\"\u001b[0m\u001b[1;39m,\n",
      "    \u001b[0m\u001b[34;1m\"osm_type\"\u001b[0m\u001b[1;39m: \u001b[0m\u001b[0;32m\"node\"\u001b[0m\u001b[1;39m,\n",
      "    \u001b[0m\u001b[34;1m\"osm_id\"\u001b[0m\u001b[1;39m: \u001b[0m\u001b[0;39m4734172221\u001b[0m\u001b[1;39m,\n",
      "    \u001b[0m\u001b[34;1m\"lat\"\u001b[0m\u001b[1;39m: \u001b[0m\u001b[0;32m\"9.2435644\"\u001b[0m\u001b[1;39m,\n",
      "    \u001b[0m\u001b[34;1m\"lon\"\u001b[0m\u001b[1;39m: \u001b[0m\u001b[0;32m\"-70.2713653\"\u001b[0m\u001b[1;39m,\n",
      "    \u001b[0m\u001b[34;1m\"class\"\u001b[0m\u001b[1;39m: \u001b[0m\u001b[0;32m\"amenity\"\u001b[0m\u001b[1;39m,\n",
      "    \u001b[0m\u001b[34;1m\"type\"\u001b[0m\u001b[1;39m: \u001b[0m\u001b[0;32m\"pharmacy\"\u001b[0m\u001b[1;39m,\n",
      "    \u001b[0m\u001b[34;1m\"place_rank\"\u001b[0m\u001b[1;39m: \u001b[0m\u001b[0;39m30\u001b[0m\u001b[1;39m,\n",
      "    \u001b[0m\u001b[34;1m\"importance\"\u001b[0m\u001b[1;39m: \u001b[0m\u001b[0;39m9.99999999995449e-06\u001b[0m\u001b[1;39m,\n",
      "    \u001b[0m\u001b[34;1m\"addresstype\"\u001b[0m\u001b[1;39m: \u001b[0m\u001b[0;32m\"amenity\"\u001b[0m\u001b[1;39m,\n",
      "    \u001b[0m\u001b[34;1m\"name\"\u001b[0m\u001b[1;39m: \u001b[0m\u001b[0;32m\"Farmacia Hospital\"\u001b[0m\u001b[1;39m,\n",
      "    \u001b[0m\u001b[34;1m\"display_name\"\u001b[0m\u001b[1;39m: \u001b[0m\u001b[0;32m\"Farmacia Hospital, T-7, Casco Central, Parroquia Boconó, Municipio Boconó, Trujillo, 3103, Venezuela\"\u001b[0m\u001b[1;39m,\n",
      "    \u001b[0m\u001b[34;1m\"boundingbox\"\u001b[0m\u001b[1;39m: \u001b[0m\u001b[1;39m[\n",
      "      \u001b[0;32m\"9.2435144\"\u001b[0m\u001b[1;39m,\n",
      "      \u001b[0;32m\"9.2436144\"\u001b[0m\u001b[1;39m,\n",
      "      \u001b[0;32m\"-70.2714153\"\u001b[0m\u001b[1;39m,\n",
      "      \u001b[0;32m\"-70.2713153\"\u001b[0m\u001b[1;39m\n",
      "    \u001b[1;39m]\u001b[0m\u001b[1;39m\n",
      "  \u001b[1;39m}\u001b[0m\u001b[1;39m,\n",
      "  \u001b[1;39m{\n",
      "    \u001b[0m\u001b[34;1m\"place_id\"\u001b[0m\u001b[1;39m: \u001b[0m\u001b[0;39m267485306\u001b[0m\u001b[1;39m,\n",
      "    \u001b[0m\u001b[34;1m\"licence\"\u001b[0m\u001b[1;39m: \u001b[0m\u001b[0;32m\"Data © OpenStreetMap contributors, ODbL 1.0. http://osm.org/copyright\"\u001b[0m\u001b[1;39m,\n",
      "    \u001b[0m\u001b[34;1m\"osm_type\"\u001b[0m\u001b[1;39m: \u001b[0m\u001b[0;32m\"node\"\u001b[0m\u001b[1;39m,\n",
      "    \u001b[0m\u001b[34;1m\"osm_id\"\u001b[0m\u001b[1;39m: \u001b[0m\u001b[0;39m2427149444\u001b[0m\u001b[1;39m,\n",
      "    \u001b[0m\u001b[34;1m\"lat\"\u001b[0m\u001b[1;39m: \u001b[0m\u001b[0;32m\"10.4840563\"\u001b[0m\u001b[1;39m,\n",
      "    \u001b[0m\u001b[34;1m\"lon\"\u001b[0m\u001b[1;39m: \u001b[0m\u001b[0;32m\"-66.9707518\"\u001b[0m\u001b[1;39m,\n",
      "    \u001b[0m\u001b[34;1m\"class\"\u001b[0m\u001b[1;39m: \u001b[0m\u001b[0;32m\"highway\"\u001b[0m\u001b[1;39m,\n",
      "    \u001b[0m\u001b[34;1m\"type\"\u001b[0m\u001b[1;39m: \u001b[0m\u001b[0;32m\"bus_stop\"\u001b[0m\u001b[1;39m,\n",
      "    \u001b[0m\u001b[34;1m\"place_rank\"\u001b[0m\u001b[1;39m: \u001b[0m\u001b[0;39m30\u001b[0m\u001b[1;39m,\n",
      "    \u001b[0m\u001b[34;1m\"importance\"\u001b[0m\u001b[1;39m: \u001b[0m\u001b[0;39m9.99999999995449e-06\u001b[0m\u001b[1;39m,\n",
      "    \u001b[0m\u001b[34;1m\"addresstype\"\u001b[0m\u001b[1;39m: \u001b[0m\u001b[0;32m\"highway\"\u001b[0m\u001b[1;39m,\n",
      "    \u001b[0m\u001b[34;1m\"name\"\u001b[0m\u001b[1;39m: \u001b[0m\u001b[0;32m\"Hospital\"\u001b[0m\u001b[1;39m,\n",
      "    \u001b[0m\u001b[34;1m\"display_name\"\u001b[0m\u001b[1;39m: \u001b[0m\u001b[0;32m\"Hospital, Avenida Principal de El Algodonal, Urbanización El Algodonal, Carapita, Caracas, Parroquia Antímano, Municipio Libertador, Distrito Capital, 1020, Venezuela\"\u001b[0m\u001b[1;39m,\n",
      "    \u001b[0m\u001b[34;1m\"boundingbox\"\u001b[0m\u001b[1;39m: \u001b[0m\u001b[1;39m[\n",
      "      \u001b[0;32m\"10.4840063\"\u001b[0m\u001b[1;39m,\n",
      "      \u001b[0;32m\"10.4841063\"\u001b[0m\u001b[1;39m,\n",
      "      \u001b[0;32m\"-66.9708018\"\u001b[0m\u001b[1;39m,\n",
      "      \u001b[0;32m\"-66.9707018\"\u001b[0m\u001b[1;39m\n",
      "    \u001b[1;39m]\u001b[0m\u001b[1;39m\n",
      "  \u001b[1;39m}\u001b[0m\u001b[1;39m,\n",
      "  \u001b[1;39m{\n",
      "    \u001b[0m\u001b[34;1m\"place_id\"\u001b[0m\u001b[1;39m: \u001b[0m\u001b[0;39m262254112\u001b[0m\u001b[1;39m,\n",
      "    \u001b[0m\u001b[34;1m\"licence\"\u001b[0m\u001b[1;39m: \u001b[0m\u001b[0;32m\"Data © OpenStreetMap contributors, ODbL 1.0. http://osm.org/copyright\"\u001b[0m\u001b[1;39m,\n",
      "    \u001b[0m\u001b[34;1m\"osm_type\"\u001b[0m\u001b[1;39m: \u001b[0m\u001b[0;32m\"node\"\u001b[0m\u001b[1;39m,\n",
      "    \u001b[0m\u001b[34;1m\"osm_id\"\u001b[0m\u001b[1;39m: \u001b[0m\u001b[0;39m9687113485\u001b[0m\u001b[1;39m,\n",
      "    \u001b[0m\u001b[34;1m\"lat\"\u001b[0m\u001b[1;39m: \u001b[0m\u001b[0;32m\"9.7409864\"\u001b[0m\u001b[1;39m,\n",
      "    \u001b[0m\u001b[34;1m\"lon\"\u001b[0m\u001b[1;39m: \u001b[0m\u001b[0;32m\"-63.1989422\"\u001b[0m\u001b[1;39m,\n",
      "    \u001b[0m\u001b[34;1m\"class\"\u001b[0m\u001b[1;39m: \u001b[0m\u001b[0;32m\"highway\"\u001b[0m\u001b[1;39m,\n",
      "    \u001b[0m\u001b[34;1m\"type\"\u001b[0m\u001b[1;39m: \u001b[0m\u001b[0;32m\"bus_stop\"\u001b[0m\u001b[1;39m,\n",
      "    \u001b[0m\u001b[34;1m\"place_rank\"\u001b[0m\u001b[1;39m: \u001b[0m\u001b[0;39m30\u001b[0m\u001b[1;39m,\n",
      "    \u001b[0m\u001b[34;1m\"importance\"\u001b[0m\u001b[1;39m: \u001b[0m\u001b[0;39m9.99999999995449e-06\u001b[0m\u001b[1;39m,\n",
      "    \u001b[0m\u001b[34;1m\"addresstype\"\u001b[0m\u001b[1;39m: \u001b[0m\u001b[0;32m\"highway\"\u001b[0m\u001b[1;39m,\n",
      "    \u001b[0m\u001b[34;1m\"name\"\u001b[0m\u001b[1;39m: \u001b[0m\u001b[0;32m\"Hospital\"\u001b[0m\u001b[1;39m,\n",
      "    \u001b[0m\u001b[34;1m\"display_name\"\u001b[0m\u001b[1;39m: \u001b[0m\u001b[0;32m\"Hospital, Avenida Bicentenario, Alberto Ravell, Maturín, Parroquia San Simón, Municipio Maturín, Monagas, 6201, Venezuela\"\u001b[0m\u001b[1;39m,\n",
      "    \u001b[0m\u001b[34;1m\"boundingbox\"\u001b[0m\u001b[1;39m: \u001b[0m\u001b[1;39m[\n",
      "      \u001b[0;32m\"9.7409364\"\u001b[0m\u001b[1;39m,\n",
      "      \u001b[0;32m\"9.7410364\"\u001b[0m\u001b[1;39m,\n",
      "      \u001b[0;32m\"-63.1989922\"\u001b[0m\u001b[1;39m,\n",
      "      \u001b[0;32m\"-63.1988922\"\u001b[0m\u001b[1;39m\n",
      "    \u001b[1;39m]\u001b[0m\u001b[1;39m\n",
      "  \u001b[1;39m}\u001b[0m\u001b[1;39m,\n",
      "  \u001b[1;39m{\n",
      "    \u001b[0m\u001b[34;1m\"place_id\"\u001b[0m\u001b[1;39m: \u001b[0m\u001b[0;39m268417145\u001b[0m\u001b[1;39m,\n",
      "    \u001b[0m\u001b[34;1m\"licence\"\u001b[0m\u001b[1;39m: \u001b[0m\u001b[0;32m\"Data © OpenStreetMap contributors, ODbL 1.0. http://osm.org/copyright\"\u001b[0m\u001b[1;39m,\n",
      "    \u001b[0m\u001b[34;1m\"osm_type\"\u001b[0m\u001b[1;39m: \u001b[0m\u001b[0;32m\"node\"\u001b[0m\u001b[1;39m,\n",
      "    \u001b[0m\u001b[34;1m\"osm_id\"\u001b[0m\u001b[1;39m: \u001b[0m\u001b[0;39m9795180399\u001b[0m\u001b[1;39m,\n",
      "    \u001b[0m\u001b[34;1m\"lat\"\u001b[0m\u001b[1;39m: \u001b[0m\u001b[0;32m\"10.2193618\"\u001b[0m\u001b[1;39m,\n",
      "    \u001b[0m\u001b[34;1m\"lon\"\u001b[0m\u001b[1;39m: \u001b[0m\u001b[0;32m\"-64.6369145\"\u001b[0m\u001b[1;39m,\n",
      "    \u001b[0m\u001b[34;1m\"class\"\u001b[0m\u001b[1;39m: \u001b[0m\u001b[0;32m\"highway\"\u001b[0m\u001b[1;39m,\n",
      "    \u001b[0m\u001b[34;1m\"type\"\u001b[0m\u001b[1;39m: \u001b[0m\u001b[0;32m\"bus_stop\"\u001b[0m\u001b[1;39m,\n",
      "    \u001b[0m\u001b[34;1m\"place_rank\"\u001b[0m\u001b[1;39m: \u001b[0m\u001b[0;39m30\u001b[0m\u001b[1;39m,\n",
      "    \u001b[0m\u001b[34;1m\"importance\"\u001b[0m\u001b[1;39m: \u001b[0m\u001b[0;39m9.99999999995449e-06\u001b[0m\u001b[1;39m,\n",
      "    \u001b[0m\u001b[34;1m\"addresstype\"\u001b[0m\u001b[1;39m: \u001b[0m\u001b[0;32m\"highway\"\u001b[0m\u001b[1;39m,\n",
      "    \u001b[0m\u001b[34;1m\"name\"\u001b[0m\u001b[1;39m: \u001b[0m\u001b[0;32m\"Hospital\"\u001b[0m\u001b[1;39m,\n",
      "    \u001b[0m\u001b[34;1m\"display_name\"\u001b[0m\u001b[1;39m: \u001b[0m\u001b[0;32m\"Hospital, Calle Juncal, Centro, Puerto La Cruz, Parroquia La Cruz, Municipio Sotillo, Anzoátegui, 6023, Venezuela\"\u001b[0m\u001b[1;39m,\n",
      "    \u001b[0m\u001b[34;1m\"boundingbox\"\u001b[0m\u001b[1;39m: \u001b[0m\u001b[1;39m[\n",
      "      \u001b[0;32m\"10.2193118\"\u001b[0m\u001b[1;39m,\n",
      "      \u001b[0;32m\"10.2194118\"\u001b[0m\u001b[1;39m,\n",
      "      \u001b[0;32m\"-64.6369645\"\u001b[0m\u001b[1;39m,\n",
      "      \u001b[0;32m\"-64.6368645\"\u001b[0m\u001b[1;39m\n",
      "    \u001b[1;39m]\u001b[0m\u001b[1;39m\n",
      "  \u001b[1;39m}\u001b[0m\u001b[1;39m\n",
      "\u001b[1;39m]\u001b[0m\n"
     ]
    }
   ],
   "source": [
    "curl \"https://nominatim.openstreetmap.org/search?q=hospital,venezuela&format=json\"| jq"
   ]
  },
  {
   "cell_type": "code",
   "execution_count": 50,
   "metadata": {
    "vscode": {
     "languageId": "shellscript"
    }
   },
   "outputs": [
    {
     "name": "stdout",
     "output_type": "stream",
     "text": [
      "[{\"place_id\":14153329,\"licence\":\"Data © OpenStreetMap contributors, ODbL 1.0. http://osm.org/copyright\",\"osm_type\":\"way\",\"osm_id\":343372427,\"lat\":\"-32.4220811\",\"lon\":\"-63.7273531\",\"class\":\"highway\",\"type\":\"residential\",\"place_rank\":26,\"importance\":0.10000999999999993,\"addresstype\":\"road\",\"name\":\"Venezuela\",\"display_name\":\"Venezuela, Hospital, Hernando, Municipio de Hernando, Pedanía Punta del Agua, Departamento Tercero Arriba, Córdoba, X5980, Argentina\",\"boundingbox\":[\"-32.4224309\",\"-32.4217219\",\"-63.7278271\",\"-63.7268915\"]},{\"place_id\":266399830,\"licence\":\"Data © OpenStreetMap contributors, ODbL 1.0. http://osm.org/copyright\",\"osm_type\":\"node\",\"osm_id\":871570897,\"lat\":\"10.4041837\",\"lon\":\"-67.2855308\",\"class\":\"amenity\",\"type\":\"hospital\",\"place_rank\":30,\"importance\":9.99999999995449e-06,\"addresstype\":\"amenity\",\"name\":\"Hospital\",\"display_name\":\"Hospital, Vía a Capachalito, Medicatura, Colonia Tovar, Parroquia Tovar, Municipio Tovar, Aragua, 1030, Venezuela\",\"boundingbox\":[\"10.4041337\",\"10.4042337\",\"-67.2855808\",\"-67.2854808\"]},{\"place_id\":266263902,\"licence\":\"Data © OpenStreetMap contributors, ODbL 1.0. http://osm.org/copyright\",\"osm_type\":\"node\",\"osm_id\":4734172221,\"lat\":\"9.2435644\",\"lon\":\"-70.2713653\",\"class\":\"amenity\",\"type\":\"pharmacy\",\"place_rank\":30,\"importance\":9.99999999995449e-06,\"addresstype\":\"amenity\",\"name\":\"Farmacia Hospital\",\"display_name\":\"Farmacia Hospital, T-7, Casco Central, Parroquia Boconó, Municipio Boconó, Trujillo, 3103, Venezuela\",\"boundingbox\":[\"9.2435144\",\"9.2436144\",\"-70.2714153\",\"-70.2713153\"]},{\"place_id\":267485306,\"licence\":\"Data © OpenStreetMap contributors, ODbL 1.0. http://osm.org/copyright\",\"osm_type\":\"node\",\"osm_id\":2427149444,\"lat\":\"10.4840563\",\"lon\":\"-66.9707518\",\"class\":\"highway\",\"type\":\"bus_stop\",\"place_rank\":30,\"importance\":9.99999999995449e-06,\"addresstype\":\"highway\",\"name\":\"Hospital\",\"display_name\":\"Hospital, Avenida Principal de El Algodonal, Urbanización El Algodonal, Carapita, Caracas, Parroquia Antímano, Municipio Libertador, Distrito Capital, 1020, Venezuela\",\"boundingbox\":[\"10.4840063\",\"10.4841063\",\"-66.9708018\",\"-66.9707018\"]},{\"place_id\":262254112,\"licence\":\"Data © OpenStreetMap contributors, ODbL 1.0. http://osm.org/copyright\",\"osm_type\":\"node\",\"osm_id\":9687113485,\"lat\":\"9.7409864\",\"lon\":\"-63.1989422\",\"class\":\"highway\",\"type\":\"bus_stop\",\"place_rank\":30,\"importance\":9.99999999995449e-06,\"addresstype\":\"highway\",\"name\":\"Hospital\",\"display_name\":\"Hospital, Avenida Bicentenario, Alberto Ravell, Maturín, Parroquia San Simón, Municipio Maturín, Monagas, 6201, Venezuela\",\"boundingbox\":[\"9.7409364\",\"9.7410364\",\"-63.1989922\",\"-63.1988922\"]},{\"place_id\":268417145,\"licence\":\"Data © OpenStreetMap contributors, ODbL 1.0. http://osm.org/copyright\",\"osm_type\":\"node\",\"osm_id\":9795180399,\"lat\":\"10.2193618\",\"lon\":\"-64.6369145\",\"class\":\"highway\",\"type\":\"bus_stop\",\"place_rank\":30,\"importance\":9.99999999995449e-06,\"addresstype\":\"highway\",\"name\":\"Hospital\",\"display_name\":\"Hospital, Calle Juncal, Centro, Puerto La Cruz, Parroquia La Cruz, Municipio Sotillo, Anzoátegui, 6023, Venezuela\",\"boundingbox\":[\"10.2193118\",\"10.2194118\",\"-64.6369645\",\"-64.6368645\"]}]\n"
     ]
    }
   ],
   "source": [
    "curl \"https://nominatim.openstreetmap.org/search?q=hospital,venezuela&format=json\""
   ]
  },
  {
   "cell_type": "code",
   "execution_count": 1,
   "metadata": {
    "vscode": {
     "languageId": "shellscript"
    }
   },
   "outputs": [
    {
     "name": "stdout",
     "output_type": "stream",
     "text": [
      "  % Total    % Received % Xferd  Average Speed   Time    Time     Time  Current\n",
      "                                 Dload  Upload   Total   Spent    Left  Speed\n",
      "\r"
     ]
    },
    {
     "name": "stdout",
     "output_type": "stream",
     "text": [
      "100  3153  100  3153    0     0   6610      0 --:--:-- --:--:-- --:--:--  6610\n",
      "\u001b[0;32m\"\\\"-32.4220811\\\",\\\"-63.7273531\\\",\\\"residential\\\",\\\"Venezuela, Hospital, Hernando, Municipio de Hernando, Pedanía Punta del Agua, Departamento Tercero Arriba, Córdoba, X5980, Argentina\\\"\"\u001b[0m\n",
      "\u001b[0;32m\"\\\"10.4041837\\\",\\\"-67.2855308\\\",\\\"hospital\\\",\\\"Hospital, Vía a Capachalito, Medicatura, Colonia Tovar, Parroquia Tovar, Municipio Tovar, Aragua, 1030, Venezuela\\\"\"\u001b[0m\n",
      "\u001b[0;32m\"\\\"9.2435644\\\",\\\"-70.2713653\\\",\\\"pharmacy\\\",\\\"Farmacia Hospital, T-7, Casco Central, Parroquia Boconó, Municipio Boconó, Trujillo, 3103, Venezuela\\\"\"\u001b[0m\n",
      "\u001b[0;32m\"\\\"10.4840563\\\",\\\"-66.9707518\\\",\\\"bus_stop\\\",\\\"Hospital, Avenida Principal de El Algodonal, Urbanización El Algodonal, Carapita, Caracas, Parroquia Antímano, Municipio Libertador, Distrito Capital, 1020, Venezuela\\\"\"\u001b[0m\n",
      "\u001b[0;32m\"\\\"9.7409864\\\",\\\"-63.1989422\\\",\\\"bus_stop\\\",\\\"Hospital, Avenida Bicentenario, Alberto Ravell, Maturín, Parroquia San Simón, Municipio Maturín, Monagas, 6201, Venezuela\\\"\"\u001b[0m\n",
      "\u001b[0;32m\"\\\"10.2193618\\\",\\\"-64.6369145\\\",\\\"bus_stop\\\",\\\"Hospital, Calle Juncal, Centro, Puerto La Cruz, Parroquia La Cruz, Municipio Sotillo, Anzoátegui, 6023, Venezuela\\\"\"\u001b[0m\n"
     ]
    }
   ],
   "source": [
    "curl \"https://nominatim.openstreetmap.org/search?q=hospital,venezuela&format=json\" | jq ' .[] | [.osm_type, .type, .lat, .lon, .display_name] | @csv'"
   ]
  },
  {
   "cell_type": "code",
   "execution_count": 2,
   "metadata": {
    "vscode": {
     "languageId": "shellscript"
    }
   },
   "outputs": [],
   "source": [
    "echo \"lat,lon,type,display_name\" > hospitals.csv"
   ]
  },
  {
   "cell_type": "code",
   "execution_count": 1,
   "metadata": {
    "vscode": {
     "languageId": "shellscript"
    }
   },
   "outputs": [],
   "source": [
    "echo \"lat,lon,type,display_name\" > hospitals.csv\n",
    "echo \"\\\"-32.4220811\\\",\\\"-63.7273531\\\",\\\"residential\\\",\\\"Venezuela, Hospital, Hernando, Municipio de Hernando, Pedanía Punta del Agua, Departamento Tercero Arriba, Córdoba, X5980, Argentina\\\"\" >> hospitals.csv\n",
    "echo \"\\\"10.4041837\\\",\\\"-67.2855308\\\",\\\"hospital\\\",\\\"Hospital, Vía a Capachalito, Medicatura, Colonia Tovar, Parroquia Tovar, Municipio Tovar, Aragua, 1030, Venezuela\\\"\" >> hospitals.csv\n",
    "echo \"\\\"9.2435644\\\",\\\"-70.2713653\\\",\\\"pharmacy\\\",\\\"Farmacia Hospital, T-7, Casco Central, Parroquia Boconó, Municipio Boconó, Trujillo, 3103, Venezuela\\\"\" >> hospitals.csv\n",
    "echo \"\\\"10.4840563\\\",\\\"-66.9707518\\\",\\\"bus_stop\\\",\\\"Hospital, Avenida Principal de El Algodonal, Urbanización El Algodonal, Carapita, Caracas, Parroquia Antímano, Municipio Libertador, Distrito Capital, 1020, Venezuela\\\"\" >> hospitals.csv\n",
    "echo \"\\\"9.7409864\\\",\\\"-63.1989422\\\",\\\"bus_stop\\\",\\\"Hospital, Avenida Bicentenario, Alberto Ravell, Maturín, Parroquia San Simón, Municipio Maturín, Monagas, 6201, Venezuela\\\"\" >> hospitals.csv\n",
    "echo \"\\\"10.2193618\\\",\\\"-64.6369145\\\",\\\"bus_stop\\\",\\\"Hospital, Calle Juncal, Centro, Puerto La Cruz, Parroquia La Cruz, Municipio Sotillo, Anzoátegui, 6023, Venezuela\\\"\" >> hospitals.csv"
   ]
  },
  {
   "cell_type": "code",
   "execution_count": 2,
   "metadata": {
    "vscode": {
     "languageId": "shellscript"
    }
   },
   "outputs": [
    {
     "name": "stdout",
     "output_type": "stream",
     "text": [
      "lat,lon,type,display_name\n",
      "\"-32.4220811\",\"-63.7273531\",\"residential\",\"Venezuela, Hospital, Hernando, Municipio de Hernando, Pedanía Punta del Agua, Departamento Tercero Arriba, Córdoba, X5980, Argentina\"\n",
      "\"10.4041837\",\"-67.2855308\",\"hospital\",\"Hospital, Vía a Capachalito, Medicatura, Colonia Tovar, Parroquia Tovar, Municipio Tovar, Aragua, 1030, Venezuela\"\n",
      "\"9.2435644\",\"-70.2713653\",\"pharmacy\",\"Farmacia Hospital, T-7, Casco Central, Parroquia Boconó, Municipio Boconó, Trujillo, 3103, Venezuela\"\n",
      "\"10.4840563\",\"-66.9707518\",\"bus_stop\",\"Hospital, Avenida Principal de El Algodonal, Urbanización El Algodonal, Carapita, Caracas, Parroquia Antímano, Municipio Libertador, Distrito Capital, 1020, Venezuela\"\n",
      "\"9.7409864\",\"-63.1989422\",\"bus_stop\",\"Hospital, Avenida Bicentenario, Alberto Ravell, Maturín, Parroquia San Simón, Municipio Maturín, Monagas, 6201, Venezuela\"\n",
      "\"10.2193618\",\"-64.6369145\",\"bus_stop\",\"Hospital, Calle Juncal, Centro, Puerto La Cruz, Parroquia La Cruz, Municipio Sotillo, Anzoátegui, 6023, Venezuela\"\n"
     ]
    }
   ],
   "source": [
    "cat hospitals.csv"
   ]
  },
  {
   "cell_type": "code",
   "execution_count": 3,
   "metadata": {
    "vscode": {
     "languageId": "shellscript"
    }
   },
   "outputs": [],
   "source": [
    "# the loop\n",
    "for i in ${hospitals[@]}\n",
    "do \n",
    "    echo \"$i\" >> hospitals.csv \n",
    "done"
   ]
  },
  {
   "cell_type": "code",
   "execution_count": 4,
   "metadata": {
    "vscode": {
     "languageId": "shellscript"
    }
   },
   "outputs": [
    {
     "name": "stdout",
     "output_type": "stream",
     "text": [
      "lat,lon,type,display_name\n",
      "\"-32.4220811\",\"-63.7273531\",\"residential\",\"Venezuela, Hospital, Hernando, Municipio de Hernando, Pedanía Punta del Agua, Departamento Tercero Arriba, Córdoba, X5980, Argentina\"\n",
      "\"10.4041837\",\"-67.2855308\",\"hospital\",\"Hospital, Vía a Capachalito, Medicatura, Colonia Tovar, Parroquia Tovar, Municipio Tovar, Aragua, 1030, Venezuela\"\n",
      "\"9.2435644\",\"-70.2713653\",\"pharmacy\",\"Farmacia Hospital, T-7, Casco Central, Parroquia Boconó, Municipio Boconó, Trujillo, 3103, Venezuela\"\n",
      "\"10.4840563\",\"-66.9707518\",\"bus_stop\",\"Hospital, Avenida Principal de El Algodonal, Urbanización El Algodonal, Carapita, Caracas, Parroquia Antímano, Municipio Libertador, Distrito Capital, 1020, Venezuela\"\n",
      "\"9.7409864\",\"-63.1989422\",\"bus_stop\",\"Hospital, Avenida Bicentenario, Alberto Ravell, Maturín, Parroquia San Simón, Municipio Maturín, Monagas, 6201, Venezuela\"\n",
      "\"10.2193618\",\"-64.6369145\",\"bus_stop\",\"Hospital, Calle Juncal, Centro, Puerto La Cruz, Parroquia La Cruz, Municipio Sotillo, Anzoátegui, 6023, Venezuela\"\n"
     ]
    }
   ],
   "source": [
    "cat hospitals.csv"
   ]
  }
 ],
 "metadata": {
  "kernelspec": {
   "display_name": "Bash",
   "language": "bash",
   "name": "bash"
  },
  "language_info": {
   "codemirror_mode": "shell",
   "file_extension": ".sh",
   "mimetype": "text/x-sh",
   "name": "bash"
  }
 },
 "nbformat": 4,
 "nbformat_minor": 2
}
