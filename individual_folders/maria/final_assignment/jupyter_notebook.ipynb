{
 "cells": [
  {
   "cell_type": "code",
   "execution_count": 5,
   "metadata": {
    "vscode": {
     "languageId": "shellscript"
    }
   },
   "outputs": [],
   "source": [
    "while read line \n",
    "do \n",
    "    curl -s \"https://nominatim.openstreetmap.org/search?q=City,Country&format=json\" | jq '.[] | [.lat, .lon, .addresstype, .name] | @csv'\n",
    "done < citiesbypopulation.csv >> cities1.csv  "
   ]
  },
  {
   "cell_type": "code",
   "execution_count": 2,
   "metadata": {
    "vscode": {
     "languageId": "shellscript"
    }
   },
   "outputs": [],
   "source": [
    "while read line \n",
    "do \n",
    "    curl -s \"https://nominatim.openstreetmap.org/search?q=city,country&format=json\" | jq '.[] | [.lat, .lon, .addresstype, .name] | @csv'\n",
    "done < slums.csv >> cities1.csv  "
   ]
  },
  {
   "cell_type": "code",
   "execution_count": 1,
   "metadata": {
    "vscode": {
     "languageId": "shellscript"
    }
   },
   "outputs": [
    {
     "name": "stdout",
     "output_type": "stream",
     "text": [
      "Ashaiman,Ghana\n",
      "Agbogbloshie,Ghana\n",
      "Old Fadama,Ghana\n",
      "Jamestown,Ghana\n",
      "Kojokrom,Ghana\n",
      "New Takoradi,Ghana\n",
      "Suame Magazine,Ghana\n",
      "Ezbet el-Haggana,Egitto\n",
      "Manshiyat Naser,Egitto\n",
      "Baba Ndogo,Kenya\n",
      "Dandora,Kenya\n",
      "Fuata Nyayo,Kenya\n",
      "Gatwekera,Kenya\n",
      "Huruma,Kenya\n",
      "Kambi Muru,Kenya\n",
      "Kangemi,Kenya\n",
      "Kawangware,Kenya\n",
      "Kiambiu,Kenya\n",
      "Kianda,Kenya\n",
      "Kibera ,Kenya\n",
      "Kiamaiko,Kenya\n",
      "Kichinjio,Kenya\n",
      "Kisumu Ndogo,Kenya\n",
      "Korogocho,Kenya\n",
      "Laini Saba,Kenya\n",
      "Lindi,Kenya\n",
      "Majengo,Kenya\n",
      "juakali-marurui,Kenya\n",
      "Makongeni,Kenya\n",
      "Mashimoni,Kenya\n",
      "Matopeni,Kenya\n",
      "Mathare,Kenya\n",
      "Mathare Valley,Kenya\n",
      "Mugumoini,Kenya\n",
      "Mukuru kwa Njenga,Kenya\n",
      "Mukuru slums,Kenya\n",
      "Nyalenda,Kenya\n",
      "Pumwani,Kenya\n",
      "Raila,Kenya\n",
      "Sarang'ombe,Kenya\n",
      "Shilanga,Kenya\n",
      "Siranga,Kenya\n",
      "Soweto East,Kenya\n",
      "Soweto West,Kenya\n",
      "Ziwa la Ng'ombe,Kenya\n",
      "Viwandani ,Kenya\n",
      "Agege,Nigeria\n",
      "Ajegunle,Nigeria\n",
      "Amukoko,Nigeria\n",
      "Badia,Nigeria\n",
      "Bariga,Nigeria\n",
      "Bodija,Nigeria\n",
      "Ijeshatedo/Itire,Nigeria\n",
      "Ilaje,Nigeria\n",
      "Iwaya,Nigeria\n",
      "Makoko,Nigeria\n",
      "Mushin,Nigeria\n",
      "Oke-Offa Babasale,Nigeria\n",
      "Somolu,Nigeria\n",
      "Idikan,Nigeria\n",
      "Sasa,Nigeria\n",
      "Alexandra,South Africa\n",
      "Cato Manor,South Africa\n",
      "Chatsworth,South Africa\n",
      "Fisantekraal,South Africa\n",
      "Freedom Park,South Africa\n",
      "Gamalakhe,South Africa\n",
      "Gugulethu,South Africa\n",
      "Ibhayi,South Africa\n",
      "Inanda,South Africa\n",
      "Joe Slovo Park,South Africa\n",
      "Kennedy Road,South Africa\n",
      "Khayelitsha,South Africa\n",
      "KwaDabeka,South Africa\n",
      "KwaMakhutha,South Africa\n",
      "KwaMashu,South Africa\n",
      "KwaNobuhle,South Africa\n",
      "Langa,South Africa\n",
      "Lwandle,South Africa\n",
      "Mdantsane,South Africa\n",
      "Mitchells Plain,South Africa\n",
      "Motherwell,South Africa\n",
      "Nomzamo,South Africa\n",
      "Ntuzuma,South Africa\n",
      "Nyanga,South Africa\n",
      "Philippi,South Africa\n",
      "Thembalethu,South Africa\n",
      "Wallacedene,South Africa\n",
      "Kirti Nagar,India\n",
      "Munirka,India\n",
      "Kathputhli Colony,India\n",
      "Talkatora,India\n",
      "Pilkhana,India\n",
      "Tikiapara,India\n",
      "Basanti,India\n",
      "Chandmari,India\n",
      "Dharavi,India\n",
      "Banganga,India\n",
      "Baiganwadi,India\n",
      "Antop Hill,India\n",
      "Vyasarpadi,India\n",
      "Royapuram,India\n",
      "Thiruvotriyur,India\n",
      "Salia Sahi,India\n",
      "Kampung Dao and Kampung Muka,Indonesia\n",
      "Kampung Kalibaru,Indonesia\n",
      "Kampung Tanah Merah Plumpang,Indonesia\n",
      "Kampung Muara Baru,Indonesia\n",
      "Kampung Kalimati,Indonesia\n",
      "Jalan,Indonesia\n",
      "Tanah Rendah,Indonesia\n",
      "Kampung Bahari,Indonesia\n",
      "Gang Royal,Indonesia\n",
      "Rawa Malang,Indonesia\n",
      "District 14,Iran\n",
      "District 15,Iran\n",
      "Machar Colony,Pakistan\n",
      "Usavi Watta ,Sri Lanka\n",
      "Wanathamulla,Sri Lanka\n",
      "Mahwa Aser,Yemen\n",
      "Vila Parisi,Brazil\n",
      "Cidade de Deus,Brazil\n",
      "Complexo do Alemão,Brazil\n",
      "Santa Marta,Brazil\n",
      "Jacarezinho,Brazil\n",
      "Mangueira,Brazil\n",
      "Manguinhos,Brazil\n",
      "Morro da Babilônia,Brazil\n",
      "Rocinha,Brazil\n",
      "Vidigal,Brazil\n",
      "Vigário Geral,Brazil\n",
      "Ilha das Cobras,Brazil\n",
      "Heliópolis,Brazil\n",
      "Paraisópolis,Brazil\n",
      "Ciudad Bolívar ,Colombia\n",
      "Siloé ,Colombia\n",
      "Comas,Peru\n",
      "Villa El Salvador,Peru\n",
      "San Juan de Lurigancho,Peru\n"
     ]
    }
   ],
   "source": [
    "while read line \n",
    "do\n",
    "    echo \"$line\"\n",
    "done < slums.csv"
   ]
  },
  {
   "cell_type": "code",
   "execution_count": 3,
   "metadata": {
    "vscode": {
     "languageId": "shellscript"
    }
   },
   "outputs": [
    {
     "name": "stdout",
     "output_type": "stream",
     "text": [
      "\u001b[0;32m\"\\\"49.6124294\\\",\\\"6.1305758\\\",\\\"shop\\\",\\\"Country\\\"\"\u001b[0m\n",
      "\u001b[0;32m\"\\\"49.600686\\\",\\\"6.1306078\\\",\\\"amenity\\\",\\\"Country\\\"\"\u001b[0m\n",
      "\u001b[0;32m\"\\\"43.2616855\\\",\\\"-2.937186\\\",\\\"office\\\",\\\"City\\\"\"\u001b[0m\n"
     ]
    }
   ],
   "source": [
    "curl -s \"https://nominatim.openstreetmap.org/search?q=City,Country&format=json\" | jq '.[] | [.lat, .lon, .addresstype, .name] | @csv'\n",
    "     "
   ]
  }
 ],
 "metadata": {
  "kernelspec": {
   "display_name": "Bash",
   "language": "bash",
   "name": "bash"
  },
  "language_info": {
   "codemirror_mode": "shell",
   "file_extension": ".sh",
   "mimetype": "text/x-sh",
   "name": "bash"
  }
 },
 "nbformat": 4,
 "nbformat_minor": 2
}
