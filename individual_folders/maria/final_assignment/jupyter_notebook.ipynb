{
 "cells": [
  {
   "cell_type": "code",
   "execution_count": 1,
   "metadata": {
    "vscode": {
     "languageId": "shellscript"
    }
   },
   "outputs": [
    {
     "name": "stdout",
     "output_type": "stream",
     "text": [
      "Ezbet el-Haggana,Cairo,Egitto\n",
      "Manshiyat Naser,Cairo,Egitto\n",
      "Ashaiman,Accra,Ghana\n",
      "Agbogbloshie,Accra,Ghana\n",
      "Old Fadama,Accra,Ghana\n",
      "Jamestown,Accra,Ghana\n",
      "Kojokrom,Kojokrom,Ghana\n",
      "New Takoradi,New Takoradi,Ghana\n",
      "Suame Magazine,Kumasi,Ghana\n",
      "Dandora,Nairobi,Kenya\n",
      "Huruma,Nairobi,Kenya\n",
      "Kangemi,Nairobi,Kenya\n",
      "Kariobangi,Nairobi,Kenya\n",
      "Kawangware,Nairobi,Kenya\n",
      "Kiambiu,Nairobi,Kenya\n",
      "Kibera,Nairobi,Kenya\n",
      "Korogocho,Nairobi,Kenya\n",
      "Kware,Nairobi,Kenya\n",
      "Majengo,Nairobi,Kenya\n",
      "Mathare,Nairobi,Kenya\n",
      "Matopeni,Nairobi,Kenya\n",
      "Mukuru kwa Njenga,Nairobi,Kenya\n",
      "Magongo,Mombasa,Kenya\n",
      "Majengo,Mombasa,Kenya\n",
      "Agege,Agege,Nigeria\n",
      "Ajegunle,Ajegunle,Nigeria\n",
      "Bariga,Bariga,Nigeria\n",
      "Bodija,Ibadan,Nigeria\n",
      "Ilaje,Ilaje,Nigeria\n",
      "Makoko,Makoko,Nigeria\n",
      "Mushin,Mushin,Nigeria\n",
      "Somolu,Somolu,Nigeria\n",
      "Kirti Nagar,Delhi,India\n",
      "Munirka,Delhi,India\n",
      "Kathputhli Colony,Delhi,India\n",
      "Pilkhana,Kolkata,India\n",
      "Tikiapara,Kolkata,India\n",
      "Basanti,Kolkata,India\n",
      "Chandmari,Guwahati,India\n",
      "Dharavi,Mumbai,India\n",
      "Banganga,Mumbai,India\n",
      "Baiganwadi,Mumbai,India\n",
      "Antop Hill,Mumbai,India\n",
      "Vyasarpadi,Chennai,India\n",
      "Royapuram,Chennai,India\n",
      "Thiruvotriyur,Chennai,India\n",
      "Salia Sahi,Bhubaneswar,India\n",
      "Kampung Dao,Jakarta,Indonesia\n",
      "Kampung Kalibaru,Jakarta,Indonesia\n",
      "Kampung Tanah Merah Plumpang,Jakarta,Indonesia\n",
      "Kampung Muara Baru,Jakarta,Indonesia\n",
      "Kampung Kalimati,Jakarta,Indonesia\n",
      "Tanah Rendah,Jakarta,Indonesia\n",
      "Kampung Bahari,Jakarta,Indonesia\n",
      "Tondo,Manila,Philippines\n",
      "San Andres,Manila,Philippines\n",
      "District 14,Isfahan,Iran\n",
      "District 15,Tehran,Iran\n",
      "Machar Colony,Karachi,Pakistan\n",
      "Wanathamulla,Colombo,Sri Lanka\n",
      "Mahwa Aser,Sanaa,Yemen\n",
      "Vila Parisi,Cubatao,Brazil\n"
     ]
    }
   ],
   "source": [
    "#list of slums in developing countries\n",
    "while read line \n",
    "do\n",
    "    echo \"$line\"\n",
    "done < slums.csv"
   ]
  },
  {
   "cell_type": "code",
   "execution_count": 14,
   "metadata": {
    "vscode": {
     "languageId": "shellscript"
    }
   },
   "outputs": [],
   "source": [
    "curl -s \"https://nominatim.openstreetmap.org/search?q=&format=json\" | jq '.[] | [.lat, .lon, .addresstype, .name] | @csv'\n",
    "     \n",
    "     "
   ]
  },
  {
   "cell_type": "code",
   "execution_count": 18,
   "metadata": {
    "vscode": {
     "languageId": "shellscript"
    }
   },
   "outputs": [],
   "source": [
    "#find the coordinates of the selected areas\n",
    "line=\"Ezbet el-Haggana,Cairo,Egitto\"\n",
    "curl -s \"https://nominatim.openstreetmap.org/search?q=${line//\" \"/+}&format=json\" | jq '.[] | [.lat, .lon, .addresstype, .name] | @csv'\n",
    "     "
   ]
  },
  {
   "cell_type": "code",
   "execution_count": 8,
   "metadata": {
    "vscode": {
     "languageId": "shellscript"
    }
   },
   "outputs": [],
   "source": [
    "while read line \n",
    "do \n",
    "    curl -s \"https://nominatim.openstreetmap.org/search?q=${line// /+}&format=json\" | jq \n",
    "done < slums.csv \n"
   ]
  },
  {
   "cell_type": "code",
   "execution_count": null,
   "metadata": {
    "vscode": {
     "languageId": "shellscript"
    }
   },
   "outputs": [],
   "source": [
    "#find the population density of the selected areas"
   ]
  }
 ],
 "metadata": {
  "kernelspec": {
   "display_name": "Bash",
   "language": "bash",
   "name": "bash"
  },
  "language_info": {
   "codemirror_mode": "shell",
   "file_extension": ".sh",
   "mimetype": "text/x-sh",
   "name": "bash"
  }
 },
 "nbformat": 4,
 "nbformat_minor": 2
}
