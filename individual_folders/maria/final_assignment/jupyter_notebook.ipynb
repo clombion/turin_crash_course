{
 "cells": [
  {
   "cell_type": "code",
   "execution_count": 6,
   "metadata": {
    "vscode": {
     "languageId": "shellscript"
    }
   },
   "outputs": [
    {
     "name": "stdout",
     "output_type": "stream",
     "text": [
      "Ezbet+el+Haggana,Cairo,Egypt\n",
      "Manshiyat+Naser,Cairo,Egypt\n",
      "Ashaiman,Accra,Ghana\n",
      "Agbogbloshie,Accra,Ghana\n",
      "Old+Fadama,Accra,Ghana\n",
      "Jamestown,Accra,Ghana\n",
      "Kojokrom,Kojokrom,Ghana\n",
      "New+Takoradi,New Takoradi,Ghana\n",
      "Suame+Magazine,Kumasi,Ghana\n",
      "Dandora,Nairobi,Kenya\n",
      "Huruma,Nairobi,Kenya\n",
      "Kangemi,Nairobi,Kenya\n",
      "Kariobangi,Nairobi,Kenya\n",
      "Kawangware,Nairobi,Kenya\n",
      "Kiambiu,Nairobi,Kenya\n",
      "Kibera,Nairobi,Kenya\n",
      "Korogocho,Nairobi,Kenya\n",
      "Kware,Nairobi,Kenya\n",
      "Majengo,Nairobi,Kenya\n",
      "Mathare,Nairobi,Kenya\n",
      "Matopeni,Nairobi,Kenya\n",
      "Mukuru kwa Njenga,Nairobi,Kenya\n",
      "Magongo,Mombasa,Kenya\n",
      "Majengo,Mombasa,Kenya\n",
      "Agege,Agege,Nigeria\n",
      "Ajegunle,Ajegunle,Nigeria\n",
      "Bariga,Bariga,Nigeria\n",
      "Bodija,Ibadan,Nigeria\n",
      "Ilaje,Ilaje,Nigeria\n",
      "Makoko,Makoko,Nigeria\n",
      "Mushin,Mushin,Nigeria\n",
      "Somolu,Somolu,Nigeria\n",
      "Kirti+Nagar,Delhi,India\n",
      "Munirka,Delhi,India\n",
      "Kathputhli+Colony,Delhi,India\n",
      "Pilkhana,Kolkata,India\n",
      "Tikiapara,Kolkata,India\n",
      "Basanti,Kolkata,India\n",
      "Chandmari,Guwahati,India\n",
      "Dharavi,Mumbai,India\n",
      "Banganga,Mumbai,India\n",
      "Baiganwadi,Mumbai,India\n",
      "Antop+Hill,Mumbai,India\n",
      "Vyasarpadi,Chennai,India\n",
      "Royapuram,Chennai,India\n",
      "Thiruvotriyur,Chennai,India\n",
      "Salia+Sahi,Bhubaneswar,India\n",
      "Kampung+Dao,Jakarta,Indonesia\n",
      "Kampung+Kalibaru,Jakarta,Indonesia\n",
      "Kampung+Tanah Merah Plumpang,Jakarta,Indonesia\n",
      "Kampung+Muara+Baru,Jakarta,Indonesia\n",
      "Kampung+Kalimati,Jakarta,Indonesia\n",
      "Tanah+Rendah,Jakarta,Indonesia\n",
      "Kampung+Bahari,Jakarta,Indonesia\n",
      "Tondo,Manila,Philippines\n",
      "San+Andres,Manila,Philippines\n",
      "District+14,Isfahan,Iran\n",
      "District+15,Tehran,Iran\n",
      "Machar+Colony,Karachi,Pakistan\n",
      "Wanathamulla,Colombo,Sri Lanka\n",
      "Mahwa+Aser,Sanaa,Yemen\n",
      "Vila+Parisi,Cubatao,Brazil\n"
     ]
    }
   ],
   "source": [
    "#list of slums in developing countries\n",
    "while read line \n",
    "do\n",
    "    echo \"$line\"\n",
    "done < slums.csv"
   ]
  },
  {
   "cell_type": "code",
   "execution_count": 1,
   "metadata": {
    "vscode": {
     "languageId": "shellscript"
    }
   },
   "outputs": [
    {
     "name": "stdout",
     "output_type": "stream",
     "text": [
      "Ezbet+el+Haggana,Cairo,Egypt\n",
      "Manshiyat+Naser,Cairo,Egypt\n",
      "Ashaiman,Accra,Ghana\n",
      "Agbogbloshie,Accra,Ghana\n",
      "Old+Fadama,Accra,Ghana\n",
      "Jamestown,Accra,Ghana\n",
      "Kojokrom,Kojokrom,Ghana\n",
      "New+Takoradi,New Takoradi,Ghana\n",
      "Suame+Magazine,Kumasi,Ghana\n",
      "Dandora,Nairobi,Kenya\n",
      "Huruma,Nairobi,Kenya\n",
      "Kangemi,Nairobi,Kenya\n",
      "Kariobangi,Nairobi,Kenya\n",
      "Kawangware,Nairobi,Kenya\n",
      "Kiambiu,Nairobi,Kenya\n",
      "Kibera,Nairobi,Kenya\n",
      "Korogocho,Nairobi,Kenya\n",
      "Kware,Nairobi,Kenya\n",
      "Majengo,Nairobi,Kenya\n",
      "Mathare,Nairobi,Kenya\n",
      "Matopeni,Nairobi,Kenya\n",
      "Mukuru kwa Njenga,Nairobi,Kenya\n",
      "Magongo,Mombasa,Kenya\n",
      "Majengo,Mombasa,Kenya\n",
      "Agege,Agege,Nigeria\n",
      "Ajegunle,Ajegunle,Nigeria\n",
      "Bariga,Bariga,Nigeria\n",
      "Bodija,Ibadan,Nigeria\n",
      "Ilaje,Ilaje,Nigeria\n",
      "Makoko,Makoko,Nigeria\n",
      "Mushin,Mushin,Nigeria\n",
      "Somolu,Somolu,Nigeria\n",
      "Kirti+Nagar,Delhi,India\n",
      "Munirka,Delhi,India\n",
      "Kathputhli+Colony,Delhi,India\n",
      "Pilkhana,Kolkata,India\n",
      "Tikiapara,Kolkata,India\n",
      "Basanti,Kolkata,India\n",
      "Chandmari,Guwahati,India\n",
      "Dharavi,Mumbai,India\n",
      "Banganga,Mumbai,India\n",
      "Baiganwadi,Mumbai,India\n",
      "Antop+Hill,Mumbai,India\n",
      "Vyasarpadi,Chennai,India\n",
      "Royapuram,Chennai,India\n",
      "Thiruvotriyur,Chennai,India\n",
      "Salia+Sahi,Bhubaneswar,India\n",
      "Kampung+Dao,Jakarta,Indonesia\n",
      "Kampung+Kalibaru,Jakarta,Indonesia\n",
      "Kampung+Tanah Merah Plumpang,Jakarta,Indonesia\n",
      "Kampung+Muara+Baru,Jakarta,Indonesia\n",
      "Kampung+Kalimati,Jakarta,Indonesia\n",
      "Tanah+Rendah,Jakarta,Indonesia\n",
      "Kampung+Bahari,Jakarta,Indonesia\n",
      "Tondo,Manila,Philippines\n",
      "San+Andres,Manila,Philippines\n",
      "District+14,Isfahan,Iran\n",
      "District+15,Tehran,Iran\n",
      "Machar+Colony,Karachi,Pakistan\n",
      "Wanathamulla,Colombo,Sri Lanka\n",
      "Mahwa+Aser,Sanaa,Yemen\n",
      "Vila+Parisi,Cubatao,Brazil\n",
      "Ciudad+Bolívar,Bogotá,Colombia\n"
     ]
    }
   ],
   "source": [
    "cat slums.csv"
   ]
  },
  {
   "cell_type": "code",
   "execution_count": 8,
   "metadata": {
    "vscode": {
     "languageId": "shellscript"
    }
   },
   "outputs": [],
   "source": [
    "#create file with only city,country columns\n",
    "cut -d, -f2,3 slums.csv > slums_cities.csv\n",
    "\n",
    "#create file with only name,country columns\n",
    "cut -d, -f1,3 slums.csv > slums_cities1.csv"
   ]
  },
  {
   "cell_type": "code",
   "execution_count": 9,
   "metadata": {
    "vscode": {
     "languageId": "shellscript"
    }
   },
   "outputs": [
    {
     "name": "stdout",
     "output_type": "stream",
     "text": [
      "\u001b[0;32m\"\\\"30.0443879\\\",\\\"31.2357257\\\",\\\"القاهرة\\\",\\\"city\\\"\"\u001b[0m\n",
      "\u001b[0;32m\"\\\"30.0332516\\\",\\\"31.562165102291935\\\",\\\"القاهرة\\\",\\\"state\\\"\"\u001b[0m\n"
     ]
    }
   ],
   "source": [
    "#Try the OpenStreetMap API to find the coordinates of the selected areas\n",
    "\n",
    "line=\"Cairo,Egypt\"\n",
    "\n",
    "curl -s \"https://nominatim.openstreetmap.org/search?q=${line// /+}&language=en&format=json\" | jq '.[] | [.lat, .lon, .name, .addresstype] | @csv'"
   ]
  },
  {
   "cell_type": "code",
   "execution_count": 5,
   "metadata": {
    "vscode": {
     "languageId": "shellscript"
    }
   },
   "outputs": [],
   "source": [
    "#using loop to collect coordinates from the API\n",
    "echo \"lat, long, name, addresstype\" > slums_coordinates.csv\n",
    "\n",
    "while read line\n",
    "do    \n",
    "    result=$(curl -s \"https://nominatim.openstreetmap.org/search?q=${line// /+}&format=json\" | jq '.[] | [.lat, .lon, .name, .addresstype] | @csv') \n",
    "    result2=$(echo \"${result//\\\"/}\")\n",
    "    echo \"${result2//\\\\/}\"\n",
    "\n",
    "done < slums_cities.csv >> slums_coordinates.csv"
   ]
  },
  {
   "cell_type": "code",
   "execution_count": 6,
   "metadata": {
    "vscode": {
     "languageId": "shellscript"
    }
   },
   "outputs": [
    {
     "name": "stdout",
     "output_type": "stream",
     "text": [
      "\u001b[1;39m{\n",
      "  \u001b[0m\u001b[34;1m\"results\"\u001b[0m\u001b[1;39m: \u001b[0m\u001b[1;39m[\n",
      "    \u001b[1;39m{\n",
      "      \u001b[0m\u001b[34;1m\"id\"\u001b[0m\u001b[1;39m: \u001b[0m\u001b[0;39m8556348\u001b[0m\u001b[1;39m,\n",
      "      \u001b[0m\u001b[34;1m\"name\"\u001b[0m\u001b[1;39m: \u001b[0m\u001b[0;32m\"Ezbet El Haggana\"\u001b[0m\u001b[1;39m,\n",
      "      \u001b[0m\u001b[34;1m\"latitude\"\u001b[0m\u001b[1;39m: \u001b[0m\u001b[0;39m30.06601\u001b[0m\u001b[1;39m,\n",
      "      \u001b[0m\u001b[34;1m\"longitude\"\u001b[0m\u001b[1;39m: \u001b[0m\u001b[0;39m31.38328\u001b[0m\u001b[1;39m,\n",
      "      \u001b[0m\u001b[34;1m\"elevation\"\u001b[0m\u001b[1;39m: \u001b[0m\u001b[0;39m143\u001b[0m\u001b[1;39m,\n",
      "      \u001b[0m\u001b[34;1m\"feature_code\"\u001b[0m\u001b[1;39m: \u001b[0m\u001b[0;32m\"PPLX\"\u001b[0m\u001b[1;39m,\n",
      "      \u001b[0m\u001b[34;1m\"country_code\"\u001b[0m\u001b[1;39m: \u001b[0m\u001b[0;32m\"EG\"\u001b[0m\u001b[1;39m,\n",
      "      \u001b[0m\u001b[34;1m\"admin1_id\"\u001b[0m\u001b[1;39m: \u001b[0m\u001b[0;39m360631\u001b[0m\u001b[1;39m,\n",
      "      \u001b[0m\u001b[34;1m\"timezone\"\u001b[0m\u001b[1;39m: \u001b[0m\u001b[0;32m\"Africa/Cairo\"\u001b[0m\u001b[1;39m,\n",
      "      \u001b[0m\u001b[34;1m\"country_id\"\u001b[0m\u001b[1;39m: \u001b[0m\u001b[0;39m357994\u001b[0m\u001b[1;39m,\n",
      "      \u001b[0m\u001b[34;1m\"country\"\u001b[0m\u001b[1;39m: \u001b[0m\u001b[0;32m\"Egypt\"\u001b[0m\u001b[1;39m,\n",
      "      \u001b[0m\u001b[34;1m\"admin1\"\u001b[0m\u001b[1;39m: \u001b[0m\u001b[0;32m\"Cairo\"\u001b[0m\u001b[1;39m\n",
      "    \u001b[1;39m}\u001b[0m\u001b[1;39m\n",
      "  \u001b[1;39m]\u001b[0m\u001b[1;39m,\n",
      "  \u001b[0m\u001b[34;1m\"generationtime_ms\"\u001b[0m\u001b[1;39m: \u001b[0m\u001b[0;39m0.7240772\u001b[0m\u001b[1;39m\n",
      "\u001b[1;39m}\u001b[0m\n"
     ]
    }
   ],
   "source": [
    "#collect coordinates from the Geocoding OpenMeteo API \n",
    "\n",
    "line=\"Ezbet+el+Haggana,Egypt\"\n",
    "curl -s \"https://geocoding-api.open-meteo.com/v1/search?name=${line}&format=json\" | jq "
   ]
  },
  {
   "cell_type": "code",
   "execution_count": 7,
   "metadata": {
    "vscode": {
     "languageId": "shellscript"
    }
   },
   "outputs": [],
   "source": [
    "while read line \n",
    "do\n",
    "    curl -s \"https://geocoding-api.open-meteo.com/v1/search?name=${line}&format=json\" | jq '.[]' \n",
    "done < slums_cities1.csv     "
   ]
  },
  {
   "cell_type": "code",
   "execution_count": 9,
   "metadata": {
    "vscode": {
     "languageId": "shellscript"
    }
   },
   "outputs": [
    {
     "name": "stdout",
     "output_type": "stream",
     "text": [
      "\n",
      "\n",
      "\n",
      "\n",
      "\n",
      "\n",
      "\n",
      "\n",
      "\n",
      "\n",
      "\n",
      "\n",
      "\n",
      "\n",
      "\n",
      "\n",
      "\n",
      "\n",
      "\n",
      "\n",
      "\n",
      "\n",
      "\n",
      "\n",
      "\n",
      "\n",
      "\n",
      "\n",
      "\n",
      "\n",
      "\n",
      "\n",
      "\n",
      "\n",
      "\n",
      "\n",
      "\n",
      "\n",
      "\n",
      "\n",
      "\n",
      "\n",
      "\n",
      "\n",
      "\n",
      "\n",
      "\n",
      "\n",
      "\n",
      "\n",
      "\n",
      "\n",
      "\n",
      "\n",
      "\n",
      "\n",
      "\n",
      "\n",
      "\n",
      "\n",
      "\n",
      "\n",
      "\n"
     ]
    }
   ],
   "source": [
    "while read line\n",
    "do \n",
    "   result=$(curl -s \"https://geocoding-api.open-meteo.com/v1/search?name=${line// /+}}&format=json\" | jq )\n",
    "   result2=$(echo \"${result//\\\"/}\")\n",
    "    echo \"${result2//\\\\/}\"\n",
    "done <slums_cities1.csv"
   ]
  },
  {
   "cell_type": "code",
   "execution_count": null,
   "metadata": {
    "vscode": {
     "languageId": "shellscript"
    }
   },
   "outputs": [],
   "source": [
    "#find the population density of the selected areas"
   ]
  },
  {
   "cell_type": "code",
   "execution_count": null,
   "metadata": {
    "vscode": {
     "languageId": "shellscript"
    }
   },
   "outputs": [],
   "source": [
    "#find the temperature data of the selected areas, with OperWeatherMap API\n",
    "\n",
    "https://api.openweathermap.org/data/3.0/onecall/timemachine?lat={lat}&lon={lon}&dt={time}&appid={API key}"
   ]
  },
  {
   "cell_type": "code",
   "execution_count": null,
   "metadata": {
    "vscode": {
     "languageId": "shellscript"
    }
   },
   "outputs": [],
   "source": []
  }
 ],
 "metadata": {
  "kernelspec": {
   "display_name": "Bash",
   "language": "bash",
   "name": "bash"
  },
  "language_info": {
   "codemirror_mode": "shell",
   "file_extension": ".sh",
   "mimetype": "text/x-sh",
   "name": "bash"
  }
 },
 "nbformat": 4,
 "nbformat_minor": 2
}
