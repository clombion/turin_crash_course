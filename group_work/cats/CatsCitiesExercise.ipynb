{
 "cells": [
  {
   "cell_type": "code",
   "execution_count": 2,
   "metadata": {
    "vscode": {
     "languageId": "shellscript"
    }
   },
   "outputs": [
    {
     "name": "stdout",
     "output_type": "stream",
     "text": [
      "City,Country\n",
      "Tokyo,Japan\n",
      "Delhi,India\n",
      "Shanghai,China\n",
      "São Paulo,Brazil\n",
      "Mexico City,Mexico\n",
      "Cairo,Egypt\n",
      "Mumbai,India\n",
      "Beijing,China\n",
      "Dhaka,Bangladesh\n",
      "Osaka,Japan\n",
      "New York-Newark,United States\n",
      "Karachi,Pakistan\n",
      "Buenos Aires,Argentina\n",
      "Chongqing,China\n",
      "Istanbul,Turkey\n",
      "Kolkata,India\n",
      "Manila,Philippines\n",
      "Lagos,Nigeria\n",
      "Rio de Janeiro,Brazil\n",
      "Tianjin,China\n",
      "Kinshasa,DR Congo\n",
      "Guangzhou,China\n",
      "Los Angeles,United States\n",
      "Moscow,Russia\n",
      "Shenzhen,China\n",
      "Lahore,Pakistan\n",
      "Bangalore,India\n",
      "Paris,France\n",
      "Bogotá,Colombia\n",
      "Jakarta,Indonesia\n",
      "Chennai,India\n",
      "Lima,Peru\n",
      "Bangkok,Thailand\n",
      "Seoul,South Korea\n",
      "Nagoya,Japan\n",
      "Hyderabad,India\n",
      "London,United Kingdom\n",
      "Tehran,Iran\n",
      "Chicago,United States\n",
      "Chengdu,China\n",
      "Nanjing,China\n",
      "Wuhan,China\n",
      "Ho Chi Minh City,Vietnam\n",
      "Luanda,Angola\n",
      "Ahmedabad,India\n",
      "Kuala Lumpur,Malaysia\n",
      "Xi'an,China\n",
      "Hong Kong,China\n",
      "Dongguan,China\n",
      "Hangzhou,China\n",
      "Foshan,China\n",
      "Shenyang,China\n",
      "Riyadh,Saudi Arabia\n",
      "Baghdad,Iraq\n",
      "Santiago,Chile\n",
      "Surat,India\n",
      "Madrid,Spain\n",
      "Suzhou,China\n",
      "Pune,India\n",
      "Harbin,China\n",
      "Houston,United States\n",
      "Dallas,United States\n",
      "Toronto,Canada\n",
      "Dar es Salaam,Tanzania\n",
      "Miami,United States\n",
      "Belo Horizonte,Brazil\n",
      "Singapore,Singapore\n",
      "Philadelphia,United States\n",
      "Atlanta,United States\n",
      "Fukuoka,Japan\n",
      "Khartoum,Sudan\n",
      "Barcelona,Spain\n",
      "Johannesburg,South Africa\n",
      "Saint Petersburg,Russia\n",
      "Qingdao,China\n",
      "Dalian,China\n",
      "Washington,United States\n",
      "Yangon,Myanmar\n",
      "Alexandria,Egypt\n",
      "Jinan,China\n",
      "Guadalajara,Mexico\n"
     ]
    }
   ],
   "source": [
    "#check if we have access to the csv\n",
    "cat cats_cities.csv"
   ]
  },
  {
   "cell_type": "code",
   "execution_count": 20,
   "metadata": {
    "vscode": {
     "languageId": "shellscript"
    }
   },
   "outputs": [
    {
     "name": "stdout",
     "output_type": "stream",
     "text": [
      "parse error: Invalid numeric literal at line 1, column 8\n",
      "parse error: Invalid numeric literal at line 1, column 8\n"
     ]
    }
   ],
   "source": [
    "echo \"lat, long, city, addresstype\" > cats_cities_coordinates.csv\n",
    "while read line\n",
    "do\n",
    "    curl -s \"https://nominatim.openstreetmap.org/search?q=${line// /+}&format=json\" | jq '.[] | [.lat, .lon, .name] | @csv'\n",
    "done < cats_cities.csv >> cats_cities_coordinates.csv"
   ]
  },
  {
   "cell_type": "code",
   "execution_count": 44,
   "metadata": {
    "vscode": {
     "languageId": "shellscript"
    }
   },
   "outputs": [],
   "source": [
    "echo \"lat, long, city, addresstype\" > cats_cities_coordinates2.csv\n",
    "while read city\n",
    "do    \n",
    "    result=$(curl -s \"https://nominatim.openstreetmap.org/search?q=${city}&format=json\" | jq '.[] | [.lat, .lon, .name, .addresstype] | @csv')\n",
    "    result2=$(echo \"${result//\\\"/}\")\n",
    "    echo \"${result2//\\\\/}\"\n",
    "done < cats_cities.csv >> cats_cities_coordinates2.csv"
   ]
  },
  {
   "cell_type": "code",
   "execution_count": 42,
   "metadata": {
    "vscode": {
     "languageId": "shellscript"
    }
   },
   "outputs": [
    {
     "name": "stdout",
     "output_type": "stream",
     "text": [
      "  % Total    % Received % Xferd  Average Speed   Time    Time     Time  Current\n",
      "                                 Dload  Upload   Total   Spent    Left  Speed\n",
      "100   449  100   449    0     0   1894      0 --:--:-- --:--:-- --:--:--  1894\n",
      "{\n",
      "  \"place_id\": 378166397,\n",
      "  \"licence\": \"Data © OpenStreetMap contributors, ODbL 1.0. http://osm.org/copyright\",\n",
      "  \"osm_type\": \"relation\",\n",
      "  \"osm_id\": 6080948,\n",
      "  \"lat\": \"24.8546842\",\n",
      "  \"lon\": \"67.0207055\",\n",
      "  \"class\": \"boundary\",\n",
      "  \"type\": \"administrative\",\n",
      "  \"place_rank\": 10,\n",
      "  \"importance\": 0.50001,\n",
      "  \"addresstype\": \"city\",\n",
      "  \"name\": \"کراچی ڈویژن\",\n",
      "  \"display_name\": \"کراچی ڈویژن, سندھ, پاکستان\",\n",
      "  \"boundingbox\": [\n",
      "    \"24.4273517\",\n",
      "    \"25.6767960\",\n",
      "    \"66.2862312\",\n",
      "    \"67.5827753\"\n",
      "  ]\n",
      "}\n"
     ]
    }
   ],
   "source": [
    "#testing with a jason to see how to get the country\n",
    "curl \"https://nominatim.openstreetmap.org/search?q=Karachi,Pakistan&format=json\" | jq '.[] ' > test.json\n",
    "cat test.json"
   ]
  },
  {
   "cell_type": "code",
   "execution_count": 45,
   "metadata": {
    "vscode": {
     "languageId": "shellscript"
    }
   },
   "outputs": [],
   "source": [
    "#uing the formula to filter by city only (no districts and so on) in the outcome .csv\n",
    "echo \"lat, long, city, addresstype\" > cats_cities_coordinates3.csv\n",
    "while read city\n",
    "do    \n",
    "    result=$(curl -s \"https://nominatim.openstreetmap.org/search?q=${city}&format=json\")\n",
    "    filtered_result=$(echo \"$result\" | jq -r 'map(select(.addresstype == \"city\")) | .[] | [.lat, .lon, .name, .addresstype] | @csv')\n",
    "    result2=$(echo \"${filtered_result//\\\"/}\")\n",
    "    echo \"${result2//\\\\/}\"\n",
    "done < cats_cities.csv >> cats_cities_coordinates3.csv\n"
   ]
  }
 ],
 "metadata": {
  "kernelspec": {
   "display_name": "Bash",
   "language": "bash",
   "name": "bash"
  },
  "language_info": {
   "codemirror_mode": "shell",
   "file_extension": ".sh",
   "mimetype": "text/x-sh",
   "name": "bash"
  }
 },
 "nbformat": 4,
 "nbformat_minor": 2
}
