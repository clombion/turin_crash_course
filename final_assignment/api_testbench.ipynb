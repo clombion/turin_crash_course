{
 "cells": [
  {
   "cell_type": "markdown",
   "metadata": {},
   "source": [
    "# ICT for Development - Collaborative API library\n",
    "\n",
    "## Overview\n",
    "\n",
    "This notebook aims to compile beginner-friendly documentation of APis relevant to the work of civic actors active in the field of international development. The project was started in 2024 by [Cedric Lombion](https://civicliteraci.es) to support his teaching at the University of Turin's ICT for Development and Social Good master's programme. Nonetheless, the project bears no formal affiliation with the university. \n",
    "\n",
    "Each entry aims to document key information and examples about the API being documented, with a focus on making them more accessible to beginners to APIs and command line scripting.\n",
    "\n",
    "We recommend viewing this notebook from the [nbsanity viewer](https://nbsanity.com/static/5cde5825c56c8bc90bf503ed1e340ca0/api_testbench.html) for better navigation.\n",
    "\n",
    "## Contributing\n",
    "\n",
    "### Main Steps\n",
    "\n",
    "1. Fork the repository\n",
    "2. add your API description and examples\n",
    "3. Ensure that your examples are well documented an suitable for beginners\n",
    "4. send a pull request which will be reviewed for addition.\n",
    "\n",
    "### Documentation Rules\n",
    "\n",
    "1. All description items should be filled. \n",
    "2. The \"use cases\" descriptor should include examples relevant to international development projects\n",
    "3. Up to 5 examples should be provided, each with a small introduction, with a focus on the examples relevant to international development\n",
    "\n",
    "| Property                | Description                                                        | Possible Values |\n",
    "|-------------------------|--------------------------------------------------------------------|-----------------|\n",
    "| Main Website            | The primary website for the API                                    |                 |\n",
    "| API Documentation       | Links to detailed API documentation                                |                 |\n",
    "| Purpose                 | The main purpose or functionality of the API                       |                 |\n",
    "| Example Use Cases       | Practical examples of how the API can be used                      |                 |\n",
    "| Free API Calls          | Whether the API offers free calls                                  |Yes with API / Yes without API|\n",
    "| Rate Limits for Free Usage | The rate limit for free API usage                               |                 |\n",
    "| Other Limitations       | Other potential limitations not covered by the free usage details  |                 |\n",
    "\n",
    "\n",
    "\n",
    "### Script writing\n",
    "\n",
    "1. The code should be commented and structured for readbility\n",
    "2. curl with --data-urlencode is the expected command for all queries. The use of alternatives should be explained.\n",
    "3. If the API example output is too long, use the ```jq_outliner``` variable to produce a summarized output.\n",
    "\n",
    "For suggestions or improvements, open an issue on the repository. Alternatively, contact us at contact [at] civicliteraci.es"
   ]
  },
  {
   "cell_type": "code",
   "execution_count": 35,
   "metadata": {
    "vscode": {
     "languageId": "shellscript"
    }
   },
   "outputs": [],
   "source": [
    "# outliner function to generate informative summaries of verbose API outputs. \n",
    "# note that the order of the top level json objects will not be preserved\n",
    "\n",
    "jq_outline='\n",
    "# Collect all unique paths as arrays of segments\n",
    "[ path(..) | map(if type == \"number\" then \"[]\" else tostring end) | join(\".\") ] | unique | map(split(\".\"))\n",
    "\n",
    "# Group paths by the first segment, filtering out any that do not have a second segment\n",
    "| group_by(.[0]) | map(select(.[0][0] != null))\n",
    "\n",
    "# Convert groups to objects with proper handling of potentially null keys\n",
    "| map({\n",
    "  key: (.[0][0] // \"undefined_key\"),  # Use 'undefined_key' or another placeholder if the key is null\n",
    "  value: (map(.[1:]) | map(join(\".\")) | map(select(length > 0) | \".\\(.)\") | unique)\n",
    "})\n",
    "\n",
    "# Merge all objects into a single object, handling null keys properly\n",
    "| from_entries\n",
    "'"
   ]
  },
  {
   "cell_type": "markdown",
   "metadata": {
    "vscode": {
     "languageId": "shellscript"
    }
   },
   "source": [
    "## Genderize API\n",
    "* **main website**: https://genderize.io\n",
    "* **API docs**: https://genderize.io/documentation\n",
    "* **Purpose:** predicts the gender of an individual based on their name and (optionally) country\n",
    "* **Example use cases:**\n",
    "    * Disaggregate past research data by gender\n",
    "    * Evaluate potential bias in projects that do not collect gender information\n",
    "* **Free API calls**: Yes, without API key\n",
    "* **Rate limiting for free usage**: 100 names/day & 10 names per batch request\n",
    "* **Other Limitations:** \n",
    "    * binary gender model\n",
    "    * using localization on a batch request will apply the given country_id to every name in the batch\n"
   ]
  },
  {
   "cell_type": "markdown",
   "metadata": {},
   "source": [
    "### Basic example"
   ]
  },
  {
   "cell_type": "code",
   "execution_count": 8,
   "metadata": {
    "vscode": {
     "languageId": "shellscript"
    }
   },
   "outputs": [
    {
     "name": "stdout",
     "output_type": "stream",
     "text": [
      "{\"count\":481613,\"name\":\"Marie Anne\",\"gender\":\"female\",\"probability\":1.0}\n"
     ]
    }
   ],
   "source": [
    "# We use the option --data-urlencode to make it easy to include names with special characters\n",
    "curl -G \"https://api.genderize.io/\" --data-urlencode \"name=Marie Anne\" --data-urlencode \"country=FR\""
   ]
  },
  {
   "cell_type": "markdown",
   "metadata": {},
   "source": [
    "### Multiple names in a request\n",
    "\n",
    "A loop can be used to construct a request that includes multiple names drawn from an array.  \n",
    "the API accepts only up to 10 names.  \n",
    "Adding a localization will apply to all names in the request."
   ]
  },
  {
   "cell_type": "code",
   "execution_count": 13,
   "metadata": {
    "vscode": {
     "languageId": "shellscript"
    }
   },
   "outputs": [
    {
     "name": "stdout",
     "output_type": "stream",
     "text": [
      "curl -s -G \"https://api.genderize.io?\" --data-urlencode \"name[]=yamen\" --data-urlencode \"name[]=lawson\" --data-urlencode \"name[]=maria\" --data-urlencode \"name[]=alejandro\"\n",
      "\u001b[1;39m[\n",
      "  \u001b[1;39m{\n",
      "    \u001b[0m\u001b[34;1m\"count\"\u001b[0m\u001b[1;39m: \u001b[0m\u001b[0;39m814\u001b[0m\u001b[1;39m,\n",
      "    \u001b[0m\u001b[34;1m\"name\"\u001b[0m\u001b[1;39m: \u001b[0m\u001b[0;32m\"lawson\"\u001b[0m\u001b[1;39m,\n",
      "    \u001b[0m\u001b[34;1m\"gender\"\u001b[0m\u001b[1;39m: \u001b[0m\u001b[0;32m\"male\"\u001b[0m\u001b[1;39m,\n",
      "    \u001b[0m\u001b[34;1m\"probability\"\u001b[0m\u001b[1;39m: \u001b[0m\u001b[0;39m0.88\u001b[0m\u001b[1;39m\n",
      "  \u001b[1;39m}\u001b[0m\u001b[1;39m,\n",
      "  \u001b[1;39m{\n",
      "    \u001b[0m\u001b[34;1m\"count\"\u001b[0m\u001b[1;39m: \u001b[0m\u001b[0;39m2687884\u001b[0m\u001b[1;39m,\n",
      "    \u001b[0m\u001b[34;1m\"name\"\u001b[0m\u001b[1;39m: \u001b[0m\u001b[0;32m\"maria\"\u001b[0m\u001b[1;39m,\n",
      "    \u001b[0m\u001b[34;1m\"gender\"\u001b[0m\u001b[1;39m: \u001b[0m\u001b[0;32m\"female\"\u001b[0m\u001b[1;39m,\n",
      "    \u001b[0m\u001b[34;1m\"probability\"\u001b[0m\u001b[1;39m: \u001b[0m\u001b[0;39m1\u001b[0m\u001b[1;39m\n",
      "  \u001b[1;39m}\u001b[0m\u001b[1;39m,\n",
      "  \u001b[1;39m{\n",
      "    \u001b[0m\u001b[34;1m\"count\"\u001b[0m\u001b[1;39m: \u001b[0m\u001b[0;39m386853\u001b[0m\u001b[1;39m,\n",
      "    \u001b[0m\u001b[34;1m\"name\"\u001b[0m\u001b[1;39m: \u001b[0m\u001b[0;32m\"alejandro\"\u001b[0m\u001b[1;39m,\n",
      "    \u001b[0m\u001b[34;1m\"gender\"\u001b[0m\u001b[1;39m: \u001b[0m\u001b[0;32m\"male\"\u001b[0m\u001b[1;39m,\n",
      "    \u001b[0m\u001b[34;1m\"probability\"\u001b[0m\u001b[1;39m: \u001b[0m\u001b[0;39m1\u001b[0m\u001b[1;39m\n",
      "  \u001b[1;39m}\u001b[0m\u001b[1;39m\n",
      "\u001b[1;39m]\u001b[0m\n"
     ]
    }
   ],
   "source": [
    "# Defining our arrays\n",
    "\n",
    "name_list=(\"yamen\" \"lawson\" \"maria\" \"alejandro\")\n",
    "country=(\"sy\" \"tg\" \"it\" \"es\")\n",
    "\n",
    "# Start building the curl command\n",
    "request=\"curl -s -G \\\"https://api.genderize.io?\\\"\"\n",
    "\n",
    "# Add each name to the curl command with --data-urlencode\n",
    "for name in \"${name_list[@]}\"\n",
    "do\n",
    "    request+=\" --data-urlencode \\\"name[]=${name}\\\"\"\n",
    "done\n",
    "\n",
    "# Check that the command is properly formed\n",
    "echo \"$request\"\n",
    "\n",
    "# Excute the command\n",
    "bash -c \"$request\" | jq"
   ]
  },
  {
   "cell_type": "markdown",
   "metadata": {},
   "source": [
    "### Automate name and country requests and CSV export\n",
    "\n",
    "We can create a loop that makes it possible to automate requests with both the name and country included.  \n",
    "We will process the returned json with jq to transform the results into tabular data."
   ]
  },
  {
   "cell_type": "code",
   "execution_count": 14,
   "metadata": {
    "vscode": {
     "languageId": "shellscript"
    }
   },
   "outputs": [
    {
     "name": "stdout",
     "output_type": "stream",
     "text": [
      "\u001b[0;32m\"\\\"yamen\\\",\\\"male\\\"\"\u001b[0m\n",
      "\u001b[0;32m\"\\\"lawson\\\",\\\"male\\\"\"\u001b[0m\n",
      "\u001b[0;32m\"\\\"maria\\\",\\\"female\\\"\"\u001b[0m\n",
      "\u001b[0;32m\"\\\"alejandro\\\",\\\"male\\\"\"\u001b[0m\n"
     ]
    }
   ],
   "source": [
    "# we declare our arrays\n",
    "name_list=(\"yamen\" \"lawson\" \"maria\" \"alejandro\")\n",
    "country=(\"sy\" \"tg\" \"it\" \"es\")\n",
    "\n",
    "# we count and store the number of values in our array to reuse it in the loop\n",
    "length=${#country[@]}\n",
    "\n",
    "# we loop through the arrays\n",
    "for ((i=0; i<length; i++))\n",
    "do\n",
    "    curl -s -G \"https://api.genderize.io/\" \\\n",
    "    --data-urlencode \"name=${name_list[$i]}\" \\\n",
    "    --data-urlencode \"country_id=${country[$i]}\" |\n",
    "    jq '[.name, .gender] | @csv'\n",
    "done"
   ]
  },
  {
   "cell_type": "markdown",
   "metadata": {},
   "source": [
    "## SerpAPI\n",
    "* **main website**: https://serpapi.com/\n",
    "* **API docs**: \n",
    "    * https://serpapi.com/\n",
    "    * https://serpapi.com/playground\n",
    "    * https://serpapi.com/search-api\n",
    "* **Purpose**: getting JSON formatted search results from multiple search engines\n",
    "* **Example use cases**:\n",
    "    * Monitoring the news on specific topics to improve organisational response in areas with no field staff\n",
    "    * Monitoring the impact of campaign communication efforts\n",
    "    * Monitor Google News for reporting on corruption cases\n",
    "    * Generate a list of amenities (e.g. doctor office) in an area to evaluate accessibility\n",
    "* **Free API calls**: Yes, with API key\n",
    "* **Rate limiting for free usage**: 100 calls / month\n",
    "* **Other Limitations:** "
   ]
  },
  {
   "cell_type": "markdown",
   "metadata": {},
   "source": [
    "### Simple query filtered with jq\n",
    "\n",
    "Example of a basic Google search query, as seen on their front page (only query that resolves without an API key).  \n",
    "The output is summarized with the outliner function."
   ]
  },
  {
   "cell_type": "code",
   "execution_count": 49,
   "metadata": {
    "vscode": {
     "languageId": "shellscript"
    }
   },
   "outputs": [
    {
     "name": "stdout",
     "output_type": "stream",
     "text": [
      "\u001b[1;39m{\n",
      "  \u001b[0m\u001b[1;34m\"immersive_products\"\u001b[0m\u001b[1;39m: \u001b[0m\u001b[1;39m[\n",
      "    \u001b[0;32m\".[]\"\u001b[0m\u001b[1;39m,\n",
      "    \u001b[0;32m\".[].extensions\"\u001b[0m\u001b[1;39m,\n",
      "    \u001b[0;32m\".[].extensions.[]\"\u001b[0m\u001b[1;39m,\n",
      "    \u001b[0;32m\".[].extracted_original_price\"\u001b[0m\u001b[1;39m,\n",
      "    \u001b[0;32m\".[].extracted_price\"\u001b[0m\u001b[1;39m,\n",
      "    \u001b[0;32m\".[].immersive_product_page_token\"\u001b[0m\u001b[1;39m,\n",
      "    \u001b[0;32m\".[].original_price\"\u001b[0m\u001b[1;39m,\n",
      "    \u001b[0;32m\".[].price\"\u001b[0m\u001b[1;39m,\n",
      "    \u001b[0;32m\".[].serpapi_link\"\u001b[0m\u001b[1;39m,\n",
      "    \u001b[0;32m\".[].source\"\u001b[0m\u001b[1;39m,\n",
      "    \u001b[0;32m\".[].thumbnail\"\u001b[0m\u001b[1;39m,\n",
      "    \u001b[0;32m\".[].title\"\u001b[0m\u001b[1;39m\n",
      "  \u001b[1;39m]\u001b[0m\u001b[1;39m,\n",
      "  \u001b[0m\u001b[1;34m\"local_map\"\u001b[0m\u001b[1;39m: \u001b[0m\u001b[1;39m[\n",
      "    \u001b[0;32m\".gps_coordinates\"\u001b[0m\u001b[1;39m,\n",
      "    \u001b[0;32m\".gps_coordinates.altitude\"\u001b[0m\u001b[1;39m,\n",
      "    \u001b[0;32m\".gps_coordinates.latitude\"\u001b[0m\u001b[1;39m,\n",
      "    \u001b[0;32m\".gps_coordinates.longitude\"\u001b[0m\u001b[1;39m,\n",
      "    \u001b[0;32m\".image\"\u001b[0m\u001b[1;39m,\n",
      "    \u001b[0;32m\".link\"\u001b[0m\u001b[1;39m\n",
      "  \u001b[1;39m]\u001b[0m\u001b[1;39m,\n",
      "  \u001b[0m\u001b[1;34m\"local_results\"\u001b[0m\u001b[1;39m: \u001b[0m\u001b[1;39m[\n",
      "    \u001b[0;32m\".more_locations_link\"\u001b[0m\u001b[1;39m,\n",
      "    \u001b[0;32m\".places\"\u001b[0m\u001b[1;39m,\n",
      "    \u001b[0;32m\".places.[]\"\u001b[0m\u001b[1;39m,\n",
      "    \u001b[0;32m\".places.[].address\"\u001b[0m\u001b[1;39m,\n",
      "    \u001b[0;32m\".places.[].description\"\u001b[0m\u001b[1;39m,\n",
      "    \u001b[0;32m\".places.[].lsig\"\u001b[0m\u001b[1;39m,\n",
      "    \u001b[0;32m\".places.[].place_id\"\u001b[0m\u001b[1;39m,\n",
      "    \u001b[0;32m\".places.[].place_id_search\"\u001b[0m\u001b[1;39m,\n",
      "    \u001b[0;32m\".places.[].position\"\u001b[0m\u001b[1;39m,\n",
      "    \u001b[0;32m\".places.[].rating\"\u001b[0m\u001b[1;39m,\n",
      "    \u001b[0;32m\".places.[].reviews\"\u001b[0m\u001b[1;39m,\n",
      "    \u001b[0;32m\".places.[].reviews_original\"\u001b[0m\u001b[1;39m,\n",
      "    \u001b[0;32m\".places.[].service_options\"\u001b[0m\u001b[1;39m,\n",
      "    \u001b[0;32m\".places.[].service_options.dine_in\"\u001b[0m\u001b[1;39m,\n",
      "    \u001b[0;32m\".places.[].thumbnail\"\u001b[0m\u001b[1;39m,\n",
      "    \u001b[0;32m\".places.[].title\"\u001b[0m\u001b[1;39m,\n",
      "    \u001b[0;32m\".places.[].type\"\u001b[0m\u001b[1;39m\n",
      "  \u001b[1;39m]\u001b[0m\u001b[1;39m,\n",
      "  \u001b[0m\u001b[1;34m\"organic_results\"\u001b[0m\u001b[1;39m: \u001b[0m\u001b[1;39m[\n",
      "    \u001b[0;32m\".[]\"\u001b[0m\u001b[1;39m,\n",
      "    \u001b[0;32m\".[].date\"\u001b[0m\u001b[1;39m,\n",
      "    \u001b[0;32m\".[].displayed_link\"\u001b[0m\u001b[1;39m,\n",
      "    \u001b[0;32m\".[].favicon\"\u001b[0m\u001b[1;39m,\n",
      "    \u001b[0;32m\".[].link\"\u001b[0m\u001b[1;39m,\n",
      "    \u001b[0;32m\".[].position\"\u001b[0m\u001b[1;39m,\n",
      "    \u001b[0;32m\".[].redirect_link\"\u001b[0m\u001b[1;39m,\n",
      "    \u001b[0;32m\".[].snippet\"\u001b[0m\u001b[1;39m,\n",
      "    \u001b[0;32m\".[].snippet_highlighted_words\"\u001b[0m\u001b[1;39m,\n",
      "    \u001b[0;32m\".[].snippet_highlighted_words.[]\"\u001b[0m\u001b[1;39m,\n",
      "    \u001b[0;32m\".[].source\"\u001b[0m\u001b[1;39m,\n",
      "    \u001b[0;32m\".[].thumbnail\"\u001b[0m\u001b[1;39m,\n",
      "    \u001b[0;32m\".[].title\"\u001b[0m\u001b[1;39m\n",
      "  \u001b[1;39m]\u001b[0m\u001b[1;39m,\n",
      "  \u001b[0m\u001b[1;34m\"pagination\"\u001b[0m\u001b[1;39m: \u001b[0m\u001b[1;39m[\n",
      "    \u001b[0;32m\".current\"\u001b[0m\u001b[1;39m,\n",
      "    \u001b[0;32m\".next\"\u001b[0m\u001b[1;39m,\n",
      "    \u001b[0;32m\".other_pages\"\u001b[0m\u001b[1;39m,\n",
      "    \u001b[0;32m\".other_pages.2\"\u001b[0m\u001b[1;39m,\n",
      "    \u001b[0;32m\".other_pages.3\"\u001b[0m\u001b[1;39m,\n",
      "    \u001b[0;32m\".other_pages.4\"\u001b[0m\u001b[1;39m,\n",
      "    \u001b[0;32m\".other_pages.5\"\u001b[0m\u001b[1;39m\n",
      "  \u001b[1;39m]\u001b[0m\u001b[1;39m,\n",
      "  \u001b[0m\u001b[1;34m\"refine_this_search\"\u001b[0m\u001b[1;39m: \u001b[0m\u001b[1;39m[\n",
      "    \u001b[0;32m\".[]\"\u001b[0m\u001b[1;39m,\n",
      "    \u001b[0;32m\".[].link\"\u001b[0m\u001b[1;39m,\n",
      "    \u001b[0;32m\".[].query\"\u001b[0m\u001b[1;39m,\n",
      "    \u001b[0;32m\".[].serpapi_link\"\u001b[0m\u001b[1;39m,\n",
      "    \u001b[0;32m\".[].thumbnail\"\u001b[0m\u001b[1;39m\n",
      "  \u001b[1;39m]\u001b[0m\u001b[1;39m,\n",
      "  \u001b[0m\u001b[1;34m\"related_questions\"\u001b[0m\u001b[1;39m: \u001b[0m\u001b[1;39m[\n",
      "    \u001b[0;32m\".[]\"\u001b[0m\u001b[1;39m,\n",
      "    \u001b[0;32m\".[].date\"\u001b[0m\u001b[1;39m,\n",
      "    \u001b[0;32m\".[].displayed_link\"\u001b[0m\u001b[1;39m,\n",
      "    \u001b[0;32m\".[].link\"\u001b[0m\u001b[1;39m,\n",
      "    \u001b[0;32m\".[].next_page_token\"\u001b[0m\u001b[1;39m,\n",
      "    \u001b[0;32m\".[].question\"\u001b[0m\u001b[1;39m,\n",
      "    \u001b[0;32m\".[].serpapi_link\"\u001b[0m\u001b[1;39m,\n",
      "    \u001b[0;32m\".[].snippet\"\u001b[0m\u001b[1;39m,\n",
      "    \u001b[0;32m\".[].source_logo\"\u001b[0m\u001b[1;39m,\n",
      "    \u001b[0;32m\".[].thumbnail\"\u001b[0m\u001b[1;39m,\n",
      "    \u001b[0;32m\".[].title\"\u001b[0m\u001b[1;39m\n",
      "  \u001b[1;39m]\u001b[0m\u001b[1;39m,\n",
      "  \u001b[0m\u001b[1;34m\"related_searches\"\u001b[0m\u001b[1;39m: \u001b[0m\u001b[1;39m[\n",
      "    \u001b[0;32m\".[]\"\u001b[0m\u001b[1;39m,\n",
      "    \u001b[0;32m\".[].block_position\"\u001b[0m\u001b[1;39m,\n",
      "    \u001b[0;32m\".[].link\"\u001b[0m\u001b[1;39m,\n",
      "    \u001b[0;32m\".[].query\"\u001b[0m\u001b[1;39m,\n",
      "    \u001b[0;32m\".[].serpapi_link\"\u001b[0m\u001b[1;39m\n",
      "  \u001b[1;39m]\u001b[0m\u001b[1;39m,\n",
      "  \u001b[0m\u001b[1;34m\"search_information\"\u001b[0m\u001b[1;39m: \u001b[0m\u001b[1;39m[\n",
      "    \u001b[0;32m\".organic_results_state\"\u001b[0m\u001b[1;39m,\n",
      "    \u001b[0;32m\".query_displayed\"\u001b[0m\u001b[1;39m\n",
      "  \u001b[1;39m]\u001b[0m\u001b[1;39m,\n",
      "  \u001b[0m\u001b[1;34m\"search_metadata\"\u001b[0m\u001b[1;39m: \u001b[0m\u001b[1;39m[\n",
      "    \u001b[0;32m\".created_at\"\u001b[0m\u001b[1;39m,\n",
      "    \u001b[0;32m\".google_url\"\u001b[0m\u001b[1;39m,\n",
      "    \u001b[0;32m\".id\"\u001b[0m\u001b[1;39m,\n",
      "    \u001b[0;32m\".json_endpoint\"\u001b[0m\u001b[1;39m,\n",
      "    \u001b[0;32m\".processed_at\"\u001b[0m\u001b[1;39m,\n",
      "    \u001b[0;32m\".raw_html_file\"\u001b[0m\u001b[1;39m,\n",
      "    \u001b[0;32m\".status\"\u001b[0m\u001b[1;39m,\n",
      "    \u001b[0;32m\".total_time_taken\"\u001b[0m\u001b[1;39m\n",
      "  \u001b[1;39m]\u001b[0m\u001b[1;39m,\n",
      "  \u001b[0m\u001b[1;34m\"search_parameters\"\u001b[0m\u001b[1;39m: \u001b[0m\u001b[1;39m[\n",
      "    \u001b[0;32m\".device\"\u001b[0m\u001b[1;39m,\n",
      "    \u001b[0;32m\".engine\"\u001b[0m\u001b[1;39m,\n",
      "    \u001b[0;32m\".gl\"\u001b[0m\u001b[1;39m,\n",
      "    \u001b[0;32m\".google_domain\"\u001b[0m\u001b[1;39m,\n",
      "    \u001b[0;32m\".hl\"\u001b[0m\u001b[1;39m,\n",
      "    \u001b[0;32m\".location_requested\"\u001b[0m\u001b[1;39m,\n",
      "    \u001b[0;32m\".location_used\"\u001b[0m\u001b[1;39m,\n",
      "    \u001b[0;32m\".q\"\u001b[0m\u001b[1;39m\n",
      "  \u001b[1;39m]\u001b[0m\u001b[1;39m,\n",
      "  \u001b[0m\u001b[1;34m\"serpapi_pagination\"\u001b[0m\u001b[1;39m: \u001b[0m\u001b[1;39m[\n",
      "    \u001b[0;32m\".current\"\u001b[0m\u001b[1;39m,\n",
      "    \u001b[0;32m\".next\"\u001b[0m\u001b[1;39m,\n",
      "    \u001b[0;32m\".next_link\"\u001b[0m\u001b[1;39m,\n",
      "    \u001b[0;32m\".other_pages\"\u001b[0m\u001b[1;39m,\n",
      "    \u001b[0;32m\".other_pages.2\"\u001b[0m\u001b[1;39m,\n",
      "    \u001b[0;32m\".other_pages.3\"\u001b[0m\u001b[1;39m,\n",
      "    \u001b[0;32m\".other_pages.4\"\u001b[0m\u001b[1;39m,\n",
      "    \u001b[0;32m\".other_pages.5\"\u001b[0m\u001b[1;39m\n",
      "  \u001b[1;39m]\u001b[0m\u001b[1;39m\n",
      "\u001b[1;39m}\u001b[0m\n"
     ]
    }
   ],
   "source": [
    "curl -s \"https://serpapi.com/search.json\" \\\n",
    "  --get \\\n",
    "  --data-urlencode \"q=Coffee\" \\\n",
    "  --data-urlencode \"location=Austin, Texas, United States\" \\\n",
    "  --data-urlencode \"hl=en\" \\\n",
    "  --data-urlencode \"gl=us\" \\\n",
    "  --data-urlencode \"google_domain=google.com\" \\\n",
    "  | jq \"$jq_outline\""
   ]
  },
  {
   "cell_type": "markdown",
   "metadata": {},
   "source": [
    "### Filtered data and export to CSV\n",
    "\n",
    "Same basic query, but with an explicit attribute filter and csv conversion with jq"
   ]
  },
  {
   "cell_type": "code",
   "execution_count": 39,
   "metadata": {
    "vscode": {
     "languageId": "shellscript"
    }
   },
   "outputs": [
    {
     "name": "stdout",
     "output_type": "stream",
     "text": [
      "\u001b[0;32m\"\\\"Coffee\\\",\\\"https://en.wikipedia.org/wiki/Coffee\\\",\\\"Coffee is a beverage brewed from roasted coffee beans. Darkly colored, bitter, and slightly acidic, coffee has a stimulating effect on humans, primarily due ...\\\"\"\u001b[0m\n",
      "\u001b[0;32m\"\\\"Starbucks Coffee Company\\\",\\\"https://www.starbucks.com/\\\",\\\"More than just great coffee. Explore the menu, sign up for Starbucks® Rewards, manage your gift card and more.\\\"\"\u001b[0m\n",
      "\u001b[0;32m\"\\\"Coffee | Origin, Types, Uses, History, & Facts\\\",\\\"https://www.britannica.com/topic/coffee\\\",\\\"Coffee, beverage brewed from the roasted and ground seeds of the tropical evergreen coffee plant of African origin. Coffee is one of the ...\\\"\"\u001b[0m\n",
      "\u001b[0;32m\"\\\"What is Coffee?\\\",\\\"https://www.ncausa.org/About-Coffee/What-is-Coffee\\\",\\\"Coffee traces its origin to a genus of plants known as Coffea. Within the genus there are over 500 genera and 6,000 species of tropical trees and shrubs.\\\"\"\u001b[0m\n",
      "\u001b[0;32m\"\\\"Coffee | The Nutrition Source - hsph.harvard.edu\\\",\\\"https://www.hsph.harvard.edu/nutritionsource/food-features/coffee/\\\",\\\"Low to moderate doses of caffeine (50–300 mg) may cause increased alertness, energy, and ability to concentrate, while higher doses may have negative effects ...\\\"\"\u001b[0m\n",
      "\u001b[0;32m\"\\\"Coffee health benefits: Diabetes, heart health, liver cancer, ...\\\",\\\"https://www.medicalnewstoday.com/articles/270202\\\",\\\"In some cases, coffee may be good for health, as it may offer benefits such as lowering the risk of type 2 diabetes and helping people lose weight.\\\"\"\u001b[0m\n",
      "\u001b[0;32m\"\\\"9 Health Benefits of Coffee, Based on Science\\\",\\\"https://www.healthline.com/nutrition/top-evidence-based-health-benefits-of-coffee\\\",\\\"Coffee contains caffeine, a stimulant that has been shown to increase energy levels and decrease fatigue by altering levels of certain ...\\\"\"\u001b[0m\n",
      "\u001b[0;32m\"\\\"The Coffee Bean & Tea Leaf | CBTL\\\",\\\"https://www.coffeebean.com/\\\",\\\"Born and brewed in Southern California since 1963, The Coffee Bean & Tea Leaf® is passionate about connecting loyal customers with carefully handcrafted ...\\\"\"\u001b[0m\n"
     ]
    }
   ],
   "source": [
    "curl -s \"https://serpapi.com/search.json\" \\\n",
    "  --get \\\n",
    "  --data-urlencode \"q=Coffee\" \\\n",
    "  --data-urlencode \"location=Austin, Texas, United States\" \\\n",
    "  --data-urlencode \"hl=en\" \\\n",
    "  --data-urlencode \"gl=us\" \\\n",
    "  --data-urlencode \"google_domain=google.com\"\\\n",
    "  | jq '.organic_results[] | [.title,.link, .snippet] | @csv'"
   ]
  },
  {
   "cell_type": "markdown",
   "metadata": {
    "vscode": {
     "languageId": "shellscript"
    }
   },
   "source": [
    "## Country Info API\n",
    "\n",
    "* **main website**: https://countryinfoapi.com\n",
    "* **API docs**: https://countryinfoapi.com\n",
    "* **Purpose**: fetch additional info about a country/continent etc\n",
    "* **Example use cases**: \n",
    "    * adding contextual geographical information to a list of cities or countries\n",
    "* **Free API calls**: Yes, without API key\n",
    "* **Rate limiting for free usage**: unknown\n",
    "* **Other Limitations:**\n",
    "\n"
   ]
  },
  {
   "cell_type": "markdown",
   "metadata": {},
   "source": [
    "### Loop example\n",
    "\n",
    "Using a loop to get additional info about a list of countries."
   ]
  },
  {
   "cell_type": "code",
   "execution_count": 81,
   "metadata": {
    "vscode": {
     "languageId": "shellscript"
    }
   },
   "outputs": [
    {
     "name": "stdout",
     "output_type": "stream",
     "text": [
      "\u001b[0;32m\"\\\"France\\\",\\\"Europe\\\",67391582\"\u001b[0m\n",
      "\u001b[0;32m\"\\\"Togo\\\",\\\"Africa\\\",8278737\"\u001b[0m\n",
      "\u001b[0;32m\"\\\"Italy\\\",\\\"Europe\\\",59554023\"\u001b[0m\n",
      "\u001b[0;32m\"\\\"Germany\\\",\\\"Europe\\\",83240525\"\u001b[0m\n",
      "\u001b[0;32m\"\\\"Syria\\\",\\\"Asia\\\",17500657\"\u001b[0m\n",
      "\u001b[0;32m\"\\\"Ivory Coast\\\",\\\"Africa\\\",26378275\"\u001b[0m\n",
      "\u001b[0;32m\"\\\"New Zealand\\\",\\\"Oceania\\\",5084300\"\u001b[0m\n"
     ]
    }
   ],
   "source": [
    "# the api structure doesn't use a typical REST format, so we use jq's uri encoding\n",
    "# instead of --data-urlencode\n",
    "\n",
    "countries=(\"France\" \"Togo\" \"Italy\" \"Germany\" \"Syria\" \"Ivory Coast\" \"New Zealand\")\n",
    "\n",
    "for i in \"${countries[@]}\"\n",
    "do  \n",
    "    country=$(echo -n \"$i\" | jq -sRr @uri)\n",
    "    curl -s \"https://countryinfoapi.com/api/countries/name/$country\" | jq '[.name,.region,.population] | @csv'\n",
    "done\n"
   ]
  },
  {
   "cell_type": "code",
   "execution_count": 63,
   "metadata": {
    "vscode": {
     "languageId": "shellscript"
    }
   },
   "outputs": [
    {
     "name": "stdout",
     "output_type": "stream",
     "text": [
      "<!DOCTYPE html>\n",
      "<html lang=\"en\">\n",
      "<head>\n",
      "<meta charset=\"utf-8\">\n",
      "<title>Error</title>\n",
      "</head>\n",
      "<body>\n",
      "<pre>Cannot GET /api/population/greater</pre>\n",
      "</body>\n",
      "</html>\n"
     ]
    }
   ],
   "source": []
  },
  {
   "cell_type": "markdown",
   "metadata": {},
   "source": [
    "## Open Meteo API\n",
    "\n",
    "* **main website**: https://api.open-meteo.com\n",
    "* **API docs**: https://open-meteo.com/en/docs\n",
    "* **Purpose**: get historical weather data, weather forecast data, marine weather data and climate change-related data\n",
    "* **Example use cases**: \n",
    "    * monitor flood risks related to heavy rains\n",
    "    * Monitor weather to adjust field deployments\n",
    "    * Compare how different locations are affected by climate change\n",
    "* **Free API calls**: Yes, without API key\n",
    "* **Rate limiting for free usage**: 10,000 /day\n",
    "* **Other Limitations:**"
   ]
  },
  {
   "cell_type": "markdown",
   "metadata": {},
   "source": [
    "### Basic example\n",
    "\n",
    "Summarized wth the outliner function."
   ]
  },
  {
   "cell_type": "code",
   "execution_count": 58,
   "metadata": {
    "vscode": {
     "languageId": "shellscript"
    }
   },
   "outputs": [
    {
     "name": "stdout",
     "output_type": "stream",
     "text": [
      "\u001b[1;39m{\n",
      "  \u001b[0m\u001b[1;34m\"elevation\"\u001b[0m\u001b[1;39m: \u001b[0m\u001b[1;39m[]\u001b[0m\u001b[1;39m,\n",
      "  \u001b[0m\u001b[1;34m\"generationtime_ms\"\u001b[0m\u001b[1;39m: \u001b[0m\u001b[1;39m[]\u001b[0m\u001b[1;39m,\n",
      "  \u001b[0m\u001b[1;34m\"hourly\"\u001b[0m\u001b[1;39m: \u001b[0m\u001b[1;39m[\n",
      "    \u001b[0;32m\".precipitation\"\u001b[0m\u001b[1;39m,\n",
      "    \u001b[0;32m\".precipitation.[]\"\u001b[0m\u001b[1;39m,\n",
      "    \u001b[0;32m\".time\"\u001b[0m\u001b[1;39m,\n",
      "    \u001b[0;32m\".time.[]\"\u001b[0m\u001b[1;39m\n",
      "  \u001b[1;39m]\u001b[0m\u001b[1;39m,\n",
      "  \u001b[0m\u001b[1;34m\"hourly_units\"\u001b[0m\u001b[1;39m: \u001b[0m\u001b[1;39m[\n",
      "    \u001b[0;32m\".precipitation\"\u001b[0m\u001b[1;39m,\n",
      "    \u001b[0;32m\".time\"\u001b[0m\u001b[1;39m\n",
      "  \u001b[1;39m]\u001b[0m\u001b[1;39m,\n",
      "  \u001b[0m\u001b[1;34m\"latitude\"\u001b[0m\u001b[1;39m: \u001b[0m\u001b[1;39m[]\u001b[0m\u001b[1;39m,\n",
      "  \u001b[0m\u001b[1;34m\"longitude\"\u001b[0m\u001b[1;39m: \u001b[0m\u001b[1;39m[]\u001b[0m\u001b[1;39m,\n",
      "  \u001b[0m\u001b[1;34m\"timezone\"\u001b[0m\u001b[1;39m: \u001b[0m\u001b[1;39m[]\u001b[0m\u001b[1;39m,\n",
      "  \u001b[0m\u001b[1;34m\"timezone_abbreviation\"\u001b[0m\u001b[1;39m: \u001b[0m\u001b[1;39m[]\u001b[0m\u001b[1;39m,\n",
      "  \u001b[0m\u001b[1;34m\"utc_offset_seconds\"\u001b[0m\u001b[1;39m: \u001b[0m\u001b[1;39m[]\u001b[0m\u001b[1;39m\n",
      "\u001b[1;39m}\u001b[0m\n"
     ]
    }
   ],
   "source": [
    "curl -s \"https://api.open-meteo.com/v1/forecast\" \\\n",
    "  --get \\\n",
    "  --data-urlencode \"latitude=52.5200\" \\\n",
    "  --data-urlencode \"longitude=13.4050\" \\\n",
    "  --data-urlencode \"hourly=precipitation\" \\\n",
    "  --data-urlencode \"start_date=2024-04-10\" \\\n",
    "  --data-urlencode \"end_date=2024-04-11\" \\\n",
    "  --data-urlencode \"timezone=auto\" \\\n",
    "| jq \"$jq_outline\""
   ]
  },
  {
   "cell_type": "markdown",
   "metadata": {},
   "source": [
    "### Calculating daily precipitations\n",
    "\n",
    "Relevant for analysis around flood risks.  \n",
    "Same query as before, but the timeframe is extened over 5 days instead of 24h"
   ]
  },
  {
   "cell_type": "code",
   "execution_count": 59,
   "metadata": {
    "vscode": {
     "languageId": "shellscript"
    }
   },
   "outputs": [
    {
     "name": "stdout",
     "output_type": "stream",
     "text": [
      "\u001b[0;39m0.9000000000000001\u001b[0m\n"
     ]
    }
   ],
   "source": [
    "curl -s \"https://api.open-meteo.com/v1/forecast\" \\\n",
    "  --get \\\n",
    "  --data-urlencode \"latitude=52.5200\" \\\n",
    "  --data-urlencode \"longitude=13.4050\" \\\n",
    "  --data-urlencode \"hourly=precipitation\" \\\n",
    "  --data-urlencode \"start_date=2024-04-10\" \\\n",
    "  --data-urlencode \"end_date=2024-04-15\" \\\n",
    "  --data-urlencode \"timezone=auto\" \\\n",
    "| jq '[.hourly.precipitation[]] | add'"
   ]
  },
  {
   "cell_type": "markdown",
   "metadata": {},
   "source": [
    "## Healthsites.io API\n",
    "\n",
    "* **main website**: \n",
    "* **API docs**: \n",
    "* **Purpose:** \n",
    "* **Limitations:** "
   ]
  },
  {
   "cell_type": "markdown",
   "metadata": {},
   "source": [
    "# World Bank API\n",
    "by Alejandro Sainz-Pardo\n",
    "\n",
    "* **main website**: [World Bank API](https://documents.worldbank.org/en/publication/documents-reports/api) \n",
    "* **API docs**: All details on how to work with the API in the [link](https://documents.worldbank.org/en/publication/documents-reports/api)\n",
    "* **Purpose:** The World Bank offers an API that allows for the search and retrieval of the public, Bank documents available in the Documents & Reports site.  Records can be retrieved in a format useful for research and for inclusion in web sites outside of Documents & Reports and the World Bank. \n",
    "* **Limitations:** Imagination"
   ]
  },
  {
   "cell_type": "code",
   "execution_count": 8,
   "metadata": {
    "vscode": {
     "languageId": "shellscript"
    }
   },
   "outputs": [
    {
     "name": "stdout",
     "output_type": "stream",
     "text": [
      "{\"rows\":10,\"os\":0,\"page\":1,\"total\":546,\"documents\":{\"D11831032\":{\"id\":\"11831032\",\"count\":\"Mexico\",\"entityids\":{\"entityid\":\"000334955_20100222012800\"},\"docdt\":\"2006-04-24T00:00:00Z\",\"abstracts\":{\"cdata!\":\"The objective of the Wind Umbrella (La\\n            Venta II) Project aims to reduce greenhouse gases emissions\\n            from power generation in Mexico and promote investment in\\n            wind energy in Mexico to diversify the sources of power\\n            generation in the country. There two components to the\\n            projects. The first component of the project is purchase of\\n            carbon emissions reductions. Certified emissions reduction\\n            (CFE) uses a long-term power planning simulation model\\n            (DECADES) to select future power plants that are needed for\\n            the expansion of the country's electricity system. On\\n            the basis of such modeling results it is possible to compare\\n            alternative scenarios of new generation plants and estimate\\n            emissions with- and without the wind power plants in the\\n            long term. During the operational period the actual\\n            dispatching of energy generated from the wind power plant is\\n            controlled by the National Center for Energy Control\\n            (CENACE) and can be monitored in real time to record the\\n            amount of electricity produced from the plant and the\\n            equivalent avoided emissions for verification purposes. The\\n            second component of the project is wind energy power plant\\n            and interconnection line. Emissions reductions will be the\\n            result of CFE's wind energy project to be located in\\n            the ejido la Venta, municipality of Juchitan de Zaragoza, a\\n            region known as the Istmo de Tehuantepec, state of Oaxaca.\\n            CFE's wind energy project will use wind turbine\\n            generators that transform the kinetic energy of the wind to\\n            generate electricity.\"},\"display_title\":\"Mexico - Wind Umbrella (La Venta\\n            II) Project\",\"pdfurl\":\"http://documents.worldbank.org/curated/en/995361468056343658/pdf/529200PAD0P0801for0disclosure0final.pdf\",\"listing_relative_url\":\"/projects/documents/2006/04/11831032/mexico-wind-umbrella-la-venta-ii-project\",\"url_friendly_title\":\"http://documents.worldbank.org/curated/en/995361468056343658/Mexico-Wind-Umbrella-La-Venta-II-Project\",\"new_url\":\"2006/04/11831032/mexico-wind-umbrella-la-venta-ii-project\",\"guid\":\"995361468056343658\",\"url\":\"http://documents.worldbank.org/curated/en/995361468056343658/Mexico-Wind-Umbrella-La-Venta-II-Project\"},\"D29900830\":{\"id\":\"29900830\",\"count\":\"Zambia\",\"entityids\":{\"entityid\":\"090224b08608649a_3_0\"},\"docdt\":\"2018-05-01T00:00:00Z\",\"abstracts\":{\"cdata!\":\"The overall Zambia ESMAP program\\n            consists of providing a validated mesoscale wind atlas for\\n            Zambia, including associated deliverables and wind energy\\n            development training courses. Meteorological data is\\n            collected at eight sites over a 2-year period. This 12-month\\n            Site Resource Report provides interim wind resource\\n            statistics at the eight masts and energy production\\n            estimates for preliminary wind farms in the vicinity of the\\n            masts. The program’s goal is to provide Zambian policy\\n            makers, stakeholders and independent power producers with\\n            accurate and valuable knowledge of the national wind\\n            resource, including complementary tools, which can be of\\n            direct practical use, both for formulating energy policy and\\n            implementing wind projects.A key conclusion from this study\\n            is that there is now an established network of\\n            state-of-the-art wind measurement masts in Zambia that can\\n            be used to support stakeholder wind analysis activities and\\n            future utility-scale wind development in-country. In the\\n            future, this network of masts will also provide the industry\\n            with a source of long-term reference station data which\\n            could greatly reduce uncertainties for potential developers.\\n            The data collected from the eight met masts are considered\\n            very good both in terms of data quality and data coverage.\\n            The primary goal of the met masts was not to provide\\n            potential wind farm locations, but instead to validate a\\n            country-wide wind map. However, and as a secondary goal, it\\n            is noted that from this analysis, several met mast locations\\n            are sited in areas where wind development could be\\n            considered viable and potentially bankable with current\\n            turbine technology. Further investment by stakeholders in\\n            well-organized measurement campaigns and in feasibility\\n            analysis that are focused on reducing uncertainties will\\n            help support future growth of the Zambian wind market.\"},\"display_title\":\"Renewable energy wind mapping for\\n            Zambia : 12-month site resource report\",\"pdfurl\":\"http://documents.worldbank.org/curated/en/528711526549758961/pdf/Renewable-energy-wind-mapping-for-Zambia-12-month-site-resource-report.pdf\",\"listing_relative_url\":\"/research/2018/05/29900830/renewable-energy-wind-mapping-zambia-12-month-site-resource-report\",\"url_friendly_title\":\"http://documents.worldbank.org/curated/en/528711526549758961/Renewable-energy-wind-mapping-for-Zambia-12-month-site-resource-report\",\"new_url\":\"2018/05/29900830/renewable-energy-wind-mapping-zambia-12-month-site-resource-report\",\"guid\":\"528711526549758961\",\"url\":\"http://documents.worldbank.org/curated/en/528711526549758961/Renewable-energy-wind-mapping-for-Zambia-12-month-site-resource-report\"},\"D15615154\":{\"id\":\"15615154\",\"count\":\"Latin America\",\"entityids\":{\"entityid\":\"000386194_20120109010935\"},\"docdt\":\"2011-12-01T00:00:00Z\",\"abstracts\":{\"cdata!\":\"This report identifies good practices\\n            for managing the key environmental and social issues\\n            associated with wind power development and provides advice\\n            on how best to address these issues in project planning,\\n            construction, and operation and maintenance. It provides\\n            detailed background information on wind power, with special\\n            focus on two emerging themes of growing scientific and\\n            public interest: namely the biodiversity-related impacts and\\n            the broader socioeconomic and cultural dimensions of wind\\n            power development. Like wind power itself, the scope of this\\n            report is worldwide although special attention is paid to\\n            the issues characteristic of the Latin America and Caribbean\\n            (LAC) region. While the principal focus is on land-based\\n            wind power, it also briefly addresses the environmental and\\n            social impacts related to off shore wind development. Wind\\n            power today is widely regarded as a key component of an\\n            environmentally sustainable, low-carbon energy future\\n            because it is renewable, requires almost no water, and\\n            generates near-zero emissions of greenhouse gases and other\\n            pollutants. In many parts of the world, wind power has the\\n            potential to significantly reduce greenhouse gas (GHG)\\n            emissions from electric power generation, thereby helping to\\n            limit the severe environmental and social consequences of\\n            human-induced climate change. The growth of wind power has\\n            also occurred due to its other positive attributes,\\n            including growing economic competitiveness. The adverse\\n            biodiversity-related impacts of wind power facilities mainly\\n            involve birds, bats, and natural habitats.\"},\"display_title\":\"Greening the wind : environmental\\n            and social considerations for wind power development\",\"pdfurl\":\"http://documents.worldbank.org/curated/en/239851468089382658/pdf/662330PUB0EPI00e0wind09780821389263.pdf\",\"listing_relative_url\":\"/research/2011/12/15615154/greening-wind-environmental-social-considerations-wind-power-development\",\"url_friendly_title\":\"http://documents.worldbank.org/curated/en/239851468089382658/Greening-the-wind-environmental-and-social-considerations-for-wind-power-development\",\"new_url\":\"2012/01/15615154/greening-wind-environmental-social-considerations-wind-power-development\",\"guid\":\"239851468089382658\",\"url\":\"http://documents.worldbank.org/curated/en/239851468089382658/Greening-the-wind-environmental-and-social-considerations-for-wind-power-development\"},\"D19544300\":{\"id\":\"19544300\",\"count\":\"World\",\"entityids\":{\"entityid\":\"000333037_20140521124748\"},\"docdt\":\"2014-05-21T00:00:00Z\",\"abstracts\":{\"cdata!\":\"The kinetic energy in wind is converted\\n            into mechanical power in specialized propeller-driven\\n            turbines mounted on towers. A generator inside the turbine\\n            converts the mechanical power into electricity.\\n            Utility-scale wind turbines range in size from 100 kilowatts\\n            to as large as several megawatts. Turbines can be built on\\n            land or offshore and are grouped into 'wind farms'\\n            that provide bulk power to the electrical grid. Smaller\\n            turbines are used for homes, telecommunications dishes, and\\n            water pumping, sometimes in connection with diesel\\n            generators, batteries, and photovoltaic systems. Such hybrid\\n            wind systems are typically used in remote, off-grid\\n            locations, where a connection to the utility grid is not\\n            available. This note focuses on onshore wind energy, which\\n            is more widely established and has lower risks than offshore wind.\"},\"display_title\":\"Implementing onshore wind power projects\",\"pdfurl\":\"http://documents.worldbank.org/curated/en/556561468337209595/pdf/881840BRI0Live00Box385205B00PUBLIC0.pdf\",\"listing_relative_url\":\"/research/2014/05/19544300/implementing-onshore-wind-power-projects\",\"url_friendly_title\":\"http://documents.worldbank.org/curated/en/556561468337209595/Implementing-onshore-wind-power-projects\",\"new_url\":\"2014/03/19544300/implementing-onshore-wind-power-projects\",\"guid\":\"556561468337209595\",\"url\":\"http://documents.worldbank.org/curated/en/556561468337209595/Implementing-onshore-wind-power-projects\"},\"D31211834\":{\"id\":\"31211834\",\"count\":\"Maldives\",\"entityids\":{\"entityid\":\"090224b086e466ac_1_0\"},\"docdt\":\"2018-10-01T00:00:00Z\",\"abstracts\":{\"cdata!\":\"This report presents a description of\\n            the project sites and indicative turbine technology\\n            considered. It then describes the available measurements and\\n            analysis of the wind data. This is followed by an evaluation\\n            of the expected project gross and net energy for a wind\\n            turbine near the measurement locations, as influenced by\\n            assumed losses and uncertainties. It then provides an\\n            overview of the extreme winds and turbulence expected at the\\n            sites. Finally, it presents DNV GL’s observations and recommendations.\"},\"display_title\":\"Wind Resource Mapping in Maldives\\n            : 12 Month Site Resource Report\",\"pdfurl\":\"http://documents.worldbank.org/curated/en/271161564037906304/pdf/Wind-Resource-Mapping-in-Maldives-12-Month-Site-Resource-Report.pdf\",\"listing_relative_url\":\"/research/2018/10/31211834/wind-resource-mapping-maldives-12-month-site-resource-report\",\"url_friendly_title\":\"http://documents.worldbank.org/curated/en/271161564037906304/Wind-Resource-Mapping-in-Maldives-12-Month-Site-Resource-Report\",\"new_url\":\"2018/10/31211834/wind-resource-mapping-maldives-12-month-site-resource-report\",\"guid\":\"271161564037906304\",\"url\":\"http://documents.worldbank.org/curated/en/271161564037906304/Wind-Resource-Mapping-in-Maldives-12-Month-Site-Resource-Report\"},\"D19030958\":{\"id\":\"19030958\",\"count\":\"Yemen, Republic of\",\"entityids\":{\"entityid\":\"000442464_20140220094225\"},\"docdt\":\"2014-02-11T00:00:00Z\",\"abstracts\":{\"cdata!\":\"The development objective of the Mocha\\n            Wind Park Project for Yemen is to increase the supply of\\n            cost-effective renewable wind electricity. The project has\\n            two components. The first component physical investment will\\n            support the construction of a wind farm at Mocha of\\n            approximately 60 megawatt (MW) generation capacity. This\\n            component will initially be implemented by a project\\n            management unit (PMU) established under the Ministry of\\n            Electricity and Energy (MOEE). The second component\\n            consulting services and market development consists of the\\n            following sub-components: (i) an international engineering\\n            consulting firm employed to assist the PMU in the\\n            procurement and contracting of the supply and installation\\n            contractor and in the construction supervision of the\\n            project throughout the construction phase and the initial\\n            operation stage; (ii) an international consulting firm\\n            employed to assist MOEE to design tendering procedures and\\n            documents for competitive procurement of private-public\\n            partnership (PPP) wind projects and to assist MOEE with the\\n            tendering process; (iii) advisory service for special\\n            purpose company (SPC) which will operate commercially with\\n            clear contractual arrangement with the electricity\\n            off-taker; (iv) advisory service and instruments for the\\n            implementation of regional long-term wind measurement\\n            program in three to five wind development zones; (v)\\n            consulting service for preliminary environmental and social\\n            impact assessments, grid connection planning for promising\\n            wind sites; and (vi) other consulting services as needed and\\n            capacity building activities, including external audit fees.\"},\"display_title\":\"Yemen - Mocha Wind Park Project\",\"pdfurl\":\"http://documents.worldbank.org/curated/en/156751468335513164/pdf/PAD6510P146055010Box382145B00OUO090.pdf\",\"listing_relative_url\":\"/projects/documents/2014/02/19030958/yemen-mocha-wind-park-project\",\"url_friendly_title\":\"http://documents.worldbank.org/curated/en/156751468335513164/Yemen-Mocha-Wind-Park-Project\",\"new_url\":\"2014/02/19030958/yemen-mocha-wind-park-project\",\"guid\":\"156751468335513164\",\"url\":\"http://documents.worldbank.org/curated/en/156751468335513164/Yemen-Mocha-Wind-Park-Project\"},\"D31211780\":{\"id\":\"31211780\",\"count\":\"Maldives\",\"entityids\":{\"entityid\":\"090224b086e466ae_1_0\"},\"docdt\":\"2019-06-28T00:00:00Z\",\"abstracts\":{\"cdata!\":\"The World Bank (the ‘Customer’) retained\\n            Garrad Hassan America, Inc. (DNV GL) to complete a 24-month\\n            Site Resource Report, which consists of an independent\\n            analysis of the wind regime and energy production at two\\n            locations in the Maldives, as part of the Wind Resource\\n            Assessment and Mapping in the Maldives project. The results\\n            of the work are reported here. The project is primarily\\n            funded by the Energy Sector Management Assistance Program\\n            (ESMAP). The overall objective consists of providing a\\n            validated mesoscale wind atlas for the Maldives, including\\n            associated datasets. This aims to provide policy makers in\\n            the Maldives and other stakeholders with accurate and\\n            valuable knowledge of the national wind resource, including\\n            complementary tools, which can be of direct practical use,\\n            both for formulating energy policy and implementing wind\\n            projects. This report presents a description of the project\\n            sites and indicative turbine technology considered. It then\\n            describes the available measurements and analysis of the\\n            wind data. This is followed by an evaluation of the expected\\n            project gross and net energy for a wind turbine in the\\n            vicinity of the measurement locations, as influenced by\\n            assumed losses and uncertainties. It then provides an\\n            overview of the extreme winds and turbulence expected at the\\n            sites. Finally, it presents DNV GL’s observations and recommendations.\"},\"display_title\":\"Wind Resource Mapping in Maldives\\n            : 24 Month Site Resource Report\",\"pdfurl\":\"http://documents.worldbank.org/curated/en/669001564037551160/pdf/Wind-Resource-Mapping-in-Maldives-24-Month-Site-Resource-Report.pdf\",\"listing_relative_url\":\"/research/2019/06/31211780/wind-resource-mapping-maldives-24-month-site-resource-report\",\"url_friendly_title\":\"http://documents.worldbank.org/curated/en/669001564037551160/Wind-Resource-Mapping-in-Maldives-24-Month-Site-Resource-Report\",\"new_url\":\"2019/06/31211780/wind-resource-mapping-maldives-24-month-site-resource-report\",\"guid\":\"669001564037551160\",\"url\":\"http://documents.worldbank.org/curated/en/669001564037551160/Wind-Resource-Mapping-in-Maldives-24-Month-Site-Resource-Report\"},\"D26951778\":{\"id\":\"26951778\",\"count\":\"World\",\"entityids\":{\"entityid\":\"090224b084710367_1_0\"},\"docdt\":\"2015-08-07T00:00:00Z\",\"abstracts\":{\"cdata!\":\"The environmental, health, and safety\\n            (EHS) guidelines are technical reference documents with\\n            general and industry-specific examples of good international\\n            industry practice (GIIP). When one or more members of the\\n            World Bank Group are involved in a project, these EHS\\n            guidelines are applied as required by their respective\\n            policies and standards. The EHS guidelines contain the\\n            performance levels and measures that are generally\\n            considered to be achievable in new facilities by existing\\n            technology at reasonable costs. The EHS guidelines for wind\\n            energy include information relevant to environmental,\\n            health, and safety aspects of onshore and offshore wind\\n            energy facilities. It should be applied to wind energy\\n            facilities from the earliest feasibility assessments, as\\n            well as from the time of the environmental impact\\n            assessment, and continue to be applied throughout the\\n            construction and operational phases. This document is\\n            organized in the following manner: section one presents\\n            industry-specific impacts and management; section two\\n            presents performance indicators monitoring; and section\\n            three presents references.\"},\"display_title\":\"Environmental, health, and safety\\n            guidelines for wind energy\",\"pdfurl\":\"http://documents.worldbank.org/curated/en/498831479463882556/pdf/110346-WP-FINAL-Aug-2015-Wind-Energy-EHS-Guideline-PUBLIC.pdf\",\"listing_relative_url\":\"/research/2015/08/26951778/environmental-health-safety-guidelines-wind-energy\",\"url_friendly_title\":\"http://documents.worldbank.org/curated/en/498831479463882556/Environmental-health-and-safety-guidelines-for-wind-energy\",\"new_url\":\"2017/05/26951778/environmental-health-safety-guidelines-wind-energy\",\"guid\":\"498831479463882556\",\"url\":\"http://documents.worldbank.org/curated/en/498831479463882556/Environmental-health-and-safety-guidelines-for-wind-energy\"},\"D5704111\":{\"id\":\"5704111\",\"count\":\"East Asia and Pacific\",\"entityids\":{\"entityid\":\"000090341_20050401090154\"},\"docdt\":\"2000-01-01T00:00:00Z\",\"abstracts\":{\"cdata!\":\"This paper presents the results of a\\n            statistical analysis of wind farm costs and prices based on\\n            a database of published worldwide wind farm costs. While\\n            past studies have demonstrated general learning curve\\n            effects, these do not identify the individual contributions\\n            of technological innovation, scale economies of project\\n            size, scale economies of machine and order size, as a\\n            function of the policy regime. While recognizing the\\n            problems with published data, we show that in the\\n            competitive policy regimes of the UK, USA and Australia, the\\n            data are consistent with a classical economic theory:\\n            learning curve, scale economies of project size, turbine\\n            size, and turbine order explain 81 percent of the variation\\n            of reported project costs. By contrast, the German project\\n            cost data, and the set of data from the rest of the world,\\n            reveal no statistically significant relationship between\\n            these factors and reported project costs. However, published\\n            German turbine list prices do reveal learning curve, turbine\\n            size, and turbine order size economies, though the\\n            explanatory power of the model is lower (R2=0.61). The\\n            results demonstrate that only in competitive policy regimes\\n            are the benefits of learning curve and scale economies\\n            passed to the consumer; while in Feed-in Law regimes\\n            (Germany, Spain) the principal beneficiary is the developer.\"},\"display_title\":\"Statistical analysis of wind farm\\n            costs and policy regimes\",\"listing_relative_url\":\"/research/2000/01/5704111/statistical-analysis-wind-farm-costs-policy-regimes\",\"url_friendly_title\":\"http://documents.worldbank.org/curated/en/460141468748770824/Statistical-analysis-of-wind-farm-costs-and-policy-regimes\",\"new_url\":\"2000/01/5704111/statistical-analysis-wind-farm-costs-policy-regimes\",\"guid\":\"460141468748770824\",\"url\":\"http://documents.worldbank.org/curated/en/460141468748770824/Statistical-analysis-of-wind-farm-costs-and-policy-regimes\"},\"D698043\":{\"id\":\"698043\",\"count\":\"Costa Rica\",\"entityids\":{\"entityid\":\"000009265_3961219144813\"},\"docdt\":\"1994-09-30T00:00:00Z\",\"abstracts\":{\"cdata!\":\"The overall objectives of the Tejona\\n            Wind Power Project is to improve the environment by reducing\\n            the consumption of fossil fuels for energy production.  This\\n            objective will be achieved through realization of several\\n            additional objectives, including: a) demonstration of wind\\n            energy technology in the high-wind and heavy precipitation\\n            environment experienced in Costa Rica and other Central\\n            American sites; b) familiarization of a major regional\\n            utility with how the wind energy will integrate into their\\n            generation system; and c) familiarization of a major\\n            regional utility with the operation and maintenance of a\\n            wind power plant.  The project will co-finance a 20 MW wind\\n            power plant in the Guanacaste Province of Costa Rica and as\\n            such the components are: a) engineering and administration;\\n            b) direct construction cost; c) miscellaneous costs; and d)\\n            construction financing costs.\"},\"display_title\":\"Costa Rica - Tejona Wind Power Project\",\"listing_relative_url\":\"/projects/documents/1994/09/698043/costa-rica-tejona-wind-power-project\",\"url_friendly_title\":\"http://documents.worldbank.org/curated/en/346281468746791257/Costa-Rica-Tejona-Wind-Power-Project\",\"new_url\":\"1994/09/698043/costa-rica-tejona-wind-power-project\",\"guid\":\"346281468746791257\",\"url\":\"http://documents.worldbank.org/curated/en/346281468746791257/Costa-Rica-Tejona-Wind-Power-Project\"},\"facets\":{}}}"
     ]
    }
   ],
   "source": [
    "#What follows is a simple request querying for records of documents related to wind turbines.  It also requests that the list returned be in a JSON format and\n",
    "# that the country and document date be returned with each record.  (Other key, record fields, like display title and URL, are always returned):\n",
    "\n",
    "#Bash\n",
    "\n",
    "#curl -s \"https://search.worldbank.org/api/v2/wds?format=json&qterm=wind%20turbine&fl=docdt,count,country\"\n",
    "\n",
    "#Python\n",
    "\n",
    "!curl -s \"https://search.worldbank.org/api/v2/wds?format=json&qterm=wind%20turbine&fl=docdt,count,country\"\n",
    "\n",
    "\n"
   ]
  },
  {
   "cell_type": "markdown",
   "metadata": {},
   "source": [
    "## nationalize.io API\n",
    "Elena Bolla\n",
    "* **main website**: https://nationalize.io\n",
    "* **API docs**: https://nationalize.io/documentation\n",
    "* **Purpose:** predicts the nationality of an individual based on a person's last name\n",
    "* **Example use cases:**\n",
    "    * Analyse nationality distribution in a big database\n",
    "* **Free API calls**: Yes, No sign-up or API key is needed.\n",
    "* **Rate limiting for free usage**: The API is free for up to 100 names/day.\n",
    "* **Other Details:** \n",
    "    * Diacritics from any language as well as non-latin alphabets."
   ]
  },
  {
   "cell_type": "code",
   "execution_count": 3,
   "metadata": {
    "vscode": {
     "languageId": "shellscript"
    }
   },
   "outputs": [
    {
     "name": "stdout",
     "output_type": "stream",
     "text": [
      "{\"count\":2,\"name\":\"Lombion\",\"country\":[{\"country_id\":\"GP\",\"probability\":0.9266678414988436},{\"country_id\":\"FR\",\"probability\":0.07333215850115644}]}\n"
     ]
    }
   ],
   "source": [
    "#Basic Example\n",
    "\n",
    "curl \"https://api.nationalize.io/?name=Lombion\""
   ]
  },
  {
   "cell_type": "code",
   "execution_count": 2,
   "metadata": {
    "vscode": {
     "languageId": "shellscript"
    }
   },
   "outputs": [
    {
     "name": "stdout",
     "output_type": "stream",
     "text": [
      "\u001b[1;39m{\n",
      "  \u001b[0m\u001b[34;1m\"count\"\u001b[0m\u001b[1;39m: \u001b[0m\u001b[0;39m2\u001b[0m\u001b[1;39m,\n",
      "  \u001b[0m\u001b[34;1m\"name\"\u001b[0m\u001b[1;39m: \u001b[0m\u001b[0;32m\"lombion\"\u001b[0m\u001b[1;39m,\n",
      "  \u001b[0m\u001b[34;1m\"country\"\u001b[0m\u001b[1;39m: \u001b[0m\u001b[1;39m[\n",
      "    \u001b[1;39m{\n",
      "      \u001b[0m\u001b[34;1m\"country_id\"\u001b[0m\u001b[1;39m: \u001b[0m\u001b[0;32m\"GP\"\u001b[0m\u001b[1;39m,\n",
      "      \u001b[0m\u001b[34;1m\"probability\"\u001b[0m\u001b[1;39m: \u001b[0m\u001b[0;39m0.9266678414988436\u001b[0m\u001b[1;39m\n",
      "    \u001b[1;39m}\u001b[0m\u001b[1;39m,\n",
      "    \u001b[1;39m{\n",
      "      \u001b[0m\u001b[34;1m\"country_id\"\u001b[0m\u001b[1;39m: \u001b[0m\u001b[0;32m\"FR\"\u001b[0m\u001b[1;39m,\n",
      "      \u001b[0m\u001b[34;1m\"probability\"\u001b[0m\u001b[1;39m: \u001b[0m\u001b[0;39m0.07333215850115644\u001b[0m\u001b[1;39m\n",
      "    \u001b[1;39m}\u001b[0m\u001b[1;39m\n",
      "  \u001b[1;39m]\u001b[0m\u001b[1;39m\n",
      "\u001b[1;39m}\u001b[0m\n",
      "\u001b[1;39m{\n",
      "  \u001b[0m\u001b[34;1m\"count\"\u001b[0m\u001b[1;39m: \u001b[0m\u001b[0;39m74\u001b[0m\u001b[1;39m,\n",
      "  \u001b[0m\u001b[34;1m\"name\"\u001b[0m\u001b[1;39m: \u001b[0m\u001b[0;32m\"bolla\"\u001b[0m\u001b[1;39m,\n",
      "  \u001b[0m\u001b[34;1m\"country\"\u001b[0m\u001b[1;39m: \u001b[0m\u001b[1;39m[\n",
      "    \u001b[1;39m{\n",
      "      \u001b[0m\u001b[34;1m\"country_id\"\u001b[0m\u001b[1;39m: \u001b[0m\u001b[0;32m\"HU\"\u001b[0m\u001b[1;39m,\n",
      "      \u001b[0m\u001b[34;1m\"probability\"\u001b[0m\u001b[1;39m: \u001b[0m\u001b[0;39m0.28831309795980176\u001b[0m\u001b[1;39m\n",
      "    \u001b[1;39m}\u001b[0m\u001b[1;39m,\n",
      "    \u001b[1;39m{\n",
      "      \u001b[0m\u001b[34;1m\"country_id\"\u001b[0m\u001b[1;39m: \u001b[0m\u001b[0;32m\"CM\"\u001b[0m\u001b[1;39m,\n",
      "      \u001b[0m\u001b[34;1m\"probability\"\u001b[0m\u001b[1;39m: \u001b[0m\u001b[0;39m0.07610102637257624\u001b[0m\u001b[1;39m\n",
      "    \u001b[1;39m}\u001b[0m\u001b[1;39m,\n",
      "    \u001b[1;39m{\n",
      "      \u001b[0m\u001b[34;1m\"country_id\"\u001b[0m\u001b[1;39m: \u001b[0m\u001b[0;32m\"IT\"\u001b[0m\u001b[1;39m,\n",
      "      \u001b[0m\u001b[34;1m\"probability\"\u001b[0m\u001b[1;39m: \u001b[0m\u001b[0;39m0.06699569544055527\u001b[0m\u001b[1;39m\n",
      "    \u001b[1;39m}\u001b[0m\u001b[1;39m,\n",
      "    \u001b[1;39m{\n",
      "      \u001b[0m\u001b[34;1m\"country_id\"\u001b[0m\u001b[1;39m: \u001b[0m\u001b[0;32m\"IN\"\u001b[0m\u001b[1;39m,\n",
      "      \u001b[0m\u001b[34;1m\"probability\"\u001b[0m\u001b[1;39m: \u001b[0m\u001b[0;39m0.06603363240470841\u001b[0m\u001b[1;39m\n",
      "    \u001b[1;39m}\u001b[0m\u001b[1;39m,\n",
      "    \u001b[1;39m{\n",
      "      \u001b[0m\u001b[34;1m\"country_id\"\u001b[0m\u001b[1;39m: \u001b[0m\u001b[0;32m\"UY\"\u001b[0m\u001b[1;39m,\n",
      "      \u001b[0m\u001b[34;1m\"probability\"\u001b[0m\u001b[1;39m: \u001b[0m\u001b[0;39m0.053718371557112635\u001b[0m\u001b[1;39m\n",
      "    \u001b[1;39m}\u001b[0m\u001b[1;39m\n",
      "  \u001b[1;39m]\u001b[0m\u001b[1;39m\n",
      "\u001b[1;39m}\u001b[0m\n",
      "\u001b[1;39m{\n",
      "  \u001b[0m\u001b[34;1m\"count\"\u001b[0m\u001b[1;39m: \u001b[0m\u001b[0;39m8\u001b[0m\u001b[1;39m,\n",
      "  \u001b[0m\u001b[34;1m\"name\"\u001b[0m\u001b[1;39m: \u001b[0m\u001b[0;32m\"Zoki Azata\"\u001b[0m\u001b[1;39m,\n",
      "  \u001b[0m\u001b[34;1m\"country\"\u001b[0m\u001b[1;39m: \u001b[0m\u001b[1;39m[\n",
      "    \u001b[1;39m{\n",
      "      \u001b[0m\u001b[34;1m\"country_id\"\u001b[0m\u001b[1;39m: \u001b[0m\u001b[0;32m\"GH\"\u001b[0m\u001b[1;39m,\n",
      "      \u001b[0m\u001b[34;1m\"probability\"\u001b[0m\u001b[1;39m: \u001b[0m\u001b[0;39m0.22861410870767024\u001b[0m\u001b[1;39m\n",
      "    \u001b[1;39m}\u001b[0m\u001b[1;39m,\n",
      "    \u001b[1;39m{\n",
      "      \u001b[0m\u001b[34;1m\"country_id\"\u001b[0m\u001b[1;39m: \u001b[0m\u001b[0;32m\"CI\"\u001b[0m\u001b[1;39m,\n",
      "      \u001b[0m\u001b[34;1m\"probability\"\u001b[0m\u001b[1;39m: \u001b[0m\u001b[0;39m0.22861410870767024\u001b[0m\u001b[1;39m\n",
      "    \u001b[1;39m}\u001b[0m\u001b[1;39m,\n",
      "    \u001b[1;39m{\n",
      "      \u001b[0m\u001b[34;1m\"country_id\"\u001b[0m\u001b[1;39m: \u001b[0m\u001b[0;32m\"BJ\"\u001b[0m\u001b[1;39m,\n",
      "      \u001b[0m\u001b[34;1m\"probability\"\u001b[0m\u001b[1;39m: \u001b[0m\u001b[0;39m0.22861410870767024\u001b[0m\u001b[1;39m\n",
      "    \u001b[1;39m}\u001b[0m\u001b[1;39m,\n",
      "    \u001b[1;39m{\n",
      "      \u001b[0m\u001b[34;1m\"country_id\"\u001b[0m\u001b[1;39m: \u001b[0m\u001b[0;32m\"NG\"\u001b[0m\u001b[1;39m,\n",
      "      \u001b[0m\u001b[34;1m\"probability\"\u001b[0m\u001b[1;39m: \u001b[0m\u001b[0;39m0.13915847186099184\u001b[0m\u001b[1;39m\n",
      "    \u001b[1;39m}\u001b[0m\u001b[1;39m,\n",
      "    \u001b[1;39m{\n",
      "      \u001b[0m\u001b[34;1m\"country_id\"\u001b[0m\u001b[1;39m: \u001b[0m\u001b[0;32m\"MA\"\u001b[0m\u001b[1;39m,\n",
      "      \u001b[0m\u001b[34;1m\"probability\"\u001b[0m\u001b[1;39m: \u001b[0m\u001b[0;39m0.07593910946354766\u001b[0m\u001b[1;39m\n",
      "    \u001b[1;39m}\u001b[0m\u001b[1;39m\n",
      "  \u001b[1;39m]\u001b[0m\u001b[1;39m\n",
      "\u001b[1;39m}\u001b[0m\n",
      "\u001b[1;39m{\n",
      "  \u001b[0m\u001b[34;1m\"count\"\u001b[0m\u001b[1;39m: \u001b[0m\u001b[0;39m108\u001b[0m\u001b[1;39m,\n",
      "  \u001b[0m\u001b[34;1m\"name\"\u001b[0m\u001b[1;39m: \u001b[0m\u001b[0;32m\"bash\"\u001b[0m\u001b[1;39m,\n",
      "  \u001b[0m\u001b[34;1m\"country\"\u001b[0m\u001b[1;39m: \u001b[0m\u001b[1;39m[\n",
      "    \u001b[1;39m{\n",
      "      \u001b[0m\u001b[34;1m\"country_id\"\u001b[0m\u001b[1;39m: \u001b[0m\u001b[0;32m\"IL\"\u001b[0m\u001b[1;39m,\n",
      "      \u001b[0m\u001b[34;1m\"probability\"\u001b[0m\u001b[1;39m: \u001b[0m\u001b[0;39m0.11804835789071243\u001b[0m\u001b[1;39m\n",
      "    \u001b[1;39m}\u001b[0m\u001b[1;39m,\n",
      "    \u001b[1;39m{\n",
      "      \u001b[0m\u001b[34;1m\"country_id\"\u001b[0m\u001b[1;39m: \u001b[0m\u001b[0;32m\"NG\"\u001b[0m\u001b[1;39m,\n",
      "      \u001b[0m\u001b[34;1m\"probability\"\u001b[0m\u001b[1;39m: \u001b[0m\u001b[0;39m0.06590527046467827\u001b[0m\u001b[1;39m\n",
      "    \u001b[1;39m}\u001b[0m\u001b[1;39m,\n",
      "    \u001b[1;39m{\n",
      "      \u001b[0m\u001b[34;1m\"country_id\"\u001b[0m\u001b[1;39m: \u001b[0m\u001b[0;32m\"JO\"\u001b[0m\u001b[1;39m,\n",
      "      \u001b[0m\u001b[34;1m\"probability\"\u001b[0m\u001b[1;39m: \u001b[0m\u001b[0;39m0.052711048664457145\u001b[0m\u001b[1;39m\n",
      "    \u001b[1;39m}\u001b[0m\u001b[1;39m,\n",
      "    \u001b[1;39m{\n",
      "      \u001b[0m\u001b[34;1m\"country_id\"\u001b[0m\u001b[1;39m: \u001b[0m\u001b[0;32m\"US\"\u001b[0m\u001b[1;39m,\n",
      "      \u001b[0m\u001b[34;1m\"probability\"\u001b[0m\u001b[1;39m: \u001b[0m\u001b[0;39m0.04957687820332726\u001b[0m\u001b[1;39m\n",
      "    \u001b[1;39m}\u001b[0m\u001b[1;39m,\n",
      "    \u001b[1;39m{\n",
      "      \u001b[0m\u001b[34;1m\"country_id\"\u001b[0m\u001b[1;39m: \u001b[0m\u001b[0;32m\"IQ\"\u001b[0m\u001b[1;39m,\n",
      "      \u001b[0m\u001b[34;1m\"probability\"\u001b[0m\u001b[1;39m: \u001b[0m\u001b[0;39m0.047012556916948264\u001b[0m\u001b[1;39m\n",
      "    \u001b[1;39m}\u001b[0m\u001b[1;39m\n",
      "  \u001b[1;39m]\u001b[0m\u001b[1;39m\n",
      "\u001b[1;39m}\u001b[0m\n"
     ]
    }
   ],
   "source": [
    "#Trying with multiple surnames\n",
    "\n",
    "surname_list=(\"lombion\" \"bolla\" \"Zoki+Azata\" \"bash\")\n",
    "for surname in \"${surname_list[@]}\"\n",
    "do\n",
    "    curl -s \"https://api.nationalize.io/?name={$surname}\" | jq\n",
    "done"
   ]
  }
 ],
 "metadata": {
  "kernelspec": {
   "display_name": "Bash",
   "language": "bash",
   "name": "bash"
  },
  "language_info": {
   "codemirror_mode": "shell",
   "file_extension": ".sh",
   "mimetype": "text/x-sh",
   "name": "bash"
  }
 },
 "nbformat": 4,
 "nbformat_minor": 2
}
