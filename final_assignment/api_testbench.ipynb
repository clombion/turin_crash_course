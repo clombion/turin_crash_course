{
 "cells": [
  {
   "cell_type": "markdown",
   "metadata": {},
   "source": [
    "# ICT for Development - Collaborative API library\n",
    "\n",
    "## Overview\n",
    "\n",
    "This notebook aims to compile beginner-friendly documentation of APis relevant to the work of civic actors active in the field of international development. The project was started in 2024 by [Cedric Lombion](https://civicliteraci.es) to support his teaching at the University of Turin's ICT for Development and Social Good master's programme. Nonetheless, the project bears no formal affiliation with the university. \n",
    "\n",
    "Each entry aims to document key information and examples about the API being documented, with a focus on making them more accessible to beginners to APIs and command line scripting.\n",
    "\n",
    "We recommend viewing this notebook from the [nbsanity viewer](https://nbsanity.com/static/5cde5825c56c8bc90bf503ed1e340ca0/api_testbench.html) for better navigation.\n",
    "\n",
    "## Contributing\n",
    "\n",
    "### Main Steps\n",
    "\n",
    "1. Fork the repository\n",
    "2. add your API description and examples\n",
    "3. Ensure that your examples are well documented an suitable for beginners\n",
    "4. send a pull request which will be reviewed for addition.\n",
    "\n",
    "### Documentation Rules\n",
    "\n",
    "1. All description items should be filled. \n",
    "2. The \"use cases\" descriptor should include examples relevant to international development projects\n",
    "3. Up to 5 examples should be provided, each with a small introduction, with a focus on the examples relevant to international development\n",
    "\n",
    "| Property                | Description                                                        | Possible Values |\n",
    "|-------------------------|--------------------------------------------------------------------|-----------------|\n",
    "| Main Website            | The primary website for the API                                    |                 |\n",
    "| API Documentation       | Links to detailed API documentation                                |                 |\n",
    "| Purpose                 | The main purpose or functionality of the API                       |                 |\n",
    "| Example Use Cases       | Practical examples of how the API can be used                      |                 |\n",
    "| Free API Calls          | Whether the API offers free calls                                  |Yes with API / Yes without API|\n",
    "| Rate Limits for Free Usage | The rate limit for free API usage                               |                 |\n",
    "| Other Limitations       | Other potential limitations not covered by the free usage details  |                 |\n",
    "\n",
    "\n",
    "\n",
    "### Script writing\n",
    "\n",
    "1. The code should be commented and structured for readbility\n",
    "2. curl with --data-urlencode is the expected command for all queries. The use of alternatives should be explained.\n",
    "3. If the API example output is too long, use the ```jq_outliner``` variable to produce a summarized output.\n",
    "\n",
    "For suggestions or improvements, open an issue on the repository. Alternatively, contact us at contact [at] civicliteraci.es"
   ]
  },
  {
   "cell_type": "code",
   "execution_count": 35,
   "metadata": {
    "vscode": {
     "languageId": "shellscript"
    }
   },
   "outputs": [],
   "source": [
    "# outliner function to generate informative summaries of verbose API outputs. \n",
    "# note that the order of the top level json objects will not be preserved\n",
    "\n",
    "jq_outline='\n",
    "# Collect all unique paths as arrays of segments\n",
    "[ path(..) | map(if type == \"number\" then \"[]\" else tostring end) | join(\".\") ] | unique | map(split(\".\"))\n",
    "\n",
    "# Group paths by the first segment, filtering out any that do not have a second segment\n",
    "| group_by(.[0]) | map(select(.[0][0] != null))\n",
    "\n",
    "# Convert groups to objects with proper handling of potentially null keys\n",
    "| map({\n",
    "  key: (.[0][0] // \"undefined_key\"),  # Use 'undefined_key' or another placeholder if the key is null\n",
    "  value: (map(.[1:]) | map(join(\".\")) | map(select(length > 0) | \".\\(.)\") | unique)\n",
    "})\n",
    "\n",
    "# Merge all objects into a single object, handling null keys properly\n",
    "| from_entries\n",
    "'"
   ]
  },
  {
   "cell_type": "markdown",
   "metadata": {
    "vscode": {
     "languageId": "shellscript"
    }
   },
   "source": [
    "## Genderize API\n",
    "* **main website**: https://genderize.io\n",
    "* **API docs**: https://genderize.io/documentation\n",
    "* **Purpose:** predicts the gender of an individual based on their name and (optionally) country\n",
    "* **Example use cases:**\n",
    "    * Disaggregate past research data by gender\n",
    "    * Evaluate potential bias in projects that do not collect gender information\n",
    "* **Free API calls**: Yes, without API key\n",
    "* **Rate limiting for free usage**: 100 names/day & 10 names per batch request\n",
    "* **Other Limitations:** \n",
    "    * binary gender model\n",
    "    * using localization on a batch request will apply the given country_id to every name in the batch\n"
   ]
  },
  {
   "cell_type": "markdown",
   "metadata": {},
   "source": [
    "### Basic example"
   ]
  },
  {
   "cell_type": "code",
   "execution_count": 8,
   "metadata": {
    "vscode": {
     "languageId": "shellscript"
    }
   },
   "outputs": [
    {
     "name": "stdout",
     "output_type": "stream",
     "text": [
      "{\"count\":481613,\"name\":\"Marie Anne\",\"gender\":\"female\",\"probability\":1.0}\n"
     ]
    }
   ],
   "source": [
    "# We use the option --data-urlencode to make it easy to include names with special characters\n",
    "curl -G \"https://api.genderize.io/\" --data-urlencode \"name=Marie Anne\" --data-urlencode \"country=FR\""
   ]
  },
  {
   "cell_type": "markdown",
   "metadata": {},
   "source": [
    "### Multiple names in a request\n",
    "\n",
    "A loop can be used to construct a request that includes multiple names drawn from an array.  \n",
    "the API accepts only up to 10 names.  \n",
    "Adding a localization will apply to all names in the request."
   ]
  },
  {
   "cell_type": "code",
   "execution_count": 13,
   "metadata": {
    "vscode": {
     "languageId": "shellscript"
    }
   },
   "outputs": [
    {
     "name": "stdout",
     "output_type": "stream",
     "text": [
      "curl -s -G \"https://api.genderize.io?\" --data-urlencode \"name[]=yamen\" --data-urlencode \"name[]=lawson\" --data-urlencode \"name[]=maria\" --data-urlencode \"name[]=alejandro\"\n",
      "\u001b[1;39m[\n",
      "  \u001b[1;39m{\n",
      "    \u001b[0m\u001b[34;1m\"count\"\u001b[0m\u001b[1;39m: \u001b[0m\u001b[0;39m814\u001b[0m\u001b[1;39m,\n",
      "    \u001b[0m\u001b[34;1m\"name\"\u001b[0m\u001b[1;39m: \u001b[0m\u001b[0;32m\"lawson\"\u001b[0m\u001b[1;39m,\n",
      "    \u001b[0m\u001b[34;1m\"gender\"\u001b[0m\u001b[1;39m: \u001b[0m\u001b[0;32m\"male\"\u001b[0m\u001b[1;39m,\n",
      "    \u001b[0m\u001b[34;1m\"probability\"\u001b[0m\u001b[1;39m: \u001b[0m\u001b[0;39m0.88\u001b[0m\u001b[1;39m\n",
      "  \u001b[1;39m}\u001b[0m\u001b[1;39m,\n",
      "  \u001b[1;39m{\n",
      "    \u001b[0m\u001b[34;1m\"count\"\u001b[0m\u001b[1;39m: \u001b[0m\u001b[0;39m2687884\u001b[0m\u001b[1;39m,\n",
      "    \u001b[0m\u001b[34;1m\"name\"\u001b[0m\u001b[1;39m: \u001b[0m\u001b[0;32m\"maria\"\u001b[0m\u001b[1;39m,\n",
      "    \u001b[0m\u001b[34;1m\"gender\"\u001b[0m\u001b[1;39m: \u001b[0m\u001b[0;32m\"female\"\u001b[0m\u001b[1;39m,\n",
      "    \u001b[0m\u001b[34;1m\"probability\"\u001b[0m\u001b[1;39m: \u001b[0m\u001b[0;39m1\u001b[0m\u001b[1;39m\n",
      "  \u001b[1;39m}\u001b[0m\u001b[1;39m,\n",
      "  \u001b[1;39m{\n",
      "    \u001b[0m\u001b[34;1m\"count\"\u001b[0m\u001b[1;39m: \u001b[0m\u001b[0;39m386853\u001b[0m\u001b[1;39m,\n",
      "    \u001b[0m\u001b[34;1m\"name\"\u001b[0m\u001b[1;39m: \u001b[0m\u001b[0;32m\"alejandro\"\u001b[0m\u001b[1;39m,\n",
      "    \u001b[0m\u001b[34;1m\"gender\"\u001b[0m\u001b[1;39m: \u001b[0m\u001b[0;32m\"male\"\u001b[0m\u001b[1;39m,\n",
      "    \u001b[0m\u001b[34;1m\"probability\"\u001b[0m\u001b[1;39m: \u001b[0m\u001b[0;39m1\u001b[0m\u001b[1;39m\n",
      "  \u001b[1;39m}\u001b[0m\u001b[1;39m\n",
      "\u001b[1;39m]\u001b[0m\n"
     ]
    }
   ],
   "source": [
    "# Defining our arrays\n",
    "\n",
    "name_list=(\"yamen\" \"lawson\" \"maria\" \"alejandro\")\n",
    "country=(\"sy\" \"tg\" \"it\" \"es\")\n",
    "\n",
    "# Start building the curl command\n",
    "request=\"curl -s -G \\\"https://api.genderize.io?\\\"\"\n",
    "\n",
    "# Add each name to the curl command with --data-urlencode\n",
    "for name in \"${name_list[@]}\"\n",
    "do\n",
    "    request+=\" --data-urlencode \\\"name[]=${name}\\\"\"\n",
    "done\n",
    "\n",
    "# Check that the command is properly formed\n",
    "echo \"$request\"\n",
    "\n",
    "# Excute the command\n",
    "bash -c \"$request\" | jq"
   ]
  },
  {
   "cell_type": "markdown",
   "metadata": {},
   "source": [
    "### Automate name and country requests and CSV export\n",
    "\n",
    "We can create a loop that makes it possible to automate requests with both the name and country included.  \n",
    "We will process the returned json with jq to transform the results into tabular data."
   ]
  },
  {
   "cell_type": "code",
   "execution_count": 14,
   "metadata": {
    "vscode": {
     "languageId": "shellscript"
    }
   },
   "outputs": [
    {
     "name": "stdout",
     "output_type": "stream",
     "text": [
      "\u001b[0;32m\"\\\"yamen\\\",\\\"male\\\"\"\u001b[0m\n",
      "\u001b[0;32m\"\\\"lawson\\\",\\\"male\\\"\"\u001b[0m\n",
      "\u001b[0;32m\"\\\"maria\\\",\\\"female\\\"\"\u001b[0m\n",
      "\u001b[0;32m\"\\\"alejandro\\\",\\\"male\\\"\"\u001b[0m\n"
     ]
    }
   ],
   "source": [
    "# we declare our arrays\n",
    "name_list=(\"yamen\" \"lawson\" \"maria\" \"alejandro\")\n",
    "country=(\"sy\" \"tg\" \"it\" \"es\")\n",
    "\n",
    "# we count and store the number of values in our array to reuse it in the loop\n",
    "length=${#country[@]}\n",
    "\n",
    "# we loop through the arrays\n",
    "for ((i=0; i<length; i++))\n",
    "do\n",
    "    curl -s -G \"https://api.genderize.io/\" \\\n",
    "    --data-urlencode \"name=${name_list[$i]}\" \\\n",
    "    --data-urlencode \"country_id=${country[$i]}\" |\n",
    "    jq '[.name, .gender] | @csv'\n",
    "done"
   ]
  },
  {
   "cell_type": "markdown",
   "metadata": {},
   "source": [
    "## SerpAPI\n",
    "* **main website**: https://serpapi.com/\n",
    "* **API docs**: \n",
    "    * https://serpapi.com/\n",
    "    * https://serpapi.com/playground\n",
    "    * https://serpapi.com/search-api\n",
    "* **Purpose**: getting JSON formatted search results from multiple search engines\n",
    "* **Example use cases**:\n",
    "    * Monitoring the news on specific topics to improve organisational response in areas with no field staff\n",
    "    * Monitoring the impact of campaign communication efforts\n",
    "    * Monitor Google News for reporting on corruption cases\n",
    "    * Generate a list of amenities (e.g. doctor office) in an area to evaluate accessibility\n",
    "* **Free API calls**: Yes, with API key\n",
    "* **Rate limiting for free usage**: 100 calls / month\n",
    "* **Other Limitations:** "
   ]
  },
  {
   "cell_type": "markdown",
   "metadata": {},
   "source": [
    "### Simple query filtered with jq\n",
    "\n",
    "Example of a basic Google search query, as seen on their front page (only query that resolves without an API key).  \n",
    "The output is summarized with the outliner function."
   ]
  },
  {
   "cell_type": "code",
   "execution_count": 49,
   "metadata": {
    "vscode": {
     "languageId": "shellscript"
    }
   },
   "outputs": [
    {
     "name": "stdout",
     "output_type": "stream",
     "text": [
      "\u001b[1;39m{\n",
      "  \u001b[0m\u001b[1;34m\"immersive_products\"\u001b[0m\u001b[1;39m: \u001b[0m\u001b[1;39m[\n",
      "    \u001b[0;32m\".[]\"\u001b[0m\u001b[1;39m,\n",
      "    \u001b[0;32m\".[].extensions\"\u001b[0m\u001b[1;39m,\n",
      "    \u001b[0;32m\".[].extensions.[]\"\u001b[0m\u001b[1;39m,\n",
      "    \u001b[0;32m\".[].extracted_original_price\"\u001b[0m\u001b[1;39m,\n",
      "    \u001b[0;32m\".[].extracted_price\"\u001b[0m\u001b[1;39m,\n",
      "    \u001b[0;32m\".[].immersive_product_page_token\"\u001b[0m\u001b[1;39m,\n",
      "    \u001b[0;32m\".[].original_price\"\u001b[0m\u001b[1;39m,\n",
      "    \u001b[0;32m\".[].price\"\u001b[0m\u001b[1;39m,\n",
      "    \u001b[0;32m\".[].serpapi_link\"\u001b[0m\u001b[1;39m,\n",
      "    \u001b[0;32m\".[].source\"\u001b[0m\u001b[1;39m,\n",
      "    \u001b[0;32m\".[].thumbnail\"\u001b[0m\u001b[1;39m,\n",
      "    \u001b[0;32m\".[].title\"\u001b[0m\u001b[1;39m\n",
      "  \u001b[1;39m]\u001b[0m\u001b[1;39m,\n",
      "  \u001b[0m\u001b[1;34m\"local_map\"\u001b[0m\u001b[1;39m: \u001b[0m\u001b[1;39m[\n",
      "    \u001b[0;32m\".gps_coordinates\"\u001b[0m\u001b[1;39m,\n",
      "    \u001b[0;32m\".gps_coordinates.altitude\"\u001b[0m\u001b[1;39m,\n",
      "    \u001b[0;32m\".gps_coordinates.latitude\"\u001b[0m\u001b[1;39m,\n",
      "    \u001b[0;32m\".gps_coordinates.longitude\"\u001b[0m\u001b[1;39m,\n",
      "    \u001b[0;32m\".image\"\u001b[0m\u001b[1;39m,\n",
      "    \u001b[0;32m\".link\"\u001b[0m\u001b[1;39m\n",
      "  \u001b[1;39m]\u001b[0m\u001b[1;39m,\n",
      "  \u001b[0m\u001b[1;34m\"local_results\"\u001b[0m\u001b[1;39m: \u001b[0m\u001b[1;39m[\n",
      "    \u001b[0;32m\".more_locations_link\"\u001b[0m\u001b[1;39m,\n",
      "    \u001b[0;32m\".places\"\u001b[0m\u001b[1;39m,\n",
      "    \u001b[0;32m\".places.[]\"\u001b[0m\u001b[1;39m,\n",
      "    \u001b[0;32m\".places.[].address\"\u001b[0m\u001b[1;39m,\n",
      "    \u001b[0;32m\".places.[].description\"\u001b[0m\u001b[1;39m,\n",
      "    \u001b[0;32m\".places.[].lsig\"\u001b[0m\u001b[1;39m,\n",
      "    \u001b[0;32m\".places.[].place_id\"\u001b[0m\u001b[1;39m,\n",
      "    \u001b[0;32m\".places.[].place_id_search\"\u001b[0m\u001b[1;39m,\n",
      "    \u001b[0;32m\".places.[].position\"\u001b[0m\u001b[1;39m,\n",
      "    \u001b[0;32m\".places.[].rating\"\u001b[0m\u001b[1;39m,\n",
      "    \u001b[0;32m\".places.[].reviews\"\u001b[0m\u001b[1;39m,\n",
      "    \u001b[0;32m\".places.[].reviews_original\"\u001b[0m\u001b[1;39m,\n",
      "    \u001b[0;32m\".places.[].service_options\"\u001b[0m\u001b[1;39m,\n",
      "    \u001b[0;32m\".places.[].service_options.dine_in\"\u001b[0m\u001b[1;39m,\n",
      "    \u001b[0;32m\".places.[].thumbnail\"\u001b[0m\u001b[1;39m,\n",
      "    \u001b[0;32m\".places.[].title\"\u001b[0m\u001b[1;39m,\n",
      "    \u001b[0;32m\".places.[].type\"\u001b[0m\u001b[1;39m\n",
      "  \u001b[1;39m]\u001b[0m\u001b[1;39m,\n",
      "  \u001b[0m\u001b[1;34m\"organic_results\"\u001b[0m\u001b[1;39m: \u001b[0m\u001b[1;39m[\n",
      "    \u001b[0;32m\".[]\"\u001b[0m\u001b[1;39m,\n",
      "    \u001b[0;32m\".[].date\"\u001b[0m\u001b[1;39m,\n",
      "    \u001b[0;32m\".[].displayed_link\"\u001b[0m\u001b[1;39m,\n",
      "    \u001b[0;32m\".[].favicon\"\u001b[0m\u001b[1;39m,\n",
      "    \u001b[0;32m\".[].link\"\u001b[0m\u001b[1;39m,\n",
      "    \u001b[0;32m\".[].position\"\u001b[0m\u001b[1;39m,\n",
      "    \u001b[0;32m\".[].redirect_link\"\u001b[0m\u001b[1;39m,\n",
      "    \u001b[0;32m\".[].snippet\"\u001b[0m\u001b[1;39m,\n",
      "    \u001b[0;32m\".[].snippet_highlighted_words\"\u001b[0m\u001b[1;39m,\n",
      "    \u001b[0;32m\".[].snippet_highlighted_words.[]\"\u001b[0m\u001b[1;39m,\n",
      "    \u001b[0;32m\".[].source\"\u001b[0m\u001b[1;39m,\n",
      "    \u001b[0;32m\".[].thumbnail\"\u001b[0m\u001b[1;39m,\n",
      "    \u001b[0;32m\".[].title\"\u001b[0m\u001b[1;39m\n",
      "  \u001b[1;39m]\u001b[0m\u001b[1;39m,\n",
      "  \u001b[0m\u001b[1;34m\"pagination\"\u001b[0m\u001b[1;39m: \u001b[0m\u001b[1;39m[\n",
      "    \u001b[0;32m\".current\"\u001b[0m\u001b[1;39m,\n",
      "    \u001b[0;32m\".next\"\u001b[0m\u001b[1;39m,\n",
      "    \u001b[0;32m\".other_pages\"\u001b[0m\u001b[1;39m,\n",
      "    \u001b[0;32m\".other_pages.2\"\u001b[0m\u001b[1;39m,\n",
      "    \u001b[0;32m\".other_pages.3\"\u001b[0m\u001b[1;39m,\n",
      "    \u001b[0;32m\".other_pages.4\"\u001b[0m\u001b[1;39m,\n",
      "    \u001b[0;32m\".other_pages.5\"\u001b[0m\u001b[1;39m\n",
      "  \u001b[1;39m]\u001b[0m\u001b[1;39m,\n",
      "  \u001b[0m\u001b[1;34m\"refine_this_search\"\u001b[0m\u001b[1;39m: \u001b[0m\u001b[1;39m[\n",
      "    \u001b[0;32m\".[]\"\u001b[0m\u001b[1;39m,\n",
      "    \u001b[0;32m\".[].link\"\u001b[0m\u001b[1;39m,\n",
      "    \u001b[0;32m\".[].query\"\u001b[0m\u001b[1;39m,\n",
      "    \u001b[0;32m\".[].serpapi_link\"\u001b[0m\u001b[1;39m,\n",
      "    \u001b[0;32m\".[].thumbnail\"\u001b[0m\u001b[1;39m\n",
      "  \u001b[1;39m]\u001b[0m\u001b[1;39m,\n",
      "  \u001b[0m\u001b[1;34m\"related_questions\"\u001b[0m\u001b[1;39m: \u001b[0m\u001b[1;39m[\n",
      "    \u001b[0;32m\".[]\"\u001b[0m\u001b[1;39m,\n",
      "    \u001b[0;32m\".[].date\"\u001b[0m\u001b[1;39m,\n",
      "    \u001b[0;32m\".[].displayed_link\"\u001b[0m\u001b[1;39m,\n",
      "    \u001b[0;32m\".[].link\"\u001b[0m\u001b[1;39m,\n",
      "    \u001b[0;32m\".[].next_page_token\"\u001b[0m\u001b[1;39m,\n",
      "    \u001b[0;32m\".[].question\"\u001b[0m\u001b[1;39m,\n",
      "    \u001b[0;32m\".[].serpapi_link\"\u001b[0m\u001b[1;39m,\n",
      "    \u001b[0;32m\".[].snippet\"\u001b[0m\u001b[1;39m,\n",
      "    \u001b[0;32m\".[].source_logo\"\u001b[0m\u001b[1;39m,\n",
      "    \u001b[0;32m\".[].thumbnail\"\u001b[0m\u001b[1;39m,\n",
      "    \u001b[0;32m\".[].title\"\u001b[0m\u001b[1;39m\n",
      "  \u001b[1;39m]\u001b[0m\u001b[1;39m,\n",
      "  \u001b[0m\u001b[1;34m\"related_searches\"\u001b[0m\u001b[1;39m: \u001b[0m\u001b[1;39m[\n",
      "    \u001b[0;32m\".[]\"\u001b[0m\u001b[1;39m,\n",
      "    \u001b[0;32m\".[].block_position\"\u001b[0m\u001b[1;39m,\n",
      "    \u001b[0;32m\".[].link\"\u001b[0m\u001b[1;39m,\n",
      "    \u001b[0;32m\".[].query\"\u001b[0m\u001b[1;39m,\n",
      "    \u001b[0;32m\".[].serpapi_link\"\u001b[0m\u001b[1;39m\n",
      "  \u001b[1;39m]\u001b[0m\u001b[1;39m,\n",
      "  \u001b[0m\u001b[1;34m\"search_information\"\u001b[0m\u001b[1;39m: \u001b[0m\u001b[1;39m[\n",
      "    \u001b[0;32m\".organic_results_state\"\u001b[0m\u001b[1;39m,\n",
      "    \u001b[0;32m\".query_displayed\"\u001b[0m\u001b[1;39m\n",
      "  \u001b[1;39m]\u001b[0m\u001b[1;39m,\n",
      "  \u001b[0m\u001b[1;34m\"search_metadata\"\u001b[0m\u001b[1;39m: \u001b[0m\u001b[1;39m[\n",
      "    \u001b[0;32m\".created_at\"\u001b[0m\u001b[1;39m,\n",
      "    \u001b[0;32m\".google_url\"\u001b[0m\u001b[1;39m,\n",
      "    \u001b[0;32m\".id\"\u001b[0m\u001b[1;39m,\n",
      "    \u001b[0;32m\".json_endpoint\"\u001b[0m\u001b[1;39m,\n",
      "    \u001b[0;32m\".processed_at\"\u001b[0m\u001b[1;39m,\n",
      "    \u001b[0;32m\".raw_html_file\"\u001b[0m\u001b[1;39m,\n",
      "    \u001b[0;32m\".status\"\u001b[0m\u001b[1;39m,\n",
      "    \u001b[0;32m\".total_time_taken\"\u001b[0m\u001b[1;39m\n",
      "  \u001b[1;39m]\u001b[0m\u001b[1;39m,\n",
      "  \u001b[0m\u001b[1;34m\"search_parameters\"\u001b[0m\u001b[1;39m: \u001b[0m\u001b[1;39m[\n",
      "    \u001b[0;32m\".device\"\u001b[0m\u001b[1;39m,\n",
      "    \u001b[0;32m\".engine\"\u001b[0m\u001b[1;39m,\n",
      "    \u001b[0;32m\".gl\"\u001b[0m\u001b[1;39m,\n",
      "    \u001b[0;32m\".google_domain\"\u001b[0m\u001b[1;39m,\n",
      "    \u001b[0;32m\".hl\"\u001b[0m\u001b[1;39m,\n",
      "    \u001b[0;32m\".location_requested\"\u001b[0m\u001b[1;39m,\n",
      "    \u001b[0;32m\".location_used\"\u001b[0m\u001b[1;39m,\n",
      "    \u001b[0;32m\".q\"\u001b[0m\u001b[1;39m\n",
      "  \u001b[1;39m]\u001b[0m\u001b[1;39m,\n",
      "  \u001b[0m\u001b[1;34m\"serpapi_pagination\"\u001b[0m\u001b[1;39m: \u001b[0m\u001b[1;39m[\n",
      "    \u001b[0;32m\".current\"\u001b[0m\u001b[1;39m,\n",
      "    \u001b[0;32m\".next\"\u001b[0m\u001b[1;39m,\n",
      "    \u001b[0;32m\".next_link\"\u001b[0m\u001b[1;39m,\n",
      "    \u001b[0;32m\".other_pages\"\u001b[0m\u001b[1;39m,\n",
      "    \u001b[0;32m\".other_pages.2\"\u001b[0m\u001b[1;39m,\n",
      "    \u001b[0;32m\".other_pages.3\"\u001b[0m\u001b[1;39m,\n",
      "    \u001b[0;32m\".other_pages.4\"\u001b[0m\u001b[1;39m,\n",
      "    \u001b[0;32m\".other_pages.5\"\u001b[0m\u001b[1;39m\n",
      "  \u001b[1;39m]\u001b[0m\u001b[1;39m\n",
      "\u001b[1;39m}\u001b[0m\n"
     ]
    }
   ],
   "source": [
    "curl -s \"https://serpapi.com/search.json\" \\\n",
    "  --get \\\n",
    "  --data-urlencode \"q=Coffee\" \\\n",
    "  --data-urlencode \"location=Austin, Texas, United States\" \\\n",
    "  --data-urlencode \"hl=en\" \\\n",
    "  --data-urlencode \"gl=us\" \\\n",
    "  --data-urlencode \"google_domain=google.com\" \\\n",
    "  | jq \"$jq_outline\""
   ]
  },
  {
   "cell_type": "markdown",
   "metadata": {},
   "source": [
    "### Filtered data and export to CSV\n",
    "\n",
    "Same basic query, but with an explicit attribute filter and csv conversion with jq"
   ]
  },
  {
   "cell_type": "code",
   "execution_count": 39,
   "metadata": {
    "vscode": {
     "languageId": "shellscript"
    }
   },
   "outputs": [
    {
     "name": "stdout",
     "output_type": "stream",
     "text": [
      "\u001b[0;32m\"\\\"Coffee\\\",\\\"https://en.wikipedia.org/wiki/Coffee\\\",\\\"Coffee is a beverage brewed from roasted coffee beans. Darkly colored, bitter, and slightly acidic, coffee has a stimulating effect on humans, primarily due ...\\\"\"\u001b[0m\n",
      "\u001b[0;32m\"\\\"Starbucks Coffee Company\\\",\\\"https://www.starbucks.com/\\\",\\\"More than just great coffee. Explore the menu, sign up for Starbucks® Rewards, manage your gift card and more.\\\"\"\u001b[0m\n",
      "\u001b[0;32m\"\\\"Coffee | Origin, Types, Uses, History, & Facts\\\",\\\"https://www.britannica.com/topic/coffee\\\",\\\"Coffee, beverage brewed from the roasted and ground seeds of the tropical evergreen coffee plant of African origin. Coffee is one of the ...\\\"\"\u001b[0m\n",
      "\u001b[0;32m\"\\\"What is Coffee?\\\",\\\"https://www.ncausa.org/About-Coffee/What-is-Coffee\\\",\\\"Coffee traces its origin to a genus of plants known as Coffea. Within the genus there are over 500 genera and 6,000 species of tropical trees and shrubs.\\\"\"\u001b[0m\n",
      "\u001b[0;32m\"\\\"Coffee | The Nutrition Source - hsph.harvard.edu\\\",\\\"https://www.hsph.harvard.edu/nutritionsource/food-features/coffee/\\\",\\\"Low to moderate doses of caffeine (50–300 mg) may cause increased alertness, energy, and ability to concentrate, while higher doses may have negative effects ...\\\"\"\u001b[0m\n",
      "\u001b[0;32m\"\\\"Coffee health benefits: Diabetes, heart health, liver cancer, ...\\\",\\\"https://www.medicalnewstoday.com/articles/270202\\\",\\\"In some cases, coffee may be good for health, as it may offer benefits such as lowering the risk of type 2 diabetes and helping people lose weight.\\\"\"\u001b[0m\n",
      "\u001b[0;32m\"\\\"9 Health Benefits of Coffee, Based on Science\\\",\\\"https://www.healthline.com/nutrition/top-evidence-based-health-benefits-of-coffee\\\",\\\"Coffee contains caffeine, a stimulant that has been shown to increase energy levels and decrease fatigue by altering levels of certain ...\\\"\"\u001b[0m\n",
      "\u001b[0;32m\"\\\"The Coffee Bean & Tea Leaf | CBTL\\\",\\\"https://www.coffeebean.com/\\\",\\\"Born and brewed in Southern California since 1963, The Coffee Bean & Tea Leaf® is passionate about connecting loyal customers with carefully handcrafted ...\\\"\"\u001b[0m\n"
     ]
    }
   ],
   "source": [
    "curl -s \"https://serpapi.com/search.json\" \\\n",
    "  --get \\\n",
    "  --data-urlencode \"q=Coffee\" \\\n",
    "  --data-urlencode \"location=Austin, Texas, United States\" \\\n",
    "  --data-urlencode \"hl=en\" \\\n",
    "  --data-urlencode \"gl=us\" \\\n",
    "  --data-urlencode \"google_domain=google.com\"\\\n",
    "  | jq '.organic_results[] | [.title,.link, .snippet] | @csv'"
   ]
  },
  {
   "cell_type": "markdown",
   "metadata": {
    "vscode": {
     "languageId": "shellscript"
    }
   },
   "source": [
    "## Country Info API\n",
    "\n",
    "* **main website**: https://countryinfoapi.com\n",
    "* **API docs**: https://countryinfoapi.com\n",
    "* **Purpose**: fetch additional info about a country/continent etc\n",
    "* **Example use cases**: \n",
    "    * adding contextual geographical information to a list of cities or countries\n",
    "* **Free API calls**: Yes, without API key\n",
    "* **Rate limiting for free usage**: unknown\n",
    "* **Other Limitations:**\n",
    "\n"
   ]
  },
  {
   "cell_type": "markdown",
   "metadata": {},
   "source": [
    "### Loop example\n",
    "\n",
    "Using a loop to get additional info about a list of countries."
   ]
  },
  {
   "cell_type": "code",
   "execution_count": 81,
   "metadata": {
    "vscode": {
     "languageId": "shellscript"
    }
   },
   "outputs": [
    {
     "name": "stdout",
     "output_type": "stream",
     "text": [
      "\u001b[0;32m\"\\\"France\\\",\\\"Europe\\\",67391582\"\u001b[0m\n",
      "\u001b[0;32m\"\\\"Togo\\\",\\\"Africa\\\",8278737\"\u001b[0m\n",
      "\u001b[0;32m\"\\\"Italy\\\",\\\"Europe\\\",59554023\"\u001b[0m\n",
      "\u001b[0;32m\"\\\"Germany\\\",\\\"Europe\\\",83240525\"\u001b[0m\n",
      "\u001b[0;32m\"\\\"Syria\\\",\\\"Asia\\\",17500657\"\u001b[0m\n",
      "\u001b[0;32m\"\\\"Ivory Coast\\\",\\\"Africa\\\",26378275\"\u001b[0m\n",
      "\u001b[0;32m\"\\\"New Zealand\\\",\\\"Oceania\\\",5084300\"\u001b[0m\n"
     ]
    }
   ],
   "source": [
    "# the api structure doesn't use a typical REST format, so we use jq's uri encoding\n",
    "# instead of --data-urlencode\n",
    "\n",
    "countries=(\"France\" \"Togo\" \"Italy\" \"Germany\" \"Syria\" \"Ivory Coast\" \"New Zealand\")\n",
    "\n",
    "for i in \"${countries[@]}\"\n",
    "do  \n",
    "    country=$(echo -n \"$i\" | jq -sRr @uri)\n",
    "    curl -s \"https://countryinfoapi.com/api/countries/name/$country\" | jq '[.name,.region,.population] | @csv'\n",
    "done\n"
   ]
  },
  {
   "cell_type": "markdown",
   "metadata": {},
   "source": [
    "## Open Meteo API\n",
    "\n",
    "* **main website**: https://api.open-meteo.com\n",
    "* **API docs**: https://open-meteo.com/en/docs\n",
    "* **Purpose**: get historical weather data, weather forecast data, marine weather data and climate change-related data\n",
    "* **Example use cases**: \n",
    "    * monitor flood risks related to heavy rains\n",
    "    * Monitor weather to adjust field deployments\n",
    "    * Compare how different locations are affected by climate change\n",
    "* **Free API calls**: Yes, without API key\n",
    "* **Rate limiting for free usage**: 10,000 /day\n",
    "* **Other Limitations:**"
   ]
  },
  {
   "cell_type": "markdown",
   "metadata": {},
   "source": [
    "### Basic example\n",
    "\n",
    "Summarized wth the outliner function."
   ]
  },
  {
   "cell_type": "code",
   "execution_count": 58,
   "metadata": {
    "vscode": {
     "languageId": "shellscript"
    }
   },
   "outputs": [
    {
     "name": "stdout",
     "output_type": "stream",
     "text": [
      "\u001b[1;39m{\n",
      "  \u001b[0m\u001b[1;34m\"elevation\"\u001b[0m\u001b[1;39m: \u001b[0m\u001b[1;39m[]\u001b[0m\u001b[1;39m,\n",
      "  \u001b[0m\u001b[1;34m\"generationtime_ms\"\u001b[0m\u001b[1;39m: \u001b[0m\u001b[1;39m[]\u001b[0m\u001b[1;39m,\n",
      "  \u001b[0m\u001b[1;34m\"hourly\"\u001b[0m\u001b[1;39m: \u001b[0m\u001b[1;39m[\n",
      "    \u001b[0;32m\".precipitation\"\u001b[0m\u001b[1;39m,\n",
      "    \u001b[0;32m\".precipitation.[]\"\u001b[0m\u001b[1;39m,\n",
      "    \u001b[0;32m\".time\"\u001b[0m\u001b[1;39m,\n",
      "    \u001b[0;32m\".time.[]\"\u001b[0m\u001b[1;39m\n",
      "  \u001b[1;39m]\u001b[0m\u001b[1;39m,\n",
      "  \u001b[0m\u001b[1;34m\"hourly_units\"\u001b[0m\u001b[1;39m: \u001b[0m\u001b[1;39m[\n",
      "    \u001b[0;32m\".precipitation\"\u001b[0m\u001b[1;39m,\n",
      "    \u001b[0;32m\".time\"\u001b[0m\u001b[1;39m\n",
      "  \u001b[1;39m]\u001b[0m\u001b[1;39m,\n",
      "  \u001b[0m\u001b[1;34m\"latitude\"\u001b[0m\u001b[1;39m: \u001b[0m\u001b[1;39m[]\u001b[0m\u001b[1;39m,\n",
      "  \u001b[0m\u001b[1;34m\"longitude\"\u001b[0m\u001b[1;39m: \u001b[0m\u001b[1;39m[]\u001b[0m\u001b[1;39m,\n",
      "  \u001b[0m\u001b[1;34m\"timezone\"\u001b[0m\u001b[1;39m: \u001b[0m\u001b[1;39m[]\u001b[0m\u001b[1;39m,\n",
      "  \u001b[0m\u001b[1;34m\"timezone_abbreviation\"\u001b[0m\u001b[1;39m: \u001b[0m\u001b[1;39m[]\u001b[0m\u001b[1;39m,\n",
      "  \u001b[0m\u001b[1;34m\"utc_offset_seconds\"\u001b[0m\u001b[1;39m: \u001b[0m\u001b[1;39m[]\u001b[0m\u001b[1;39m\n",
      "\u001b[1;39m}\u001b[0m\n"
     ]
    }
   ],
   "source": [
    "curl -s \"https://api.open-meteo.com/v1/forecast\" \\\n",
    "  --get \\\n",
    "  --data-urlencode \"latitude=52.5200\" \\\n",
    "  --data-urlencode \"longitude=13.4050\" \\\n",
    "  --data-urlencode \"hourly=precipitation\" \\\n",
    "  --data-urlencode \"start_date=2024-04-10\" \\\n",
    "  --data-urlencode \"end_date=2024-04-11\" \\\n",
    "  --data-urlencode \"timezone=auto\" \\\n",
    "| jq \"$jq_outline\""
   ]
  },
  {
   "cell_type": "markdown",
   "metadata": {},
   "source": [
    "### Calculating daily precipitations\n",
    "\n",
    "Relevant for analysis around flood risks.  \n",
    "Same query as before, but the timeframe is extened over 5 days instead of 24h"
   ]
  },
  {
   "cell_type": "code",
   "execution_count": 59,
   "metadata": {
    "vscode": {
     "languageId": "shellscript"
    }
   },
   "outputs": [
    {
     "name": "stdout",
     "output_type": "stream",
     "text": [
      "\u001b[0;39m0.9000000000000001\u001b[0m\n"
     ]
    }
   ],
   "source": [
    "curl -s \"https://api.open-meteo.com/v1/forecast\" \\\n",
    "  --get \\\n",
    "  --data-urlencode \"latitude=52.5200\" \\\n",
    "  --data-urlencode \"longitude=13.4050\" \\\n",
    "  --data-urlencode \"hourly=precipitation\" \\\n",
    "  --data-urlencode \"start_date=2024-04-10\" \\\n",
    "  --data-urlencode \"end_date=2024-04-15\" \\\n",
    "  --data-urlencode \"timezone=auto\" \\\n",
    "| jq '[.hourly.precipitation[]] | add'"
   ]
  },
  {
   "cell_type": "markdown",
   "metadata": {},
   "source": [
    "## Healthsites.io\n",
    "\n",
    "* **main website**: https://healthsites.io\n",
    "* **API docs**: https://healthsites.io/api/docs/\n",
    "* **Purpose**: get structured data about health amenities from OpenStreetMap\n",
    "* **Example use cases**: \n",
    "    * measure health infrastructure accessibility\n",
    "* **Free API calls**: Yes, with API key\n",
    "* **Rate limiting for free usage**: unknown\n",
    "* **Other Limitations:**"
   ]
  },
  {
   "cell_type": "markdown",
   "metadata": {},
   "source": [
    "## Nominatim\n",
    "\n",
    "* **main website**: https://nominatim.org/\n",
    "* **API docs**: https://nominatim.org/release-docs/develop/api/Overview/\n",
    "* **Purpose**: Geocoding and reverse geocoding\n",
    "* **Example use cases**: \n",
    "    * find the coordinates of specific addresses or amenities\n",
    "    * find an address based on its coordinates\n",
    "* **Free API calls**: Yes, without API key\n",
    "* **Rate limiting for free usage**: 1 request per second\n",
    "* **Other Limitations:**\n",
    "    * Usage policy: https://operations.osmfoundation.org/policies/nominatim/ "
   ]
  },
  {
   "cell_type": "markdown",
   "metadata": {},
   "source": [
    "Reliefweb"
   ]
  },
  {
   "cell_type": "code",
   "execution_count": 89,
   "metadata": {
    "vscode": {
     "languageId": "shellscript"
    }
   },
   "outputs": [
    {
     "name": "stdout",
     "output_type": "stream",
     "text": [
      "Fetching general reports for earthquake...\n",
      "URL: https://api.reliefweb.int/v1/reports?appname=your_app_name&query[value]=earthquake&limit=5\n",
      "No general data found for earthquake.\n",
      "Fetching general reports for flood...\n",
      "URL: https://api.reliefweb.int/v1/reports?appname=your_app_name&query[value]=flood&limit=5\n",
      "No general data found for flood.\n"
     ]
    }
   ],
   "source": [
    "APPNAME=\"your_app_name\"  # Replace with your actual ReliefWeb app name\n",
    "DISASTER_TYPES=(\"earthquake\" \"flood\")  # Disaster types array\n",
    "LIMIT=5  # Results limit for simplicity\n",
    "\n",
    "BASE_URL=\"https://api.reliefweb.int/v1/reports\"\n",
    "\n",
    "for DISASTER in \"${DISASTER_TYPES[@]}\"; do\n",
    "    echo \"Fetching general reports for $DISASTER...\"\n",
    "    REQUEST_URL=\"${BASE_URL}?appname=${APPNAME}&query[value]=${DISASTER}&limit=${LIMIT}\"\n",
    "    echo \"URL: $REQUEST_URL\"  # Print the request URL\n",
    "\n",
    "    RESPONSE=$(curl -s \"$REQUEST_URL\")\n",
    "    \n",
    "    if [[ $(echo $RESPONSE | jq '.data | length') -eq 0 ]]; then\n",
    "        echo \"No general data found for $DISASTER.\"\n",
    "    else\n",
    "        echo \"Data found for $DISASTER, refining search to include funding themes...\"\n",
    "        # Now refine the search to include funding\n",
    "        FUNDING_URL=\"${REQUEST_URL}&filter[field]=theme.name&filter[value]=funding\"\n",
    "        FUNDING_RESPONSE=$(curl -s \"$FUNDING_URL\")\n",
    "        if [[ $(echo $FUNDING_RESPONSE | jq '.data | length') -eq 0 ]]; then\n",
    "            echo \"No funding specific data found for $DISASTER.\"\n",
    "        else\n",
    "            echo $FUNDING_RESPONSE | jq '.data[] | {title: .fields.title, url: .fields.url, country: .fields.primary_country.name, date: .fields.date.created}'\n",
    "        fi\n",
    "    fi\n",
    "done\n"
   ]
  }
 ],
 "metadata": {
  "kernelspec": {
   "display_name": "Bash",
   "language": "bash",
   "name": "bash"
  },
  "language_info": {
   "codemirror_mode": "shell",
   "file_extension": ".sh",
   "mimetype": "text/x-sh",
   "name": "bash"
  }
 },
 "nbformat": 4,
 "nbformat_minor": 2
}
